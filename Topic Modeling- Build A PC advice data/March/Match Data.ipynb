{
  "cells": [
    {
      "cell_type": "code",
      "execution_count": 1,
      "metadata": {
        "id": "jr3Q6G1ix0KV"
      },
      "outputs": [],
      "source": [
        "import nltk"
      ]
    },
    {
      "cell_type": "markdown",
      "metadata": {
        "id": "9fPwsKk-ywkq"
      },
      "source": [
        "nltk is used for stopwords"
      ]
    },
    {
      "cell_type": "code",
      "execution_count": 2,
      "metadata": {
        "colab": {
          "base_uri": "https://localhost:8080/"
        },
        "id": "jFqvajG41t4w",
        "outputId": "0a2543f4-792d-4470-adf4-19f534e95dd5"
      },
      "outputs": [
        {
          "output_type": "stream",
          "name": "stdout",
          "text": [
            "Collecting pyLDAvis\n",
            "  Downloading pyLDAvis-3.4.1-py3-none-any.whl (2.6 MB)\n",
            "\u001b[2K     \u001b[90m━━━━━━━━━━━━━━━━━━━━━━━━━━━━━━━━━━━━━━━━\u001b[0m \u001b[32m2.6/2.6 MB\u001b[0m \u001b[31m8.3 MB/s\u001b[0m eta \u001b[36m0:00:00\u001b[0m\n",
            "\u001b[?25hCollecting numpy>=1.24.2 (from pyLDAvis)\n",
            "  Downloading numpy-1.26.1-cp310-cp310-manylinux_2_17_x86_64.manylinux2014_x86_64.whl (18.2 MB)\n",
            "\u001b[2K     \u001b[90m━━━━━━━━━━━━━━━━━━━━━━━━━━━━━━━━━━━━━━━━\u001b[0m \u001b[32m18.2/18.2 MB\u001b[0m \u001b[31m31.2 MB/s\u001b[0m eta \u001b[36m0:00:00\u001b[0m\n",
            "\u001b[?25hRequirement already satisfied: scipy in /usr/local/lib/python3.10/dist-packages (from pyLDAvis) (1.11.3)\n",
            "Collecting pandas>=2.0.0 (from pyLDAvis)\n",
            "  Downloading pandas-2.1.1-cp310-cp310-manylinux_2_17_x86_64.manylinux2014_x86_64.whl (12.3 MB)\n",
            "\u001b[2K     \u001b[90m━━━━━━━━━━━━━━━━━━━━━━━━━━━━━━━━━━━━━━━━\u001b[0m \u001b[32m12.3/12.3 MB\u001b[0m \u001b[31m51.1 MB/s\u001b[0m eta \u001b[36m0:00:00\u001b[0m\n",
            "\u001b[?25hRequirement already satisfied: joblib>=1.2.0 in /usr/local/lib/python3.10/dist-packages (from pyLDAvis) (1.3.2)\n",
            "Requirement already satisfied: jinja2 in /usr/local/lib/python3.10/dist-packages (from pyLDAvis) (3.1.2)\n",
            "Requirement already satisfied: numexpr in /usr/local/lib/python3.10/dist-packages (from pyLDAvis) (2.8.7)\n",
            "Collecting funcy (from pyLDAvis)\n",
            "  Downloading funcy-2.0-py2.py3-none-any.whl (30 kB)\n",
            "Requirement already satisfied: scikit-learn>=1.0.0 in /usr/local/lib/python3.10/dist-packages (from pyLDAvis) (1.2.2)\n",
            "Requirement already satisfied: gensim in /usr/local/lib/python3.10/dist-packages (from pyLDAvis) (4.3.2)\n",
            "Requirement already satisfied: setuptools in /usr/local/lib/python3.10/dist-packages (from pyLDAvis) (67.7.2)\n",
            "Requirement already satisfied: python-dateutil>=2.8.2 in /usr/local/lib/python3.10/dist-packages (from pandas>=2.0.0->pyLDAvis) (2.8.2)\n",
            "Requirement already satisfied: pytz>=2020.1 in /usr/local/lib/python3.10/dist-packages (from pandas>=2.0.0->pyLDAvis) (2023.3.post1)\n",
            "Collecting tzdata>=2022.1 (from pandas>=2.0.0->pyLDAvis)\n",
            "  Downloading tzdata-2023.3-py2.py3-none-any.whl (341 kB)\n",
            "\u001b[2K     \u001b[90m━━━━━━━━━━━━━━━━━━━━━━━━━━━━━━━━━━━━━━━━\u001b[0m \u001b[32m341.8/341.8 kB\u001b[0m \u001b[31m25.9 MB/s\u001b[0m eta \u001b[36m0:00:00\u001b[0m\n",
            "\u001b[?25hRequirement already satisfied: threadpoolctl>=2.0.0 in /usr/local/lib/python3.10/dist-packages (from scikit-learn>=1.0.0->pyLDAvis) (3.2.0)\n",
            "Requirement already satisfied: smart-open>=1.8.1 in /usr/local/lib/python3.10/dist-packages (from gensim->pyLDAvis) (6.4.0)\n",
            "Requirement already satisfied: MarkupSafe>=2.0 in /usr/local/lib/python3.10/dist-packages (from jinja2->pyLDAvis) (2.1.3)\n",
            "Requirement already satisfied: six>=1.5 in /usr/local/lib/python3.10/dist-packages (from python-dateutil>=2.8.2->pandas>=2.0.0->pyLDAvis) (1.16.0)\n",
            "Installing collected packages: funcy, tzdata, numpy, pandas, pyLDAvis\n",
            "  Attempting uninstall: numpy\n",
            "    Found existing installation: numpy 1.23.5\n",
            "    Uninstalling numpy-1.23.5:\n",
            "      Successfully uninstalled numpy-1.23.5\n",
            "  Attempting uninstall: pandas\n",
            "    Found existing installation: pandas 1.5.3\n",
            "    Uninstalling pandas-1.5.3:\n",
            "      Successfully uninstalled pandas-1.5.3\n",
            "\u001b[31mERROR: pip's dependency resolver does not currently take into account all the packages that are installed. This behaviour is the source of the following dependency conflicts.\n",
            "cupy-cuda11x 11.0.0 requires numpy<1.26,>=1.20, but you have numpy 1.26.1 which is incompatible.\n",
            "google-colab 1.0.0 requires pandas==1.5.3, but you have pandas 2.1.1 which is incompatible.\n",
            "numba 0.56.4 requires numpy<1.24,>=1.18, but you have numpy 1.26.1 which is incompatible.\n",
            "tensorflow 2.13.0 requires numpy<=1.24.3,>=1.22, but you have numpy 1.26.1 which is incompatible.\u001b[0m\u001b[31m\n",
            "\u001b[0mSuccessfully installed funcy-2.0 numpy-1.26.1 pandas-2.1.1 pyLDAvis-3.4.1 tzdata-2023.3\n"
          ]
        }
      ],
      "source": [
        "!pip install pyLDAvis"
      ]
    },
    {
      "cell_type": "code",
      "execution_count": 3,
      "metadata": {
        "id": "pQ2sxjbiy55x"
      },
      "outputs": [],
      "source": [
        "import numpy as np\n",
        "import json\n",
        "import glob\n",
        "\n",
        "#Gensim\n",
        "import gensim\n",
        "import gensim.corpora as corpora\n",
        "from gensim.utils import simple_preprocess\n",
        "from gensim.models import CoherenceModel\n",
        "\n",
        "#spacy\n",
        "import spacy\n",
        "from nltk.corpus import stopwords\n",
        "\n",
        "#vis\n",
        "import pyLDAvis\n",
        "import pyLDAvis.gensim\n",
        "\n",
        "import warnings\n",
        "warnings.filterwarnings(\"ignore\", category=DeprecationWarning) #ignore warnings"
      ]
    },
    {
      "cell_type": "code",
      "execution_count": 4,
      "metadata": {
        "id": "-LW0YYvJy7FD"
      },
      "outputs": [],
      "source": [
        "def load_data(file):\n",
        "  with open (file, \"r\", encoding = \"utf-8\") as f:\n",
        "    data = json.load(f)\n",
        "  return (data)\n",
        "\n",
        "def write_data(file, data):\n",
        "  with open (file, \"w\", encoding = \"utf-8\") as f:\n",
        "    json.dump(data, f, indent=4)"
      ]
    },
    {
      "cell_type": "code",
      "execution_count": null,
      "metadata": {
        "id": "wDpxSfbSZ05n"
      },
      "outputs": [],
      "source": []
    },
    {
      "cell_type": "markdown",
      "metadata": {
        "id": "-jLUTHFt3SSp"
      },
      "source": [
        "list of stopwords from https://gist.github.com/sebleier/554280"
      ]
    },
    {
      "cell_type": "code",
      "execution_count": 5,
      "metadata": {
        "id": "fMQUkBML2ZN6"
      },
      "outputs": [],
      "source": [
        "stopwords = [\"0o\", \"0s\", \"3a\", \"3b\", \"3d\", \"6b\", \"6o\", \"a\", \"a1\", \"a2\", \"a3\", \"a4\", \"ab\", \"able\", \"about\", \"above\", \"abst\", \"ac\", \"accordance\", \"according\", \"accordingly\", \"across\", \"act\", \"actually\", \"ad\", \"added\", \"adj\", \"ae\", \"af\", \"affected\", \"affecting\", \"affects\", \"after\", \"afterwards\", \"ag\", \"again\", \"against\", \"ah\", \"ain\", \"ain't\", \"aj\", \"al\", \"all\", \"allow\", \"allows\", \"almost\", \"alone\", \"along\", \"already\", \"also\", \"although\", \"always\", \"am\", \"among\", \"amongst\", \"amoungst\", \"amount\", \"an\", \"and\", \"announce\", \"another\", \"any\", \"anybody\", \"anyhow\", \"anymore\", \"anyone\", \"anything\", \"anyway\", \"anyways\", \"anywhere\", \"ao\", \"ap\", \"apart\", \"apparently\", \"appear\", \"appreciate\", \"appropriate\", \"approximately\", \"ar\", \"are\", \"aren\", \"arent\", \"aren't\", \"arise\", \"around\", \"as\", \"a's\", \"aside\", \"ask\", \"asking\", \"associated\", \"at\", \"au\", \"auth\", \"av\", \"available\", \"aw\", \"away\", \"awfully\", \"ax\", \"ay\", \"az\", \"b\", \"b1\", \"b2\", \"b3\", \"ba\", \"back\", \"bc\", \"bd\", \"be\", \"became\", \"because\", \"become\", \"becomes\", \"becoming\", \"been\", \"before\", \"beforehand\", \"begin\", \"beginning\", \"beginnings\", \"begins\", \"behind\", \"being\", \"believe\", \"below\", \"beside\", \"besides\", \"best\", \"better\", \"between\", \"beyond\", \"bi\", \"bill\", \"biol\", \"bj\", \"bk\", \"bl\", \"bn\", \"both\", \"bottom\", \"bp\", \"br\", \"brief\", \"briefly\", \"bs\", \"bt\", \"bu\", \"but\", \"bx\", \"by\", \"c\", \"c1\", \"c2\", \"c3\", \"ca\", \"call\", \"came\", \"can\", \"cannot\", \"cant\", \"can't\", \"cause\", \"causes\", \"cc\", \"cd\", \"ce\", \"certain\", \"certainly\", \"cf\", \"cg\", \"ch\", \"changes\", \"ci\", \"cit\", \"cj\", \"cl\", \"clearly\", \"cm\", \"c'mon\", \"cn\", \"co\", \"com\", \"come\", \"comes\", \"con\", \"concerning\", \"consequently\", \"consider\", \"considering\", \"contain\", \"containing\", \"contains\", \"corresponding\", \"could\", \"couldn\", \"couldnt\", \"couldn't\", \"course\", \"cp\", \"cq\", \"cr\", \"cry\", \"cs\", \"c's\", \"ct\", \"cu\", \"currently\", \"cv\", \"cx\", \"cy\", \"cz\", \"d\", \"d2\", \"da\", \"date\", \"dc\", \"dd\", \"de\", \"definitely\", \"describe\", \"described\", \"despite\", \"detail\", \"df\", \"di\", \"did\", \"didn\", \"didn't\", \"different\", \"dj\", \"dk\", \"dl\", \"do\", \"does\", \"doesn\", \"doesn't\", \"doing\", \"don\", \"done\", \"don't\", \"down\", \"downwards\", \"dp\", \"dr\", \"ds\", \"dt\", \"du\", \"due\", \"during\", \"dx\", \"dy\", \"e\", \"e2\", \"e3\", \"ea\", \"each\", \"ec\", \"ed\", \"edu\", \"ee\", \"ef\", \"effect\", \"eg\", \"ei\", \"eight\", \"eighty\", \"either\", \"ej\", \"el\", \"eleven\", \"else\", \"elsewhere\", \"em\", \"empty\", \"en\", \"end\", \"ending\", \"enough\", \"entirely\", \"eo\", \"ep\", \"eq\", \"er\", \"es\", \"especially\", \"est\", \"et\", \"et-al\", \"etc\", \"eu\", \"ev\", \"even\", \"ever\", \"every\", \"everybody\", \"everyone\", \"everything\", \"everywhere\", \"ex\", \"exactly\", \"example\", \"except\", \"ey\", \"f\", \"f2\", \"fa\", \"far\", \"fc\", \"few\", \"ff\", \"fi\", \"fifteen\", \"fifth\", \"fify\", \"fill\", \"find\", \"fire\", \"first\", \"five\", \"fix\", \"fj\", \"fl\", \"fn\", \"fo\", \"followed\", \"following\", \"follows\", \"for\", \"former\", \"formerly\", \"forth\", \"forty\", \"found\", \"four\", \"fr\", \"from\", \"front\", \"fs\", \"ft\", \"fu\", \"full\", \"further\", \"furthermore\", \"fy\", \"g\", \"ga\", \"gave\", \"ge\", \"get\", \"gets\", \"getting\", \"gi\", \"give\", \"given\", \"gives\", \"giving\", \"gj\", \"gl\", \"go\", \"goes\", \"going\", \"gone\", \"got\", \"gotten\", \"gr\", \"greetings\", \"gs\", \"gy\", \"h\", \"h2\", \"h3\", \"had\", \"hadn\", \"hadn't\", \"happens\", \"hardly\", \"has\", \"hasn\", \"hasnt\", \"hasn't\", \"have\", \"haven\", \"haven't\", \"having\", \"he\", \"hed\", \"he'd\", \"he'll\", \"hello\", \"help\", \"hence\", \"her\", \"here\", \"hereafter\", \"hereby\", \"herein\", \"heres\", \"here's\", \"hereupon\", \"hers\", \"herself\", \"hes\", \"he's\", \"hh\", \"hi\", \"hid\", \"him\", \"himself\", \"his\", \"hither\", \"hj\", \"ho\", \"home\", \"hopefully\", \"how\", \"howbeit\", \"however\", \"how's\", \"hr\", \"hs\", \"http\", \"hu\", \"hundred\", \"hy\", \"i\", \"i2\", \"i3\", \"i4\", \"i6\", \"i7\", \"i8\", \"ia\", \"ib\", \"ibid\", \"ic\", \"id\", \"i'd\", \"ie\", \"if\", \"ig\", \"ignored\", \"ih\", \"ii\", \"ij\", \"il\", \"i'll\", \"im\", \"i'm\", \"immediate\", \"immediately\", \"importance\", \"important\", \"in\", \"inasmuch\", \"inc\", \"indeed\", \"index\", \"indicate\", \"indicated\", \"indicates\", \"information\", \"inner\", \"insofar\", \"instead\", \"interest\", \"into\", \"invention\", \"inward\", \"io\", \"ip\", \"iq\", \"ir\", \"is\", \"isn\", \"isn't\", \"it\", \"itd\", \"it'd\", \"it'll\", \"its\", \"it's\", \"itself\", \"iv\", \"i've\", \"ix\", \"iy\", \"iz\", \"j\", \"jj\", \"jr\", \"js\", \"jt\", \"ju\", \"just\", \"k\", \"ke\", \"keep\", \"keeps\", \"kept\", \"kg\", \"kj\", \"km\", \"know\", \"known\", \"knows\", \"ko\", \"l\", \"l2\", \"la\", \"largely\", \"last\", \"lately\", \"later\", \"latter\", \"latterly\", \"lb\", \"lc\", \"le\", \"least\", \"les\", \"less\", \"lest\", \"let\", \"lets\", \"let's\", \"lf\", \"like\", \"liked\", \"likely\", \"line\", \"little\", \"lj\", \"ll\", \"ll\", \"ln\", \"lo\", \"look\", \"looking\", \"looks\", \"los\", \"lr\", \"ls\", \"lt\", \"ltd\", \"m\", \"m2\", \"ma\", \"made\", \"mainly\", \"make\", \"makes\", \"many\", \"may\", \"maybe\", \"me\", \"mean\", \"means\", \"meantime\", \"meanwhile\", \"merely\", \"mg\", \"might\", \"mightn\", \"mightn't\", \"mill\", \"million\", \"mine\", \"miss\", \"ml\", \"mn\", \"mo\", \"more\", \"moreover\", \"most\", \"mostly\", \"move\", \"mr\", \"mrs\", \"ms\", \"mt\", \"mu\", \"much\", \"mug\", \"must\", \"mustn\", \"mustn't\", \"my\", \"myself\", \"n\", \"n2\", \"na\", \"name\", \"namely\", \"nay\", \"nc\", \"nd\", \"ne\", \"near\", \"nearly\", \"necessarily\", \"necessary\", \"need\", \"needn\", \"needn't\", \"needs\", \"neither\", \"never\", \"nevertheless\", \"new\", \"next\", \"ng\", \"ni\", \"nine\", \"ninety\", \"nj\", \"nl\", \"nn\", \"no\", \"nobody\", \"non\", \"none\", \"nonetheless\", \"noone\", \"nor\", \"normally\", \"nos\", \"not\", \"noted\", \"nothing\", \"novel\", \"now\", \"nowhere\", \"nr\", \"ns\", \"nt\", \"ny\", \"o\", \"oa\", \"ob\", \"obtain\", \"obtained\", \"obviously\", \"oc\", \"od\", \"of\", \"off\", \"often\", \"og\", \"oh\", \"oi\", \"oj\", \"ok\", \"okay\", \"ol\", \"old\", \"om\", \"omitted\", \"on\", \"once\", \"one\", \"ones\", \"only\", \"onto\", \"oo\", \"op\", \"oq\", \"or\", \"ord\", \"os\", \"ot\", \"other\", \"others\", \"otherwise\", \"ou\", \"ought\", \"our\", \"ours\", \"ourselves\", \"out\", \"outside\", \"over\", \"overall\", \"ow\", \"owing\", \"own\", \"ox\", \"oz\", \"p\", \"p1\", \"p2\", \"p3\", \"page\", \"pagecount\", \"pages\", \"par\", \"part\", \"particular\", \"particularly\", \"pas\", \"past\", \"pc\", \"pd\", \"pe\", \"per\", \"perhaps\", \"pf\", \"ph\", \"pi\", \"pj\", \"pk\", \"pl\", \"placed\", \"please\", \"plus\", \"pm\", \"pn\", \"po\", \"poorly\", \"possible\", \"possibly\", \"potentially\", \"pp\", \"pq\", \"pr\", \"predominantly\", \"present\", \"presumably\", \"previously\", \"primarily\", \"probably\", \"promptly\", \"proud\", \"provides\", \"ps\", \"pt\", \"pu\", \"put\", \"py\", \"q\", \"qj\", \"qu\", \"que\", \"quickly\", \"quite\", \"qv\", \"r\", \"r2\", \"ra\", \"ran\", \"rather\", \"rc\", \"rd\", \"re\", \"readily\", \"really\", \"reasonably\", \"recent\", \"recently\", \"ref\", \"refs\", \"regarding\", \"regardless\", \"regards\", \"related\", \"relatively\", \"research\", \"research-articl\", \"respectively\", \"resulted\", \"resulting\", \"results\", \"rf\", \"rh\", \"ri\", \"right\", \"rj\", \"rl\", \"rm\", \"rn\", \"ro\", \"rq\", \"rr\", \"rs\", \"rt\", \"ru\", \"run\", \"rv\", \"ry\", \"s\", \"s2\", \"sa\", \"said\", \"same\", \"saw\", \"say\", \"saying\", \"says\", \"sc\", \"sd\", \"se\", \"sec\", \"second\", \"secondly\", \"section\", \"see\", \"seeing\", \"seem\", \"seemed\", \"seeming\", \"seems\", \"seen\", \"self\", \"selves\", \"sensible\", \"sent\", \"serious\", \"seriously\", \"seven\", \"several\", \"sf\", \"shall\", \"shan\", \"shan't\", \"she\", \"shed\", \"she'd\", \"she'll\", \"shes\", \"she's\", \"should\", \"shouldn\", \"shouldn't\", \"should've\", \"show\", \"showed\", \"shown\", \"showns\", \"shows\", \"si\", \"side\", \"significant\", \"significantly\", \"similar\", \"similarly\", \"since\", \"sincere\", \"six\", \"sixty\", \"sj\", \"sl\", \"slightly\", \"sm\", \"sn\", \"so\", \"some\", \"somebody\", \"somehow\", \"someone\", \"somethan\", \"something\", \"sometime\", \"sometimes\", \"somewhat\", \"somewhere\", \"soon\", \"sorry\", \"sp\", \"specifically\", \"specified\", \"specify\", \"specifying\", \"sq\", \"sr\", \"ss\", \"st\", \"still\", \"stop\", \"strongly\", \"sub\", \"substantially\", \"successfully\", \"such\", \"sufficiently\", \"suggest\", \"sup\", \"sure\", \"sy\", \"system\", \"sz\", \"t\", \"t1\", \"t2\", \"t3\", \"take\", \"taken\", \"taking\", \"tb\", \"tc\", \"td\", \"te\", \"tell\", \"ten\", \"tends\", \"tf\", \"th\", \"than\", \"thank\", \"thanks\", \"thanx\", \"that\", \"that'll\", \"thats\", \"that's\", \"that've\", \"the\", \"their\", \"theirs\", \"them\", \"themselves\", \"then\", \"thence\", \"there\", \"thereafter\", \"thereby\", \"thered\", \"therefore\", \"therein\", \"there'll\", \"thereof\", \"therere\", \"theres\", \"there's\", \"thereto\", \"thereupon\", \"there've\", \"these\", \"they\", \"theyd\", \"they'd\", \"they'll\", \"theyre\", \"they're\", \"they've\", \"thickv\", \"thin\", \"think\", \"third\", \"this\", \"thorough\", \"thoroughly\", \"those\", \"thou\", \"though\", \"thoughh\", \"thousand\", \"three\", \"throug\", \"through\", \"throughout\", \"thru\", \"thus\", \"ti\", \"til\", \"tip\", \"tj\", \"tl\", \"tm\", \"tn\", \"to\", \"together\", \"too\", \"took\", \"top\", \"toward\", \"towards\", \"tp\", \"tq\", \"tr\", \"tried\", \"tries\", \"truly\", \"try\", \"trying\", \"ts\", \"t's\", \"tt\", \"tv\", \"twelve\", \"twenty\", \"twice\", \"two\", \"tx\", \"u\", \"u201d\", \"ue\", \"ui\", \"uj\", \"uk\", \"um\", \"un\", \"under\", \"unfortunately\", \"unless\", \"unlike\", \"unlikely\", \"until\", \"unto\", \"uo\", \"up\", \"upon\", \"ups\", \"ur\", \"us\", \"use\", \"used\", \"useful\", \"usefully\", \"usefulness\", \"uses\", \"using\", \"usually\", \"ut\", \"v\", \"va\", \"value\", \"various\", \"vd\", \"ve\", \"ve\", \"very\", \"via\", \"viz\", \"vj\", \"vo\", \"vol\", \"vols\", \"volumtype\", \"vq\", \"vs\", \"vt\", \"vu\", \"w\", \"wa\", \"want\", \"wants\", \"was\", \"wasn\", \"wasnt\", \"wasn't\", \"way\", \"we\", \"wed\", \"we'd\", \"welcome\", \"well\", \"we'll\", \"well-b\", \"went\", \"were\", \"we're\", \"weren\", \"werent\", \"weren't\", \"we've\", \"what\", \"whatever\", \"what'll\", \"whats\", \"what's\", \"when\", \"whence\", \"whenever\", \"when's\", \"where\", \"whereafter\", \"whereas\", \"whereby\", \"wherein\", \"wheres\", \"where's\", \"whereupon\", \"wherever\", \"whether\", \"which\", \"while\", \"whim\", \"whither\", \"who\", \"whod\", \"whoever\", \"whole\", \"who'll\", \"whom\", \"whomever\", \"whos\", \"who's\", \"whose\", \"why\", \"why's\", \"wi\", \"widely\", \"will\", \"willing\", \"wish\", \"with\", \"within\", \"without\", \"wo\", \"won\", \"wonder\", \"wont\", \"won't\", \"words\", \"world\", \"would\", \"wouldn\", \"wouldnt\", \"wouldn't\", \"www\", \"x\", \"x1\", \"x2\", \"x3\", \"xf\", \"xi\", \"xj\", \"xk\", \"xl\", \"xn\", \"xo\", \"xs\", \"xt\", \"xv\", \"xx\", \"y\", \"y2\", \"yes\", \"yet\", \"yj\", \"yl\", \"you\", \"youd\", \"you'd\", \"you'll\", \"your\", \"youre\", \"you're\", \"yours\", \"yourself\", \"yourselves\", \"you've\", \"yr\", \"ys\", \"yt\", \"z\", \"zero\", \"zi\", \"zz\"]"
      ]
    },
    {
      "cell_type": "code",
      "execution_count": 6,
      "metadata": {
        "id": "L-NJJyU33bL8"
      },
      "outputs": [],
      "source": [
        "stopwords=[i.replace('\"',\"\").strip() for i in stopwords] #what does this do :3 need to learn more\n"
      ]
    },
    {
      "cell_type": "code",
      "execution_count": null,
      "metadata": {
        "colab": {
          "base_uri": "https://localhost:8080/"
        },
        "id": "dkC1ut6I3fYJ",
        "outputId": "442eaf7a-fdcf-4929-e489-bf247ee5ba36"
      },
      "outputs": [
        {
          "name": "stdout",
          "output_type": "stream",
          "text": [
            "['0o', '0s', '3a', '3b', '3d', '6b', '6o', 'a', 'a1', 'a2', 'a3', 'a4', 'ab', 'able', 'about', 'above', 'abst', 'ac', 'accordance', 'according', 'accordingly', 'across', 'act', 'actually', 'ad', 'added', 'adj', 'ae', 'af', 'affected', 'affecting', 'affects', 'after', 'afterwards', 'ag', 'again', 'against', 'ah', 'ain', \"ain't\", 'aj', 'al', 'all', 'allow', 'allows', 'almost', 'alone', 'along', 'already', 'also', 'although', 'always', 'am', 'among', 'amongst', 'amoungst', 'amount', 'an', 'and', 'announce', 'another', 'any', 'anybody', 'anyhow', 'anymore', 'anyone', 'anything', 'anyway', 'anyways', 'anywhere', 'ao', 'ap', 'apart', 'apparently', 'appear', 'appreciate', 'appropriate', 'approximately', 'ar', 'are', 'aren', 'arent', \"aren't\", 'arise', 'around', 'as', \"a's\", 'aside', 'ask', 'asking', 'associated', 'at', 'au', 'auth', 'av', 'available', 'aw', 'away', 'awfully', 'ax', 'ay', 'az', 'b', 'b1', 'b2', 'b3', 'ba', 'back', 'bc', 'bd', 'be', 'became', 'because', 'become', 'becomes', 'becoming', 'been', 'before', 'beforehand', 'begin', 'beginning', 'beginnings', 'begins', 'behind', 'being', 'believe', 'below', 'beside', 'besides', 'best', 'better', 'between', 'beyond', 'bi', 'bill', 'biol', 'bj', 'bk', 'bl', 'bn', 'both', 'bottom', 'bp', 'br', 'brief', 'briefly', 'bs', 'bt', 'bu', 'but', 'bx', 'by', 'c', 'c1', 'c2', 'c3', 'ca', 'call', 'came', 'can', 'cannot', 'cant', \"can't\", 'cause', 'causes', 'cc', 'cd', 'ce', 'certain', 'certainly', 'cf', 'cg', 'ch', 'changes', 'ci', 'cit', 'cj', 'cl', 'clearly', 'cm', \"c'mon\", 'cn', 'co', 'com', 'come', 'comes', 'con', 'concerning', 'consequently', 'consider', 'considering', 'contain', 'containing', 'contains', 'corresponding', 'could', 'couldn', 'couldnt', \"couldn't\", 'course', 'cp', 'cq', 'cr', 'cry', 'cs', \"c's\", 'ct', 'cu', 'currently', 'cv', 'cx', 'cy', 'cz', 'd', 'd2', 'da', 'date', 'dc', 'dd', 'de', 'definitely', 'describe', 'described', 'despite', 'detail', 'df', 'di', 'did', 'didn', \"didn't\", 'different', 'dj', 'dk', 'dl', 'do', 'does', 'doesn', \"doesn't\", 'doing', 'don', 'done', \"don't\", 'down', 'downwards', 'dp', 'dr', 'ds', 'dt', 'du', 'due', 'during', 'dx', 'dy', 'e', 'e2', 'e3', 'ea', 'each', 'ec', 'ed', 'edu', 'ee', 'ef', 'effect', 'eg', 'ei', 'eight', 'eighty', 'either', 'ej', 'el', 'eleven', 'else', 'elsewhere', 'em', 'empty', 'en', 'end', 'ending', 'enough', 'entirely', 'eo', 'ep', 'eq', 'er', 'es', 'especially', 'est', 'et', 'et-al', 'etc', 'eu', 'ev', 'even', 'ever', 'every', 'everybody', 'everyone', 'everything', 'everywhere', 'ex', 'exactly', 'example', 'except', 'ey', 'f', 'f2', 'fa', 'far', 'fc', 'few', 'ff', 'fi', 'fifteen', 'fifth', 'fify', 'fill', 'find', 'fire', 'first', 'five', 'fix', 'fj', 'fl', 'fn', 'fo', 'followed', 'following', 'follows', 'for', 'former', 'formerly', 'forth', 'forty', 'found', 'four', 'fr', 'from', 'front', 'fs', 'ft', 'fu', 'full', 'further', 'furthermore', 'fy', 'g', 'ga', 'gave', 'ge', 'get', 'gets', 'getting', 'gi', 'give', 'given', 'gives', 'giving', 'gj', 'gl', 'go', 'goes', 'going', 'gone', 'got', 'gotten', 'gr', 'greetings', 'gs', 'gy', 'h', 'h2', 'h3', 'had', 'hadn', \"hadn't\", 'happens', 'hardly', 'has', 'hasn', 'hasnt', \"hasn't\", 'have', 'haven', \"haven't\", 'having', 'he', 'hed', \"he'd\", \"he'll\", 'hello', 'help', 'hence', 'her', 'here', 'hereafter', 'hereby', 'herein', 'heres', \"here's\", 'hereupon', 'hers', 'herself', 'hes', \"he's\", 'hh', 'hi', 'hid', 'him', 'himself', 'his', 'hither', 'hj', 'ho', 'home', 'hopefully', 'how', 'howbeit', 'however', \"how's\", 'hr', 'hs', 'http', 'hu', 'hundred', 'hy', 'i', 'i2', 'i3', 'i4', 'i6', 'i7', 'i8', 'ia', 'ib', 'ibid', 'ic', 'id', \"i'd\", 'ie', 'if', 'ig', 'ignored', 'ih', 'ii', 'ij', 'il', \"i'll\", 'im', \"i'm\", 'immediate', 'immediately', 'importance', 'important', 'in', 'inasmuch', 'inc', 'indeed', 'index', 'indicate', 'indicated', 'indicates', 'information', 'inner', 'insofar', 'instead', 'interest', 'into', 'invention', 'inward', 'io', 'ip', 'iq', 'ir', 'is', 'isn', \"isn't\", 'it', 'itd', \"it'd\", \"it'll\", 'its', \"it's\", 'itself', 'iv', \"i've\", 'ix', 'iy', 'iz', 'j', 'jj', 'jr', 'js', 'jt', 'ju', 'just', 'k', 'ke', 'keep', 'keeps', 'kept', 'kg', 'kj', 'km', 'know', 'known', 'knows', 'ko', 'l', 'l2', 'la', 'largely', 'last', 'lately', 'later', 'latter', 'latterly', 'lb', 'lc', 'le', 'least', 'les', 'less', 'lest', 'let', 'lets', \"let's\", 'lf', 'like', 'liked', 'likely', 'line', 'little', 'lj', 'll', 'll', 'ln', 'lo', 'look', 'looking', 'looks', 'los', 'lr', 'ls', 'lt', 'ltd', 'm', 'm2', 'ma', 'made', 'mainly', 'make', 'makes', 'many', 'may', 'maybe', 'me', 'mean', 'means', 'meantime', 'meanwhile', 'merely', 'mg', 'might', 'mightn', \"mightn't\", 'mill', 'million', 'mine', 'miss', 'ml', 'mn', 'mo', 'more', 'moreover', 'most', 'mostly', 'move', 'mr', 'mrs', 'ms', 'mt', 'mu', 'much', 'mug', 'must', 'mustn', \"mustn't\", 'my', 'myself', 'n', 'n2', 'na', 'name', 'namely', 'nay', 'nc', 'nd', 'ne', 'near', 'nearly', 'necessarily', 'necessary', 'need', 'needn', \"needn't\", 'needs', 'neither', 'never', 'nevertheless', 'new', 'next', 'ng', 'ni', 'nine', 'ninety', 'nj', 'nl', 'nn', 'no', 'nobody', 'non', 'none', 'nonetheless', 'noone', 'nor', 'normally', 'nos', 'not', 'noted', 'nothing', 'novel', 'now', 'nowhere', 'nr', 'ns', 'nt', 'ny', 'o', 'oa', 'ob', 'obtain', 'obtained', 'obviously', 'oc', 'od', 'of', 'off', 'often', 'og', 'oh', 'oi', 'oj', 'ok', 'okay', 'ol', 'old', 'om', 'omitted', 'on', 'once', 'one', 'ones', 'only', 'onto', 'oo', 'op', 'oq', 'or', 'ord', 'os', 'ot', 'other', 'others', 'otherwise', 'ou', 'ought', 'our', 'ours', 'ourselves', 'out', 'outside', 'over', 'overall', 'ow', 'owing', 'own', 'ox', 'oz', 'p', 'p1', 'p2', 'p3', 'page', 'pagecount', 'pages', 'par', 'part', 'particular', 'particularly', 'pas', 'past', 'pc', 'pd', 'pe', 'per', 'perhaps', 'pf', 'ph', 'pi', 'pj', 'pk', 'pl', 'placed', 'please', 'plus', 'pm', 'pn', 'po', 'poorly', 'possible', 'possibly', 'potentially', 'pp', 'pq', 'pr', 'predominantly', 'present', 'presumably', 'previously', 'primarily', 'probably', 'promptly', 'proud', 'provides', 'ps', 'pt', 'pu', 'put', 'py', 'q', 'qj', 'qu', 'que', 'quickly', 'quite', 'qv', 'r', 'r2', 'ra', 'ran', 'rather', 'rc', 'rd', 're', 'readily', 'really', 'reasonably', 'recent', 'recently', 'ref', 'refs', 'regarding', 'regardless', 'regards', 'related', 'relatively', 'research', 'research-articl', 'respectively', 'resulted', 'resulting', 'results', 'rf', 'rh', 'ri', 'right', 'rj', 'rl', 'rm', 'rn', 'ro', 'rq', 'rr', 'rs', 'rt', 'ru', 'run', 'rv', 'ry', 's', 's2', 'sa', 'said', 'same', 'saw', 'say', 'saying', 'says', 'sc', 'sd', 'se', 'sec', 'second', 'secondly', 'section', 'see', 'seeing', 'seem', 'seemed', 'seeming', 'seems', 'seen', 'self', 'selves', 'sensible', 'sent', 'serious', 'seriously', 'seven', 'several', 'sf', 'shall', 'shan', \"shan't\", 'she', 'shed', \"she'd\", \"she'll\", 'shes', \"she's\", 'should', 'shouldn', \"shouldn't\", \"should've\", 'show', 'showed', 'shown', 'showns', 'shows', 'si', 'side', 'significant', 'significantly', 'similar', 'similarly', 'since', 'sincere', 'six', 'sixty', 'sj', 'sl', 'slightly', 'sm', 'sn', 'so', 'some', 'somebody', 'somehow', 'someone', 'somethan', 'something', 'sometime', 'sometimes', 'somewhat', 'somewhere', 'soon', 'sorry', 'sp', 'specifically', 'specified', 'specify', 'specifying', 'sq', 'sr', 'ss', 'st', 'still', 'stop', 'strongly', 'sub', 'substantially', 'successfully', 'such', 'sufficiently', 'suggest', 'sup', 'sure', 'sy', 'system', 'sz', 't', 't1', 't2', 't3', 'take', 'taken', 'taking', 'tb', 'tc', 'td', 'te', 'tell', 'ten', 'tends', 'tf', 'th', 'than', 'thank', 'thanks', 'thanx', 'that', \"that'll\", 'thats', \"that's\", \"that've\", 'the', 'their', 'theirs', 'them', 'themselves', 'then', 'thence', 'there', 'thereafter', 'thereby', 'thered', 'therefore', 'therein', \"there'll\", 'thereof', 'therere', 'theres', \"there's\", 'thereto', 'thereupon', \"there've\", 'these', 'they', 'theyd', \"they'd\", \"they'll\", 'theyre', \"they're\", \"they've\", 'thickv', 'thin', 'think', 'third', 'this', 'thorough', 'thoroughly', 'those', 'thou', 'though', 'thoughh', 'thousand', 'three', 'throug', 'through', 'throughout', 'thru', 'thus', 'ti', 'til', 'tip', 'tj', 'tl', 'tm', 'tn', 'to', 'together', 'too', 'took', 'top', 'toward', 'towards', 'tp', 'tq', 'tr', 'tried', 'tries', 'truly', 'try', 'trying', 'ts', \"t's\", 'tt', 'tv', 'twelve', 'twenty', 'twice', 'two', 'tx', 'u', 'u201d', 'ue', 'ui', 'uj', 'uk', 'um', 'un', 'under', 'unfortunately', 'unless', 'unlike', 'unlikely', 'until', 'unto', 'uo', 'up', 'upon', 'ups', 'ur', 'us', 'use', 'used', 'useful', 'usefully', 'usefulness', 'uses', 'using', 'usually', 'ut', 'v', 'va', 'value', 'various', 'vd', 've', 've', 'very', 'via', 'viz', 'vj', 'vo', 'vol', 'vols', 'volumtype', 'vq', 'vs', 'vt', 'vu', 'w', 'wa', 'want', 'wants', 'was', 'wasn', 'wasnt', \"wasn't\", 'way', 'we', 'wed', \"we'd\", 'welcome', 'well', \"we'll\", 'well-b', 'went', 'were', \"we're\", 'weren', 'werent', \"weren't\", \"we've\", 'what', 'whatever', \"what'll\", 'whats', \"what's\", 'when', 'whence', 'whenever', \"when's\", 'where', 'whereafter', 'whereas', 'whereby', 'wherein', 'wheres', \"where's\", 'whereupon', 'wherever', 'whether', 'which', 'while', 'whim', 'whither', 'who', 'whod', 'whoever', 'whole', \"who'll\", 'whom', 'whomever', 'whos', \"who's\", 'whose', 'why', \"why's\", 'wi', 'widely', 'will', 'willing', 'wish', 'with', 'within', 'without', 'wo', 'won', 'wonder', 'wont', \"won't\", 'words', 'world', 'would', 'wouldn', 'wouldnt', \"wouldn't\", 'www', 'x', 'x1', 'x2', 'x3', 'xf', 'xi', 'xj', 'xk', 'xl', 'xn', 'xo', 'xs', 'xt', 'xv', 'xx', 'y', 'y2', 'yes', 'yet', 'yj', 'yl', 'you', 'youd', \"you'd\", \"you'll\", 'your', 'youre', \"you're\", 'yours', 'yourself', 'yourselves', \"you've\", 'yr', 'ys', 'yt', 'z', 'zero', 'zi', 'zz']\n"
          ]
        }
      ],
      "source": [
        "print(stopwords)"
      ]
    },
    {
      "cell_type": "markdown",
      "metadata": {
        "id": "6LbBcrpa4BCm"
      },
      "source": []
    },
    {
      "cell_type": "code",
      "execution_count": 199,
      "metadata": {
        "colab": {
          "base_uri": "https://localhost:8080/",
          "height": 55
        },
        "id": "zcX6Fik-as99",
        "outputId": "09bf6225-d4d6-4ab3-dafa-547d09c7f571"
      },
      "outputs": [
        {
          "output_type": "display_data",
          "data": {
            "text/plain": [
              "<IPython.core.display.HTML object>"
            ],
            "text/html": [
              "\n",
              "     <input type=\"file\" id=\"files-c586b1bb-f9c5-4e0f-81b0-e52ef864a2d7\" name=\"files[]\" multiple disabled\n",
              "        style=\"border:none\" />\n",
              "     <output id=\"result-c586b1bb-f9c5-4e0f-81b0-e52ef864a2d7\">\n",
              "      Upload widget is only available when the cell has been executed in the\n",
              "      current browser session. Please rerun this cell to enable.\n",
              "      </output>\n",
              "      <script>// Copyright 2017 Google LLC\n",
              "//\n",
              "// Licensed under the Apache License, Version 2.0 (the \"License\");\n",
              "// you may not use this file except in compliance with the License.\n",
              "// You may obtain a copy of the License at\n",
              "//\n",
              "//      http://www.apache.org/licenses/LICENSE-2.0\n",
              "//\n",
              "// Unless required by applicable law or agreed to in writing, software\n",
              "// distributed under the License is distributed on an \"AS IS\" BASIS,\n",
              "// WITHOUT WARRANTIES OR CONDITIONS OF ANY KIND, either express or implied.\n",
              "// See the License for the specific language governing permissions and\n",
              "// limitations under the License.\n",
              "\n",
              "/**\n",
              " * @fileoverview Helpers for google.colab Python module.\n",
              " */\n",
              "(function(scope) {\n",
              "function span(text, styleAttributes = {}) {\n",
              "  const element = document.createElement('span');\n",
              "  element.textContent = text;\n",
              "  for (const key of Object.keys(styleAttributes)) {\n",
              "    element.style[key] = styleAttributes[key];\n",
              "  }\n",
              "  return element;\n",
              "}\n",
              "\n",
              "// Max number of bytes which will be uploaded at a time.\n",
              "const MAX_PAYLOAD_SIZE = 100 * 1024;\n",
              "\n",
              "function _uploadFiles(inputId, outputId) {\n",
              "  const steps = uploadFilesStep(inputId, outputId);\n",
              "  const outputElement = document.getElementById(outputId);\n",
              "  // Cache steps on the outputElement to make it available for the next call\n",
              "  // to uploadFilesContinue from Python.\n",
              "  outputElement.steps = steps;\n",
              "\n",
              "  return _uploadFilesContinue(outputId);\n",
              "}\n",
              "\n",
              "// This is roughly an async generator (not supported in the browser yet),\n",
              "// where there are multiple asynchronous steps and the Python side is going\n",
              "// to poll for completion of each step.\n",
              "// This uses a Promise to block the python side on completion of each step,\n",
              "// then passes the result of the previous step as the input to the next step.\n",
              "function _uploadFilesContinue(outputId) {\n",
              "  const outputElement = document.getElementById(outputId);\n",
              "  const steps = outputElement.steps;\n",
              "\n",
              "  const next = steps.next(outputElement.lastPromiseValue);\n",
              "  return Promise.resolve(next.value.promise).then((value) => {\n",
              "    // Cache the last promise value to make it available to the next\n",
              "    // step of the generator.\n",
              "    outputElement.lastPromiseValue = value;\n",
              "    return next.value.response;\n",
              "  });\n",
              "}\n",
              "\n",
              "/**\n",
              " * Generator function which is called between each async step of the upload\n",
              " * process.\n",
              " * @param {string} inputId Element ID of the input file picker element.\n",
              " * @param {string} outputId Element ID of the output display.\n",
              " * @return {!Iterable<!Object>} Iterable of next steps.\n",
              " */\n",
              "function* uploadFilesStep(inputId, outputId) {\n",
              "  const inputElement = document.getElementById(inputId);\n",
              "  inputElement.disabled = false;\n",
              "\n",
              "  const outputElement = document.getElementById(outputId);\n",
              "  outputElement.innerHTML = '';\n",
              "\n",
              "  const pickedPromise = new Promise((resolve) => {\n",
              "    inputElement.addEventListener('change', (e) => {\n",
              "      resolve(e.target.files);\n",
              "    });\n",
              "  });\n",
              "\n",
              "  const cancel = document.createElement('button');\n",
              "  inputElement.parentElement.appendChild(cancel);\n",
              "  cancel.textContent = 'Cancel upload';\n",
              "  const cancelPromise = new Promise((resolve) => {\n",
              "    cancel.onclick = () => {\n",
              "      resolve(null);\n",
              "    };\n",
              "  });\n",
              "\n",
              "  // Wait for the user to pick the files.\n",
              "  const files = yield {\n",
              "    promise: Promise.race([pickedPromise, cancelPromise]),\n",
              "    response: {\n",
              "      action: 'starting',\n",
              "    }\n",
              "  };\n",
              "\n",
              "  cancel.remove();\n",
              "\n",
              "  // Disable the input element since further picks are not allowed.\n",
              "  inputElement.disabled = true;\n",
              "\n",
              "  if (!files) {\n",
              "    return {\n",
              "      response: {\n",
              "        action: 'complete',\n",
              "      }\n",
              "    };\n",
              "  }\n",
              "\n",
              "  for (const file of files) {\n",
              "    const li = document.createElement('li');\n",
              "    li.append(span(file.name, {fontWeight: 'bold'}));\n",
              "    li.append(span(\n",
              "        `(${file.type || 'n/a'}) - ${file.size} bytes, ` +\n",
              "        `last modified: ${\n",
              "            file.lastModifiedDate ? file.lastModifiedDate.toLocaleDateString() :\n",
              "                                    'n/a'} - `));\n",
              "    const percent = span('0% done');\n",
              "    li.appendChild(percent);\n",
              "\n",
              "    outputElement.appendChild(li);\n",
              "\n",
              "    const fileDataPromise = new Promise((resolve) => {\n",
              "      const reader = new FileReader();\n",
              "      reader.onload = (e) => {\n",
              "        resolve(e.target.result);\n",
              "      };\n",
              "      reader.readAsArrayBuffer(file);\n",
              "    });\n",
              "    // Wait for the data to be ready.\n",
              "    let fileData = yield {\n",
              "      promise: fileDataPromise,\n",
              "      response: {\n",
              "        action: 'continue',\n",
              "      }\n",
              "    };\n",
              "\n",
              "    // Use a chunked sending to avoid message size limits. See b/62115660.\n",
              "    let position = 0;\n",
              "    do {\n",
              "      const length = Math.min(fileData.byteLength - position, MAX_PAYLOAD_SIZE);\n",
              "      const chunk = new Uint8Array(fileData, position, length);\n",
              "      position += length;\n",
              "\n",
              "      const base64 = btoa(String.fromCharCode.apply(null, chunk));\n",
              "      yield {\n",
              "        response: {\n",
              "          action: 'append',\n",
              "          file: file.name,\n",
              "          data: base64,\n",
              "        },\n",
              "      };\n",
              "\n",
              "      let percentDone = fileData.byteLength === 0 ?\n",
              "          100 :\n",
              "          Math.round((position / fileData.byteLength) * 100);\n",
              "      percent.textContent = `${percentDone}% done`;\n",
              "\n",
              "    } while (position < fileData.byteLength);\n",
              "  }\n",
              "\n",
              "  // All done.\n",
              "  yield {\n",
              "    response: {\n",
              "      action: 'complete',\n",
              "    }\n",
              "  };\n",
              "}\n",
              "\n",
              "scope.google = scope.google || {};\n",
              "scope.google.colab = scope.google.colab || {};\n",
              "scope.google.colab._files = {\n",
              "  _uploadFiles,\n",
              "  _uploadFilesContinue,\n",
              "};\n",
              "})(self);\n",
              "</script> "
            ]
          },
          "metadata": {}
        },
        {
          "output_type": "execute_result",
          "data": {
            "text/plain": [
              "{}"
            ]
          },
          "metadata": {},
          "execution_count": 199
        }
      ],
      "source": [
        "from google.colab import files\n",
        "files.upload()"
      ]
    },
    {
      "cell_type": "code",
      "execution_count": 187,
      "metadata": {
        "id": "kHwkF8gwZ2wE"
      },
      "outputs": [],
      "source": [
        "data = load_data(\"build-advice (10).json\")"
      ]
    },
    {
      "cell_type": "code",
      "execution_count": 188,
      "metadata": {
        "colab": {
          "base_uri": "https://localhost:8080/"
        },
        "id": "1HFYpi3IbUQX",
        "outputId": "b9ce9800-ff43-4897-c113-13f5c6e9fbe9"
      },
      "outputs": [
        {
          "output_type": "stream",
          "name": "stdout",
          "text": [
            "Gotcha.  Is there an app that can pull the actual power draw?  I’ll have to look\n",
            "7420\n"
          ]
        }
      ],
      "source": [
        "print(data[3]['content'])\n",
        "print(len(data))"
      ]
    },
    {
      "cell_type": "code",
      "execution_count": 189,
      "metadata": {
        "id": "LWj5bXWCftEP"
      },
      "outputs": [],
      "source": [
        "Ndata = []\n",
        "for i in data:\n",
        "  Ndata.append(i['content'])\n",
        "#create a new list that contains only the chat content"
      ]
    },
    {
      "cell_type": "code",
      "execution_count": 190,
      "metadata": {
        "id": "AO8X5iCBhcVY",
        "colab": {
          "base_uri": "https://localhost:8080/"
        },
        "outputId": "f92c6272-0a1e-47f2-c168-f72025d868b5"
      },
      "outputs": [
        {
          "output_type": "stream",
          "name": "stdout",
          "text": [
            "Get a killawatt\n"
          ]
        }
      ],
      "source": [
        "print(Ndata[0])"
      ]
    },
    {
      "cell_type": "code",
      "execution_count": 191,
      "metadata": {
        "colab": {
          "base_uri": "https://localhost:8080/"
        },
        "id": "Tp3YyIvch_8P",
        "outputId": "5ad4fb4c-33bd-4a70-c1cd-b418b18a95ac"
      },
      "outputs": [
        {
          "output_type": "stream",
          "name": "stdout",
          "text": [
            "get\n"
          ]
        }
      ],
      "source": [
        "def lemmatization(texts, allowed_postags =[\"NOUN\", \"ADJ\", \"VERB\", \"ADV\"] ): #reduction of words to their root form;\n",
        "  nlp = spacy.load(\"en_core_web_sm\", disable= [\"parser\", \"ner\"])\n",
        "  texts_out = []\n",
        "  for text in texts:\n",
        "    doc = nlp(text)\n",
        "    new_text = []\n",
        "    for token in doc:\n",
        "      if token.pos_ in allowed_postags:\n",
        "        new_text.append(token.lemma_)\n",
        "      final = \" \".join(new_text)\n",
        "      texts_out.append(final)\n",
        "  return (texts_out)\n",
        "\n",
        "lemmatizated_texts = lemmatization(Ndata)\n",
        "print(lemmatizated_texts[0])\n"
      ]
    },
    {
      "cell_type": "code",
      "execution_count": 192,
      "metadata": {
        "colab": {
          "base_uri": "https://localhost:8080/"
        },
        "id": "CCy3na53vBGS",
        "outputId": "10c52943-e882-4490-8860-a91dd79647d6"
      },
      "outputs": [
        {
          "output_type": "stream",
          "name": "stdout",
          "text": [
            "coupon minimum\n"
          ]
        }
      ],
      "source": [
        "print(lemmatizated_texts[300])"
      ]
    },
    {
      "cell_type": "code",
      "execution_count": 193,
      "metadata": {
        "id": "75iUw8jBxjKl"
      },
      "outputs": [],
      "source": [
        "def gen_words(texts):\n",
        "  final = []\n",
        "  for text in texts:\n",
        "    new = gensim.utils.simple_preprocess(text, deacc=True)\n",
        "    final.append(new)\n",
        "  return final\n",
        "data_words = gen_words(lemmatizated_texts)"
      ]
    },
    {
      "cell_type": "code",
      "execution_count": 194,
      "metadata": {
        "id": "yIXXqMAkx_l5",
        "colab": {
          "base_uri": "https://localhost:8080/"
        },
        "outputId": "91b7954a-8dc1-488b-e7c9-367c91c1793d"
      },
      "outputs": [
        {
          "output_type": "stream",
          "name": "stdout",
          "text": [
            "[]\n"
          ]
        }
      ],
      "source": [
        "print(data_words[3])"
      ]
    },
    {
      "cell_type": "code",
      "source": [
        "bigrams_phrases = gensim.models.Phrases(data_words, min_count=5, threshold=50) # higher threshold fewer phrases.\n",
        "Trigram_phrases = gensim.models.Phrases(bigrams_phrases[data_words], threshold=100)\n",
        "\n",
        "bigram = gensim.models.phrases.Phraser(bigrams_phrases)\n",
        "trigram = gensim.models.phrases.Phraser(Trigram_phrases)\n",
        "\n",
        "def make_bigrams(texts):\n",
        "  return([bigram[doc] for doc in texts])\n",
        "\n",
        "def make_trigram(texts):\n",
        "  return ([trigram[bigram[doc]] for doc in texts])\n",
        "\n",
        "data_bigrams = make_bigrams(data_words)\n",
        "data_bigrams_trigrams = make_trigram(data_bigrams)\n",
        "\n",
        "print(data_bigrams_trigrams)\n",
        "\n"
      ],
      "metadata": {
        "colab": {
          "base_uri": "https://localhost:8080/"
        },
        "id": "5VC-d8YZJwK2",
        "outputId": "c4c1296b-3186-480a-de44-d1f142a604ca"
      },
      "execution_count": 195,
      "outputs": [
        {
          "output_type": "stream",
          "name": "stderr",
          "text": [
            "IOPub data rate exceeded.\n",
            "The notebook server will temporarily stop sending output\n",
            "to the client in order to avoid crashing it.\n",
            "To change this limit, set the config variable\n",
            "`--NotebookApp.iopub_data_rate_limit`.\n",
            "\n",
            "Current values:\n",
            "NotebookApp.iopub_data_rate_limit=1000000.0 (bytes/sec)\n",
            "NotebookApp.rate_limit_window=3.0 (secs)\n",
            "\n"
          ]
        }
      ]
    },
    {
      "cell_type": "code",
      "source": [
        "from gensim.models import TfidfModel\n",
        "\n",
        "id2word = corpora.Dictionary(data_bigrams_trigrams)\n",
        "\n",
        "texts = data_bigrams_trigrams\n",
        "\n",
        "corpus = [id2word.doc2bow(text) for text in texts]\n",
        "# print (corpus[0][0:20])\n",
        "\n",
        "tfidf = TfidfModel(corpus, id2word=id2word)\n",
        "\n",
        "low_value = 0.1\n",
        "words  = []\n",
        "words_missing_in_tfidf = []\n",
        "for i in range(0, len(corpus)):\n",
        "    bow = corpus[i]\n",
        "    low_value_words = [] #reinitialize to be safe. You can skip this.\n",
        "    tfidf_ids = [id for id, value in tfidf[bow]]\n",
        "    bow_ids = [id for id, value in bow]\n",
        "    low_value_words = [id for id, value in tfidf[bow] if value < low_value]\n",
        "    drops = low_value_words+words_missing_in_tfidf\n",
        "    for item in drops:\n",
        "        words.append(id2word[item])\n",
        "    words_missing_in_tfidf = [id for id in bow_ids if id not in tfidf_ids] # The words with tf-idf socre 0 will be missing\n",
        "\n",
        "    new_bow = [b for b in bow if b[0] not in low_value_words and b[0] not in words_missing_in_tfidf]\n",
        "    corpus[i] = new_bow"
      ],
      "metadata": {
        "id": "uBtzogBeOMSt"
      },
      "execution_count": 196,
      "outputs": []
    },
    {
      "cell_type": "code",
      "execution_count": 165,
      "metadata": {
        "id": "4xljwKFjntgK"
      },
      "outputs": [],
      "source": [
        "# id2word = corpora.Dictionary(data_bigrams_trigrams)\n",
        "\n",
        "# corpus = []\n",
        "# for text in data_words:\n",
        "#     new = id2word.doc2bow(text)\n",
        "#     corpus.append(new)\n",
        "\n",
        "# print (corpus[0][0:20])\n",
        "\n",
        "# word = id2word[[0][:1][0]]\n",
        "# print (word)"
      ]
    },
    {
      "cell_type": "code",
      "execution_count": 197,
      "metadata": {
        "id": "WvZNJ4ePQ1HM"
      },
      "outputs": [],
      "source": [
        "lda_model = gensim.models.ldamodel.LdaModel(corpus=corpus,\n",
        "                                           id2word=id2word,\n",
        "                                           num_topics=10,\n",
        "                                           random_state=100,\n",
        "                                           update_every=1,\n",
        "                                           chunksize=100,\n",
        "                                           passes=10,\n",
        "                                           alpha=\"auto\")"
      ]
    },
    {
      "cell_type": "code",
      "execution_count": 198,
      "metadata": {
        "colab": {
          "base_uri": "https://localhost:8080/",
          "height": 916
        },
        "id": "Ty7EDQ2KRIFu",
        "outputId": "7eb02b6b-69b6-4bf2-ecb0-c87d8b7584e9"
      },
      "outputs": [
        {
          "output_type": "stream",
          "name": "stderr",
          "text": [
            "/usr/local/lib/python3.10/dist-packages/sklearn/manifold/_mds.py:299: FutureWarning: The default value of `normalized_stress` will change to `'auto'` in version 1.4. To suppress this warning, manually set the value of `normalized_stress`.\n",
            "  warnings.warn(\n"
          ]
        },
        {
          "output_type": "execute_result",
          "data": {
            "text/plain": [
              "PreparedData(topic_coordinates=              x         y  topics  cluster       Freq\n",
              "topic                                                \n",
              "0     -0.173053  0.403289       1        1  16.904455\n",
              "4      0.159390 -0.416337       2        1  13.427624\n",
              "3      0.212456  0.431608       3        1  13.069765\n",
              "2     -0.228063 -0.410354       4        1  12.210442\n",
              "9     -0.402809  0.187533       5        1  11.316174\n",
              "5      0.088195  0.182923       6        1   8.565515\n",
              "8      0.414206 -0.191199       7        1   8.176921\n",
              "1     -0.422513 -0.116645       8        1   7.770723\n",
              "7      0.400693  0.093088       9        1   5.276226\n",
              "6     -0.048503 -0.163906      10        1   3.282155, topic_info=                            Term          Freq         Total Category  \\\n",
              "209                      upgrade  12430.000000  12430.000000  Default   \n",
              "82                            so   8628.000000   8628.000000  Default   \n",
              "403                         game   6894.000000   6894.000000  Default   \n",
              "8                           look   8248.000000   8248.000000  Default   \n",
              "0                            get   6313.000000   6313.000000  Default   \n",
              "...                          ...           ...           ...      ...   \n",
              "580                       prefer     79.412770    787.825888  Topic10   \n",
              "4801  priortize_upgrading_though     71.673249    786.853098  Topic10   \n",
              "4798         builder_mainly_play     62.591676    795.280475  Topic10   \n",
              "4803               future_remake     38.064074    181.699372  Topic10   \n",
              "3628                     confirm     34.024987    669.683572  Topic10   \n",
              "\n",
              "      logprob  loglift  \n",
              "209   30.0000  30.0000  \n",
              "82    29.0000  29.0000  \n",
              "403   28.0000  28.0000  \n",
              "8     27.0000  27.0000  \n",
              "0     26.0000  26.0000  \n",
              "...       ...      ...  \n",
              "580   -5.1025   1.1221  \n",
              "4801  -5.2050   1.0207  \n",
              "4798  -5.3405   0.8746  \n",
              "4803  -5.8379   1.8536  \n",
              "3628  -5.9501   0.4370  \n",
              "\n",
              "[374 rows x 6 columns], token_table=      Topic      Freq        Term\n",
              "term                             \n",
              "395       6  0.994653        able\n",
              "532       7  0.992329    actually\n",
              "2472      4  0.996200  additional\n",
              "296       1  0.998989      advice\n",
              "778       8  0.991008         air\n",
              "...     ...       ...         ...\n",
              "97        5  0.995645       worth\n",
              "1172      7  0.989462       wrong\n",
              "100       2  0.998172         www\n",
              "382       7  0.999796          xt\n",
              "664       8  0.997381         yet\n",
              "\n",
              "[616 rows x 3 columns], R=30, lambda_step=0.01, plot_opts={'xlab': 'PC1', 'ylab': 'PC2'}, topic_order=[1, 5, 4, 3, 10, 6, 9, 2, 8, 7])"
            ],
            "text/html": [
              "\n",
              "<link rel=\"stylesheet\" type=\"text/css\" href=\"https://cdn.jsdelivr.net/gh/bmabey/pyLDAvis@3.4.0/pyLDAvis/js/ldavis.v1.0.0.css\">\n",
              "\n",
              "\n",
              "<div id=\"ldavis_el2191331829245844645908305976\" style=\"background-color:white;\"></div>\n",
              "<script type=\"text/javascript\">\n",
              "\n",
              "var ldavis_el2191331829245844645908305976_data = {\"mdsDat\": {\"x\": [-0.1730528874241111, 0.15938990415657386, 0.21245584536861228, -0.2280628718826793, -0.40280882380787253, 0.08819508717851697, 0.4142058150576385, -0.42251294741093565, 0.40069347352894324, -0.04850259476468638], \"y\": [0.4032894279852811, -0.4163367923161417, 0.4316076008179656, -0.4103539814472688, 0.18753297452852224, 0.18292311958248794, -0.19119900200645562, -0.11664543829320694, 0.09308810666593968, -0.16390601551712375], \"topics\": [1, 2, 3, 4, 5, 6, 7, 8, 9, 10], \"cluster\": [1, 1, 1, 1, 1, 1, 1, 1, 1, 1], \"Freq\": [16.90445517092811, 13.427623545958644, 13.069764538743767, 12.210442197440797, 11.31617422064662, 8.5655153785031, 8.176921138241394, 7.770722516001083, 5.276225829263623, 3.282155464272863]}, \"tinfo\": {\"Term\": [\"upgrade\", \"so\", \"game\", \"look\", \"get\", \"want\", \"know\", \"just\", \"use\", \"think\", \"budget\", \"xt\", \"keep\", \"first\", \"probably\", \"sure\", \"fan\", \"well\", \"maybe\", \"then\", \"review\", \"also\", \"need\", \"only\", \"mobo\", \"soon\", \"little\", \"ram\", \"current\", \"go\", \"upgrade\", \"sure\", \"also\", \"build\", \"more\", \"stuff\", \"case\", \"new\", \"make\", \"push\", \"test\", \"advice\", \"cool\", \"psu\", \"difference\", \"suggest\", \"own\", \"gaming\", \"say\", \"lol\", \"same\", \"give\", \"re\", \"small\", \"set\", \"figure\", \"problem\", \"realistically\", \"brand\", \"like\", \"frame\", \"look\", \"fan\", \"maybe\", \"pc\", \"play\", \"cheap\", \"find\", \"price\", \"tell\", \"power\", \"start\", \"recommend\", \"still\", \"https\", \"com\", \"www\", \"newegg\", \"change\", \"even\", \"pin\", \"come\", \"top\", \"gigabyte\", \"at\", \"great\", \"supply\", \"tower\", \"ask\", \"wifi\", \"spec\", \"item\", \"frame\", \"want\", \"think\", \"soon\", \"go\", \"here\", \"super\", \"cpu\", \"good\", \"too\", \"work\", \"check\", \"hear\", \"rig\", \"option\", \"many\", \"ryzen\", \"box\", \"reliable\", \"one\", \"purchase\", \"late\", \"corsair\", \"around\", \"less\", \"notice\", \"component\", \"few\", \"deal\", \"usd\", \"compatible\", \"easily\", \"frame\", \"so\", \"budget\", \"need\", \"little\", \"drive\", \"buy\", \"cable\", \"gb\", \"hope\", \"way\", \"much\", \"fps\", \"really\", \"wait\", \"card\", \"microcenter\", \"guess\", \"ssd\", \"pretty\", \"sell\", \"matter\", \"question\", \"help\", \"grab\", \"place\", \"additional\", \"crap\", \"connect\", \"amazon\", \"pop\", \"processor\", \"frame\", \"know\", \"just\", \"current\", \"time\", \"thank\", \"guy\", \"plug\", \"take\", \"fine\", \"already\", \"enough\", \"side\", \"sata\", \"certain\", \"all\", \"very\", \"other\", \"order\", \"port\", \"else\", \"back\", \"trust\", \"long\", \"nice\", \"swap\", \"somewhere\", \"slot\", \"worth\", \"usb\", \"send\", \"hub\", \"game\", \"only\", \"issue\", \"run\", \"thing\", \"high\", \"remember\", \"part\", \"most\", \"hold\", \"end\", \"speed\", \"kind\", \"depend\", \"weird\", \"though\", \"list\", \"able\", \"laptop\", \"normal\", \"compatibility\", \"hardware\", \"plan\", \"die\", \"boot\", \"nd\", \"key\", \"board\", \"idk\", \"forget\", \"spin\", \"mid\", \"medium_setting\", \"builder_mainly_play\", \"frame\", \"priortize_upgrading_though\", \"get\", \"xt\", \"probably\", \"choose\", \"seem\", \"bundle\", \"controller\", \"now\", \"decent\", \"overprice\", \"drop\", \"opinion\", \"spend\", \"recommendation\", \"future\", \"tb\", \"close\", \"tax\", \"ddr\", \"full\", \"actually\", \"limit\", \"expensive\", \"pro\", \"wrong\", \"release\", \"suck\", \"kit\", \"user\", \"prolly\", \"sweet\", \"argb\", \"however\", \"pic\", \"mileage_life_build\", \"use\", \"keep\", \"then\", \"cooler\", \"hard\", \"double\", \"decide\", \"put\", \"personally\", \"point\", \"non\", \"got\", \"there\", \"yet\", \"support\", \"stick\", \"mean\", \"couple\", \"last\", \"generally\", \"motherboard\", \"asus\", \"value\", \"hit\", \"air\", \"match\", \"software\", \"together\", \"def\", \"ok\", \"screw\", \"connector\", \"plenty\", \"however\", \"scalp\", \"bandwidth\", \"well\", \"review\", \"right\", \"pricing\", \"people\", \"doubt\", \"see\", \"try\", \"btw\", \"bro\", \"thermal_paste\", \"far\", \"gpu\", \"pay\", \"wonder\", \"low\", \"install\", \"stock\", \"usually\", \"thermal\", \"that\", \"happen\", \"especially\", \"mm\", \"white\", \"idea\", \"mention\", \"definitely\", \"model\", \"person\", \"prob\", \"seriously\", \"black\", \"willing_peer\", \"scalp\", \"mark\", \"honestly_shade\", \"first\", \"mobo\", \"ram\", \"bit\", \"memory\", \"day\", \"save\", \"money\", \"hand\", \"slightly\", \"driver\", \"ti\", \"amd\", \"sit\", \"combo\", \"msrp\", \"rate\", \"show\", \"understand\", \"life\", \"beneficial\", \"physically_accessible\", \"base_upgrading_simply\", \"worried\", \"strictly\", \"howdy\", \"pcie\", \"potentially\", \"intel\", \"riser\", \"fully_control\", \"corsair_commander\", \"compatibility_asus_viii\", \"medium_setting\", \"insight\", \"recent\", \"unsure\", \"prefer\", \"priortize_upgrading_though\", \"builder_mainly_play\", \"future_remake\", \"confirm\"], \"Freq\": [12430.0, 8628.0, 6894.0, 8248.0, 6313.0, 7466.0, 6935.0, 6267.0, 5020.0, 6223.0, 5898.0, 4761.0, 4234.0, 3088.0, 4053.0, 5591.0, 4944.0, 3267.0, 4756.0, 3442.0, 2768.0, 4476.0, 3670.0, 2929.0, 2085.0, 3412.0, 3196.0, 1956.0, 3056.0, 3032.0, 12429.612113077157, 5590.287550960004, 4475.65883348492, 3403.526992247353, 3098.6002989692315, 2130.364715329837, 1997.7693304058537, 1847.3364866730776, 1501.659808577523, 1288.5044807821246, 1282.0019608944426, 1135.9987928522792, 1034.7080905134856, 830.7039934115244, 806.9074363701463, 797.7952273100798, 807.775495466272, 705.6530623577654, 657.0905456752014, 654.1626704714785, 644.3294067671663, 603.6891585495181, 551.5861959178592, 560.2068451405353, 449.69701571894, 441.2503353352486, 434.3946477432947, 436.24494962356374, 399.1229745488894, 397.55440510345494, 2532.627020996189, 8247.331157649718, 4942.9456555050765, 4754.918018727216, 3009.450175182091, 1813.5167992516567, 1805.8127158289465, 1683.7728859663123, 1626.1832105967728, 1507.1952023730944, 1493.2350338481854, 1475.1448063423013, 1267.2383377559725, 1084.0498333532564, 971.9690716535351, 921.937704724604, 832.4183330193499, 830.4288776578088, 801.6848373302837, 794.9487893433277, 781.7143115654974, 730.2789275734535, 630.4988877252514, 585.2935682498638, 476.5431927368082, 435.50211224673154, 434.0561040283648, 399.81741655549445, 326.1613480561625, 282.14648280748054, 242.02152096345733, 368.25452092133173, 910.1227668066155, 7465.1084572722675, 6222.027453471931, 3410.9764195482253, 3030.9124491033567, 2788.6269997134673, 2447.7434420740924, 2092.2457049387517, 1849.726451921695, 1667.698027815495, 1392.3942568261016, 1260.6448475321663, 1035.8692946411606, 796.0932632620784, 769.255144417148, 642.6142087823349, 588.9507557150037, 588.9899328348004, 602.6744668811534, 565.1141659950632, 507.03730626544706, 982.8055565943015, 445.7565910739926, 380.99124299105694, 376.8776454124076, 374.057377053053, 365.25700465235104, 353.94108827587974, 325.60118790984416, 302.2611161247308, 312.3587402993671, 374.9800248588946, 839.843355369639, 8627.073636263318, 5896.920165919921, 3669.4800918970805, 3195.7548999634073, 2254.353090562748, 2145.7565397625526, 1992.566343010942, 1937.6097876951405, 1874.6834758961263, 1755.6984989018224, 1280.23997225128, 1290.8594071910645, 1150.7924616744194, 876.2895558554488, 648.6451408387621, 623.2676131001659, 564.2902116710751, 398.06430812689655, 369.80346911491114, 311.62448657326956, 311.5875459855601, 282.89683435370796, 281.45137833811856, 246.16381972009796, 243.77829021801685, 280.7372011828371, 223.24221897834812, 210.8812377887253, 181.856070192829, 176.55341056945574, 345.0818008126037, 208.4108557792969, 6933.990522400074, 6266.068212939235, 3055.786561999304, 2690.199774440586, 1987.7349064800674, 1680.8363212878546, 1399.445489658886, 1281.9307187989846, 1181.8720507911462, 1088.80338793907, 1022.3063045203836, 991.2790842263242, 982.3626871512032, 929.7672065721359, 788.9708673432799, 700.8446844728829, 637.5193300447048, 592.7672801204121, 581.9665041135519, 580.229715717163, 569.4632796672494, 415.20085546544635, 392.6603844579464, 375.02620859348724, 422.5705288875717, 335.5514008196916, 257.07981927594426, 208.7982381357418, 1050.6326180175288, 196.81870851515748, 983.6017767820776, 6892.9977415798, 2928.572340670178, 2500.2886496940064, 2263.813914233319, 2260.997167060103, 2050.5833095605085, 1208.094204661892, 1138.4161465235215, 1029.2100029808532, 967.2463892368385, 886.5822808180053, 883.9699852097106, 814.8592627084907, 545.6771009271964, 441.4679605582664, 413.2331423155914, 295.5540333600003, 267.3152796944675, 205.784451384331, 196.24484355916945, 189.91693750201668, 188.35809746565883, 180.86584577636523, 200.33230386217136, 105.3874107331585, 80.56907906486481, 198.22026714739798, 60.110049413774206, 55.76796487157416, 50.933416905525746, 91.20150462486194, 285.92748125323357, 233.9565567595295, 192.3325413106224, 352.36408392255316, 185.19471570814244, 6312.26406816083, 4760.83847472724, 4052.554705647705, 2359.921439270709, 2261.738079537539, 1433.4904799326162, 1186.1286738144195, 1129.8595288480187, 446.9016377619699, 405.6385454201063, 397.4550536058988, 364.5826876129947, 340.2328721592117, 336.52461618246224, 332.50111527382757, 305.10495215919076, 233.71085223906633, 219.88135550711536, 208.01196723175, 170.1982543341523, 162.11900088497612, 151.89165847177736, 147.50967817495777, 142.3146507498726, 124.18700675584746, 104.47779817743329, 79.2560979540853, 68.31811378213295, 47.21279507715629, 43.70422957095505, 374.51582667097284, 251.29698996998886, 399.93150629618475, 304.88490180452646, 105.55975786736911, 5019.182296058305, 4233.117053610821, 3441.0556245141015, 1721.5434923826579, 1516.4738859449042, 1527.9084931873235, 1476.0265757336615, 1311.2353257998973, 1012.4462802451237, 872.0089528514499, 705.6826657758153, 641.5696861632314, 581.5402727388375, 500.20265270152674, 366.2462893205887, 332.5063376347151, 308.7512390897595, 301.21431440669147, 275.6726484563067, 264.34817208134524, 246.89160900632453, 159.4514144621948, 146.02328016067622, 132.5144839963646, 114.93415686022804, 160.68883913047574, 70.23294471912692, 57.31012754779461, 46.43074543356927, 34.65053961116125, 226.14197463620076, 284.3621898416171, 79.99462809438037, 201.77194275745865, 169.827930397892, 116.94633418583592, 3266.0269722619882, 2767.359118842401, 1312.4901129842344, 1202.4266022442316, 1134.2881566598726, 844.0254163543649, 747.4534507778715, 740.6849614709865, 745.4152796116229, 670.4443781759502, 459.4877193672911, 451.8536094448142, 417.4060221963773, 372.75897725864456, 342.73919644287, 306.60427653867305, 644.7632181645728, 271.8929836918866, 260.4689537603923, 121.95218762892708, 110.78705407514366, 106.8379703676339, 102.07060558833851, 93.13780082182885, 91.53552881240427, 79.39368848866445, 77.17573848911299, 67.91696728917755, 56.55643470985455, 47.4082902468648, 125.81448054365212, 65.07133091016077, 85.81567442602262, 150.90318758164517, 175.23619206518643, 110.57956357413671, 88.94190243723683, 3087.206265972689, 2084.3891640122883, 1955.6621069498224, 799.0000723561782, 597.2382318760639, 496.08789307074187, 435.7773907089229, 217.92367088004156, 194.0616307141858, 148.95958381215078, 143.1045397604667, 131.97103706002065, 73.39911991655454, 48.491985264684395, 44.67439327032879, 41.15059690696308, 30.65724604622879, 28.31857092319274, 24.27915766370438, 9.987454539990727, 13.274646975736562, 7.352900425489838, 7.428054177288863, 5.1133152775570725, 7.295799930896537, 7.139604140687981, 170.24023317923715, 62.38141587903396, 2.813328257350261, 57.80417030570617, 421.41587562743354, 202.1614686950266, 153.36133153789635, 142.18622547409507, 146.1814131178975, 26.254491983646734, 88.94929817920291, 79.41276995037204, 71.67324920167664, 62.591676431717275, 38.06407366095516, 34.02498723291672], \"Total\": [12430.0, 8628.0, 6894.0, 8248.0, 6313.0, 7466.0, 6935.0, 6267.0, 5020.0, 6223.0, 5898.0, 4761.0, 4234.0, 3088.0, 4053.0, 5591.0, 4944.0, 3267.0, 4756.0, 3442.0, 2768.0, 4476.0, 3670.0, 2929.0, 2085.0, 3412.0, 3196.0, 1956.0, 3056.0, 3032.0, 12430.757632898683, 5591.432237677645, 4476.803450254725, 3404.671352327186, 3099.7446204612534, 2131.510406271089, 1998.9135874503895, 1848.480768736251, 1502.804230632302, 1289.6504450636126, 1283.1556692561187, 1137.1498539808197, 1035.8556695889938, 831.8483842462409, 808.0522603846044, 798.9403711084617, 808.9525594651859, 706.7974754534005, 658.2348050287611, 655.3070346277104, 645.4737169067123, 604.8341211244918, 552.7308508225268, 561.3755977633267, 450.8435135721362, 442.3953045247311, 435.5390167432725, 437.39564922241425, 400.26754820947264, 398.6987839991711, 5168.160841601254, 8248.436256663621, 4944.050694905953, 4756.02333572437, 3010.555066228687, 1814.6258529028023, 1806.91784417871, 1684.877828968099, 1627.2883278225836, 1508.3002565116615, 1494.3399075488785, 1476.2499731991059, 1268.3440390989604, 1085.1548887038987, 973.0739946340669, 923.0426621818071, 833.5235351395049, 831.5341281122352, 802.7900295330406, 796.0535782395805, 782.819624350378, 731.3838966211448, 631.606895181608, 586.4013740826333, 477.6487018733702, 436.60721584448265, 435.16105398645084, 400.92441159844213, 327.2664177585754, 283.25218674978333, 243.12757455617887, 372.9024979131153, 5168.160841601254, 7466.269474948862, 6223.188237815362, 3412.1470448474024, 3032.073035132852, 2789.788071141789, 2448.9081306507605, 2093.406362454966, 1850.8870072287077, 1668.8588488658872, 1393.5549881037243, 1261.8057580792572, 1037.0311395824026, 797.2591672952301, 770.416284788383, 643.7751883232226, 590.1122893369437, 590.1571305506734, 603.9029670855692, 566.2747374138874, 508.19949461877405, 985.1628488459016, 446.91890510782446, 382.1572123546823, 378.0382279118443, 375.218178855503, 366.41775627939876, 355.1016052994097, 326.76169857673636, 303.4288420858004, 313.5660257624641, 532.951786599404, 5168.160841601254, 8628.21353247971, 5898.06068137851, 3670.6197401928857, 3196.8960812412165, 2255.4928499069824, 2146.896221422101, 1993.7061868634325, 1938.7494918013306, 1875.824759036041, 1756.838384489755, 1281.3797036146118, 1292.0137715221565, 1151.9321226835186, 877.4293188339935, 649.7846619126381, 624.4073560202073, 565.4302645351922, 399.2038976799253, 370.943015515003, 312.7640849402348, 312.7274290377753, 284.0369411414999, 282.5909530146512, 247.31060799659957, 244.919386688459, 282.07174058074156, 224.38206177053783, 212.0210006186408, 182.9957392111372, 177.6939255950973, 348.2891120865986, 5168.160841601254, 6935.1068404099215, 6267.184315588262, 3056.9041058146217, 2691.3159815804916, 1988.8511327345175, 1681.9530769748142, 1400.5642553941625, 1283.0469781951751, 1182.9884624746173, 1089.9195944849957, 1023.422259099005, 992.3954771571831, 983.4788471560151, 930.9130714619001, 790.0876899818797, 701.9609557103078, 638.6353533445848, 593.8833471431004, 583.0824002696651, 581.3461470477228, 570.5792590243442, 416.31822821996127, 393.77653307820447, 376.1437276996611, 423.8317186652974, 336.6681649813144, 258.1959591246438, 209.91426033850468, 1056.4183203748014, 197.97568853011265, 1029.4311695306528, 6894.11900274647, 2929.692224216064, 2501.4090212808883, 2264.93386448942, 2262.117187036414, 2051.7033242318735, 1209.2145359903027, 1139.5361813642116, 1030.330225589904, 968.3756460154829, 887.7021491918571, 885.0960889189582, 815.979338566613, 546.7978270485393, 442.58812225145, 414.35331678247485, 296.6738737498284, 268.43527131270554, 206.9265581670817, 197.36673320465425, 191.03744016693878, 189.47868394262767, 181.98564493456814, 201.69526522128, 106.5073731984423, 81.69511705745141, 201.77659823705525, 61.22983633653398, 56.888673431454045, 52.05371291514732, 97.3136363891524, 371.18277385521617, 710.1412686438686, 795.2804750563229, 5168.160841601254, 786.8530984260595, 6313.397546999619, 4761.972094057755, 4053.6885938691835, 2361.059825165775, 2262.871713129107, 1434.6245983288643, 1187.2631741688608, 1130.9932329471062, 448.035128290661, 406.7726882755542, 398.58875976273924, 365.7317526810689, 341.3665619931452, 337.6639374995262, 333.63641667385167, 306.23863470902404, 234.84449943496975, 221.01509310151698, 209.14563733530852, 171.33169885202534, 163.25234018167632, 153.02625725262686, 148.6430933360704, 143.44822286552883, 125.32057950612491, 105.75311649157871, 80.39447450065367, 69.45149656509074, 48.37268716264052, 44.88070117384638, 508.2016009491965, 385.36946362256424, 866.0236823180384, 600.1177805270254, 298.3518469975204, 5020.291267569961, 4234.226653600104, 3442.1644699812077, 1722.652566138426, 1517.5830366736375, 1529.0521757723427, 1477.1462052262732, 1312.3443221942305, 1013.5573513250621, 873.118424407947, 706.7932508362509, 642.6814011784503, 582.6492035918845, 501.31277390892, 367.35525295107163, 333.6156653506481, 309.86007816514865, 302.38574087807194, 276.7815489243117, 265.4660350214834, 248.00100985620148, 160.5606833155067, 147.13209907174456, 133.62351499408376, 116.04345032141764, 162.5581431614909, 71.34169935144007, 58.44516789029004, 47.54014356383164, 35.75942774169645, 238.62069911133918, 301.5497749030777, 88.05241502554647, 866.0236823180384, 757.1850640679198, 371.3297716224034, 3267.138736701703, 2768.4853745214214, 1313.6020556700287, 1203.5387735610655, 1135.3999758558432, 845.1428778921752, 748.5650829746698, 741.7965998290216, 746.5360885699067, 671.6023569099881, 460.6002493321373, 452.9657362359284, 418.5183618965651, 373.8706125662322, 343.8509013167834, 307.71609421743057, 647.3102869733017, 273.00476720888133, 261.58073738646345, 123.0641865548662, 111.89910275146289, 107.94966244395842, 103.1885380736436, 94.25437360019569, 92.68016802344087, 80.50529084455, 78.28738277624505, 69.02874333945648, 57.668055608574036, 48.52151497850745, 130.53204628532873, 67.22864952863502, 93.14243235499566, 492.83246773815597, 757.1850640679198, 393.26591002028533, 280.9881746868422, 3088.369693862389, 2085.551474123975, 1956.8244489604765, 800.1630690313726, 598.4010613781821, 497.250127313262, 436.9401635642466, 219.08679490653248, 195.2242715763582, 150.12209300148845, 144.26673136916781, 133.13306147470354, 74.56117391694877, 49.696256595578376, 45.83643881188217, 42.339946341643106, 31.819893721126338, 29.480673547393348, 25.441354832102746, 11.149912154159987, 14.99144181957444, 8.674179758189295, 8.915094397733332, 6.285824597624369, 9.083813030614536, 9.132660388479064, 228.00229130233694, 87.61554782045462, 3.975327686350793, 83.57844718215676, 644.3949303246192, 450.9476278373015, 551.701873287498, 710.1412686438686, 746.8983812012433, 68.26704148437237, 775.2384779717445, 787.8258881368813, 786.8530984260595, 795.2804750563229, 181.6993719395914, 669.6835719239806], \"Category\": [\"Default\", \"Default\", \"Default\", \"Default\", \"Default\", \"Default\", \"Default\", \"Default\", \"Default\", \"Default\", \"Default\", \"Default\", \"Default\", \"Default\", \"Default\", \"Default\", \"Default\", \"Default\", \"Default\", \"Default\", \"Default\", \"Default\", \"Default\", \"Default\", \"Default\", \"Default\", \"Default\", \"Default\", \"Default\", \"Default\", \"Topic1\", \"Topic1\", \"Topic1\", \"Topic1\", \"Topic1\", \"Topic1\", \"Topic1\", \"Topic1\", \"Topic1\", \"Topic1\", \"Topic1\", \"Topic1\", \"Topic1\", \"Topic1\", \"Topic1\", \"Topic1\", \"Topic1\", \"Topic1\", \"Topic1\", \"Topic1\", \"Topic1\", \"Topic1\", \"Topic1\", \"Topic1\", \"Topic1\", \"Topic1\", \"Topic1\", \"Topic1\", \"Topic1\", \"Topic1\", \"Topic1\", \"Topic2\", \"Topic2\", \"Topic2\", \"Topic2\", \"Topic2\", \"Topic2\", \"Topic2\", \"Topic2\", \"Topic2\", \"Topic2\", \"Topic2\", \"Topic2\", \"Topic2\", \"Topic2\", \"Topic2\", \"Topic2\", \"Topic2\", \"Topic2\", \"Topic2\", \"Topic2\", \"Topic2\", \"Topic2\", \"Topic2\", \"Topic2\", \"Topic2\", \"Topic2\", \"Topic2\", \"Topic2\", \"Topic2\", \"Topic2\", \"Topic2\", \"Topic2\", \"Topic3\", \"Topic3\", \"Topic3\", \"Topic3\", \"Topic3\", \"Topic3\", \"Topic3\", \"Topic3\", \"Topic3\", \"Topic3\", \"Topic3\", \"Topic3\", \"Topic3\", \"Topic3\", \"Topic3\", \"Topic3\", \"Topic3\", \"Topic3\", \"Topic3\", \"Topic3\", \"Topic3\", \"Topic3\", \"Topic3\", \"Topic3\", \"Topic3\", \"Topic3\", \"Topic3\", \"Topic3\", \"Topic3\", \"Topic3\", \"Topic3\", \"Topic3\", \"Topic4\", \"Topic4\", \"Topic4\", \"Topic4\", \"Topic4\", \"Topic4\", \"Topic4\", \"Topic4\", \"Topic4\", \"Topic4\", \"Topic4\", \"Topic4\", \"Topic4\", \"Topic4\", \"Topic4\", \"Topic4\", \"Topic4\", \"Topic4\", \"Topic4\", \"Topic4\", \"Topic4\", \"Topic4\", \"Topic4\", \"Topic4\", \"Topic4\", \"Topic4\", \"Topic4\", \"Topic4\", \"Topic4\", \"Topic4\", \"Topic4\", \"Topic4\", \"Topic5\", \"Topic5\", \"Topic5\", \"Topic5\", \"Topic5\", \"Topic5\", \"Topic5\", \"Topic5\", \"Topic5\", \"Topic5\", \"Topic5\", \"Topic5\", \"Topic5\", \"Topic5\", \"Topic5\", \"Topic5\", \"Topic5\", \"Topic5\", \"Topic5\", \"Topic5\", \"Topic5\", \"Topic5\", \"Topic5\", \"Topic5\", \"Topic5\", \"Topic5\", \"Topic5\", \"Topic5\", \"Topic5\", \"Topic5\", \"Topic5\", \"Topic6\", \"Topic6\", \"Topic6\", \"Topic6\", \"Topic6\", \"Topic6\", \"Topic6\", \"Topic6\", \"Topic6\", \"Topic6\", \"Topic6\", \"Topic6\", \"Topic6\", \"Topic6\", \"Topic6\", \"Topic6\", \"Topic6\", \"Topic6\", \"Topic6\", \"Topic6\", \"Topic6\", \"Topic6\", \"Topic6\", \"Topic6\", \"Topic6\", \"Topic6\", \"Topic6\", \"Topic6\", \"Topic6\", \"Topic6\", \"Topic6\", \"Topic6\", \"Topic6\", \"Topic6\", \"Topic6\", \"Topic6\", \"Topic7\", \"Topic7\", \"Topic7\", \"Topic7\", \"Topic7\", \"Topic7\", \"Topic7\", \"Topic7\", \"Topic7\", \"Topic7\", \"Topic7\", \"Topic7\", \"Topic7\", \"Topic7\", \"Topic7\", \"Topic7\", \"Topic7\", \"Topic7\", \"Topic7\", \"Topic7\", \"Topic7\", \"Topic7\", \"Topic7\", \"Topic7\", \"Topic7\", \"Topic7\", \"Topic7\", \"Topic7\", \"Topic7\", \"Topic7\", \"Topic7\", \"Topic7\", \"Topic7\", \"Topic7\", \"Topic7\", \"Topic8\", \"Topic8\", \"Topic8\", \"Topic8\", \"Topic8\", \"Topic8\", \"Topic8\", \"Topic8\", \"Topic8\", \"Topic8\", \"Topic8\", \"Topic8\", \"Topic8\", \"Topic8\", \"Topic8\", \"Topic8\", \"Topic8\", \"Topic8\", \"Topic8\", \"Topic8\", \"Topic8\", \"Topic8\", \"Topic8\", \"Topic8\", \"Topic8\", \"Topic8\", \"Topic8\", \"Topic8\", \"Topic8\", \"Topic8\", \"Topic8\", \"Topic8\", \"Topic8\", \"Topic8\", \"Topic8\", \"Topic8\", \"Topic9\", \"Topic9\", \"Topic9\", \"Topic9\", \"Topic9\", \"Topic9\", \"Topic9\", \"Topic9\", \"Topic9\", \"Topic9\", \"Topic9\", \"Topic9\", \"Topic9\", \"Topic9\", \"Topic9\", \"Topic9\", \"Topic9\", \"Topic9\", \"Topic9\", \"Topic9\", \"Topic9\", \"Topic9\", \"Topic9\", \"Topic9\", \"Topic9\", \"Topic9\", \"Topic9\", \"Topic9\", \"Topic9\", \"Topic9\", \"Topic9\", \"Topic9\", \"Topic9\", \"Topic9\", \"Topic9\", \"Topic9\", \"Topic9\", \"Topic10\", \"Topic10\", \"Topic10\", \"Topic10\", \"Topic10\", \"Topic10\", \"Topic10\", \"Topic10\", \"Topic10\", \"Topic10\", \"Topic10\", \"Topic10\", \"Topic10\", \"Topic10\", \"Topic10\", \"Topic10\", \"Topic10\", \"Topic10\", \"Topic10\", \"Topic10\", \"Topic10\", \"Topic10\", \"Topic10\", \"Topic10\", \"Topic10\", \"Topic10\", \"Topic10\", \"Topic10\", \"Topic10\", \"Topic10\", \"Topic10\", \"Topic10\", \"Topic10\", \"Topic10\", \"Topic10\", \"Topic10\", \"Topic10\", \"Topic10\", \"Topic10\", \"Topic10\", \"Topic10\", \"Topic10\"], \"logprob\": [30.0, 29.0, 28.0, 27.0, 26.0, 25.0, 24.0, 23.0, 22.0, 21.0, 20.0, 19.0, 18.0, 17.0, 16.0, 15.0, 14.0, 13.0, 12.0, 11.0, 10.0, 9.0, 8.0, 7.0, 6.0, 5.0, 4.0, 3.0, 2.0, 1.0, -1.6884, -2.4874, -2.7098, -2.9837, -3.0775, -3.4522, -3.5164, -3.5947, -3.8019, -3.955, -3.9601, -4.081, -4.1744, -4.394, -4.423, -4.4344, -4.4219, -4.5571, -4.6284, -4.6329, -4.648, -4.7132, -4.8034, -4.7879, -5.0077, -5.0266, -5.0423, -5.038, -5.127, -5.1309, -3.2792, -1.8683, -2.3802, -2.419, -2.8765, -3.3829, -3.3872, -3.4572, -3.492, -3.568, -3.5773, -3.5895, -3.7414, -3.8975, -4.0066, -4.0595, -4.1616, -4.164, -4.1993, -4.2077, -4.2245, -4.2925, -4.4395, -4.5139, -4.7194, -4.8095, -4.8128, -4.895, -5.0986, -5.2435, -5.3969, -4.9772, -4.0724, -1.941, -2.1231, -2.7242, -2.8423, -2.9256, -3.056, -3.213, -3.3362, -3.4398, -3.6202, -3.7196, -3.916, -4.1792, -4.2135, -4.3934, -4.4806, -4.4805, -4.4576, -4.5219, -4.6304, -3.9685, -4.7592, -4.9162, -4.927, -4.9345, -4.9584, -4.9898, -5.0733, -5.1477, -5.1148, -4.9321, -4.1257, -1.7283, -2.1088, -2.5831, -2.7214, -3.0703, -3.1197, -3.1938, -3.2217, -3.2547, -3.3203, -3.6361, -3.6279, -3.7427, -4.0152, -4.3161, -4.356, -4.4554, -4.8043, -4.878, -5.0491, -5.0493, -5.1459, -5.151, -5.2849, -5.2947, -5.1535, -5.3827, -5.4396, -5.5877, -5.6173, -4.9472, -5.4514, -1.8707, -1.972, -2.6901, -2.8175, -3.1201, -3.2878, -3.4711, -3.5588, -3.64, -3.7221, -3.7851, -3.8159, -3.8249, -3.88, -4.0442, -4.1626, -4.2573, -4.3301, -4.3485, -4.3515, -4.3702, -4.6861, -4.7419, -4.7879, -4.6685, -4.8991, -5.1655, -5.3735, -3.7577, -5.4326, -3.8237, -1.5981, -2.4541, -2.6122, -2.7116, -2.7128, -2.8105, -3.3396, -3.399, -3.4999, -3.5619, -3.649, -3.652, -3.7334, -4.1344, -4.3463, -4.4124, -4.7475, -4.848, -5.1096, -5.157, -5.1898, -5.1981, -5.2386, -5.1364, -5.7788, -6.0473, -5.147, -6.3402, -6.4152, -6.5059, -5.9233, -4.7807, -4.9813, -5.1772, -4.5717, -5.215, -1.6397, -1.9218, -2.0829, -2.6236, -2.6661, -3.1221, -3.3115, -3.3601, -4.2876, -4.3845, -4.4049, -4.4912, -4.5603, -4.5713, -4.5833, -4.6693, -4.9359, -4.9969, -5.0524, -5.253, -5.3016, -5.3668, -5.3961, -5.4319, -5.5682, -5.741, -6.0173, -6.1658, -6.5353, -6.6125, -4.4643, -4.8633, -4.3987, -4.67, -5.7307, -1.818, -1.9883, -2.1955, -2.888, -3.0149, -3.0074, -3.0419, -3.1603, -3.4189, -3.5682, -3.7799, -3.8751, -3.9733, -4.124, -4.4357, -4.5324, -4.6065, -4.6312, -4.7198, -4.7617, -4.8301, -5.2673, -5.3552, -5.4523, -5.5947, -5.2595, -6.0872, -6.2905, -6.5011, -6.7937, -4.9179, -4.6888, -5.9571, -5.0319, -5.2042, -5.5773, -1.8605, -2.0262, -2.7722, -2.8598, -2.9181, -3.2137, -3.3352, -3.3443, -3.3379, -3.4439, -3.8218, -3.8385, -3.9178, -4.0309, -4.1149, -4.2263, -3.483, -4.3465, -4.3894, -5.1482, -5.2443, -5.2806, -5.3262, -5.4178, -5.4351, -5.5774, -5.6058, -5.7336, -5.9166, -6.0931, -5.1171, -5.7764, -5.4997, -4.9352, -4.7857, -5.2461, -5.4639, -1.4421, -1.8349, -1.8987, -2.7938, -3.0848, -3.2704, -3.4, -4.093, -4.209, -4.4735, -4.5136, -4.5946, -5.1812, -5.5958, -5.6778, -5.7599, -6.0543, -6.1336, -6.2875, -7.1758, -6.8913, -7.4821, -7.4719, -7.8453, -7.4899, -7.5115, -4.3399, -5.3439, -8.4428, -5.4201, -3.4335, -4.1681, -4.4444, -4.52, -4.4923, -6.2093, -4.9891, -5.1025, -5.205, -5.3405, -5.8379, -5.9501], \"loglift\": [30.0, 29.0, 28.0, 27.0, 26.0, 25.0, 24.0, 23.0, 22.0, 21.0, 20.0, 19.0, 18.0, 17.0, 16.0, 15.0, 14.0, 13.0, 12.0, 11.0, 10.0, 9.0, 8.0, 7.0, 6.0, 5.0, 4.0, 3.0, 2.0, 1.0, 1.7775, 1.7774, 1.7773, 1.7773, 1.7772, 1.7771, 1.777, 1.777, 1.7768, 1.7767, 1.7767, 1.7766, 1.7765, 1.7762, 1.7762, 1.7762, 1.7761, 1.776, 1.7759, 1.7758, 1.7758, 1.7757, 1.7755, 1.7755, 1.775, 1.775, 1.775, 1.775, 1.7747, 1.7747, 1.0643, 2.0077, 2.0076, 2.0076, 2.0075, 2.0072, 2.0072, 2.0072, 2.0072, 2.0071, 2.0071, 2.0071, 2.007, 2.0068, 2.0067, 2.0067, 2.0065, 2.0065, 2.0065, 2.0065, 2.0064, 2.0063, 2.0061, 2.006, 2.0055, 2.0053, 2.0053, 2.0051, 2.0045, 2.0039, 2.0033, 1.9953, 0.2712, 2.0347, 2.0347, 2.0345, 2.0345, 2.0345, 2.0344, 2.0343, 2.0342, 2.0342, 2.034, 2.0339, 2.0337, 2.0334, 2.0334, 2.0331, 2.0329, 2.0329, 2.0328, 2.0328, 2.0326, 2.0325, 2.0323, 2.0318, 2.0318, 2.0318, 2.0317, 2.0316, 2.0313, 2.031, 2.031, 1.6833, 0.2178, 2.1027, 2.1027, 2.1026, 2.1025, 2.1024, 2.1023, 2.1023, 2.1023, 2.1023, 2.1022, 2.102, 2.102, 2.1019, 2.1016, 2.1011, 2.1011, 2.1009, 2.1, 2.0998, 2.0992, 2.0992, 2.0989, 2.0988, 2.0982, 2.0982, 2.0981, 2.0978, 2.0975, 2.0966, 2.0964, 2.0936, -1.1079, 2.1788, 2.1788, 2.1786, 2.1785, 2.1784, 2.1783, 2.1781, 2.1781, 2.178, 2.1779, 2.1778, 2.1778, 2.1778, 2.1777, 2.1775, 2.1773, 2.1772, 2.1771, 2.177, 2.177, 2.177, 2.1762, 2.1761, 2.176, 2.176, 2.1756, 2.1746, 2.1736, 2.1734, 2.1731, 2.1334, 2.4573, 2.457, 2.457, 2.4569, 2.4569, 2.4569, 2.4565, 2.4564, 2.4563, 2.4563, 2.4562, 2.4562, 2.4561, 2.4554, 2.4549, 2.4547, 2.4536, 2.4532, 2.4519, 2.4517, 2.4515, 2.4515, 2.4513, 2.4506, 2.4469, 2.4435, 2.4396, 2.439, 2.4375, 2.4357, 2.3926, 2.1965, 1.3471, 1.038, -0.2282, 1.0108, 2.5037, 2.5036, 2.5036, 2.5034, 2.5034, 2.5031, 2.5029, 2.5029, 2.5013, 2.5011, 2.501, 2.5007, 2.5005, 2.5005, 2.5004, 2.5001, 2.499, 2.4987, 2.4984, 2.4972, 2.4969, 2.4964, 2.4962, 2.4959, 2.4948, 2.4917, 2.4896, 2.4874, 2.4796, 2.4773, 2.1986, 2.0763, 1.7312, 1.8267, 1.4649, 2.5546, 2.5545, 2.5545, 2.5542, 2.5541, 2.5541, 2.554, 2.554, 2.5537, 2.5535, 2.5532, 2.5531, 2.5529, 2.5526, 2.5518, 2.5515, 2.5512, 2.5509, 2.5508, 2.5506, 2.5503, 2.5479, 2.5472, 2.5465, 2.5452, 2.5432, 2.5391, 2.5352, 2.5312, 2.5233, 2.5011, 2.4961, 2.4588, 1.098, 1.06, 1.3994, 2.9416, 2.9416, 2.9411, 2.941, 2.941, 2.9406, 2.9405, 2.9405, 2.9405, 2.9402, 2.9395, 2.9395, 2.9393, 2.939, 2.9387, 2.9383, 2.938, 2.9379, 2.9377, 2.9329, 2.932, 2.9316, 2.9311, 2.93, 2.9295, 2.9281, 2.9277, 2.9257, 2.9225, 2.9187, 2.9051, 2.9093, 2.86, 1.7584, 1.4785, 1.6732, 1.7916, 3.4163, 3.4161, 3.4161, 3.4152, 3.4147, 3.4143, 3.414, 3.4113, 3.4107, 3.4089, 3.4086, 3.4079, 3.401, 3.3921, 3.391, 3.3882, 3.3794, 3.3765, 3.3699, 3.3066, 3.295, 3.2514, 3.2342, 3.2102, 3.1975, 3.1705, 3.1245, 3.077, 3.0709, 3.0479, 2.992, 2.6144, 2.1365, 1.8083, 1.7856, 2.4611, 1.2516, 1.1221, 1.0207, 0.8746, 1.8536, 0.437]}, \"token.table\": {\"Topic\": [6, 7, 4, 1, 8, 5, 5, 1, 4, 10, 1, 2, 3, 4, 5, 7, 8, 9, 3, 2, 8, 2, 5, 1, 2, 3, 4, 5, 6, 8, 9, 10, 10, 10, 1, 2, 3, 4, 6, 7, 8, 9, 6, 6, 3, 1, 9, 9, 4, 1, 1, 2, 3, 4, 5, 6, 7, 8, 9, 10, 7, 4, 4, 4, 1, 5, 2, 2, 3, 7, 7, 2, 10, 2, 6, 1, 2, 3, 4, 5, 6, 7, 8, 9, 10, 3, 3, 1, 2, 3, 4, 5, 6, 7, 8, 9, 10, 4, 1, 3, 4, 8, 7, 1, 8, 3, 1, 2, 3, 4, 5, 6, 7, 8, 9, 10, 8, 3, 4, 5, 10, 7, 3, 7, 8, 8, 9, 6, 6, 1, 8, 9, 4, 10, 7, 1, 2, 3, 4, 5, 6, 7, 8, 9, 10, 5, 6, 5, 9, 2, 7, 2, 9, 3, 1, 2, 5, 10, 6, 4, 1, 2, 3, 4, 5, 6, 7, 8, 9, 10, 7, 1, 2, 3, 4, 5, 6, 7, 8, 9, 10, 7, 1, 2, 3, 4, 5, 6, 7, 8, 9, 10, 6, 1, 4, 8, 7, 2, 1, 3, 3, 8, 9, 4, 2, 4, 5, 10, 9, 8, 6, 3, 4, 3, 6, 8, 6, 1, 2, 3, 4, 5, 6, 7, 8, 9, 10, 4, 10, 1, 2, 3, 4, 5, 7, 8, 9, 2, 1, 2, 3, 4, 5, 6, 8, 9, 6, 1, 2, 3, 4, 5, 6, 7, 8, 9, 10, 1, 9, 10, 6, 2, 4, 5, 8, 5, 8, 2, 3, 5, 6, 6, 7, 5, 6, 8, 3, 3, 10, 1, 7, 6, 4, 1, 5, 2, 9, 1, 3, 1, 2, 3, 4, 5, 6, 7, 8, 9, 8, 4, 2, 8, 1, 2, 3, 4, 5, 6, 7, 8, 9, 10, 10, 9, 4, 1, 2, 3, 4, 5, 6, 7, 8, 9, 1, 2, 3, 4, 5, 6, 7, 8, 9, 9, 10, 9, 10, 1, 6, 8, 10, 4, 6, 4, 1, 2, 5, 8, 6, 3, 7, 8, 3, 6, 7, 3, 5, 5, 7, 1, 6, 9, 2, 1, 2, 3, 4, 5, 6, 7, 8, 9, 10, 9, 9, 8, 10, 1, 2, 3, 4, 5, 6, 7, 8, 9, 2, 4, 6, 2, 1, 8, 9, 10, 5, 8, 4, 5, 1, 2, 3, 4, 5, 6, 7, 8, 9, 10, 2, 1, 2, 3, 4, 5, 6, 7, 8, 9, 10, 4, 2, 9, 1, 2, 3, 4, 5, 6, 7, 8, 9, 10, 7, 1, 5, 6, 7, 8, 9, 7, 1, 4, 7, 1, 3, 1, 8, 4, 10, 10, 1, 1, 4, 1, 2, 3, 4, 5, 6, 7, 8, 9, 10, 2, 7, 7, 3, 6, 9, 3, 9, 1, 2, 3, 4, 5, 6, 8, 9, 10, 6, 3, 1, 5, 10, 1, 1, 2, 3, 4, 5, 6, 7, 8, 9, 1, 2, 3, 4, 5, 6, 7, 8, 9, 9, 7, 4, 5, 3, 9, 1, 10, 5, 10, 10, 5, 1, 4, 8, 5, 3, 2, 6, 7, 6, 9, 4, 2, 8, 2, 9, 10, 1, 7, 1, 3, 2, 8, 1, 5, 1, 2, 3, 4, 5, 6, 7, 8, 9, 5, 7, 7, 2, 1, 5, 9, 8, 8, 9, 9, 6, 3, 6, 10, 5, 8, 3, 2, 2, 5, 9, 10, 1, 2, 3, 4, 5, 6, 7, 8, 9, 10, 1, 2, 3, 5, 3, 8, 7, 9, 8, 5, 4, 3, 4, 6, 9, 9, 2, 1, 2, 3, 4, 5, 6, 7, 8, 9, 9, 3, 10, 5, 7, 2, 7, 8], \"Freq\": [0.9946531940244412, 0.9923288071688121, 0.9962004680846971, 0.9989888280979025, 0.9910081067175486, 0.9986233300484599, 0.9991562730960624, 0.9998205303709102, 0.9945586754345777, 0.979061838287475, 0.0025949124006862485, 0.05189824801372497, 0.01816438680480374, 0.03113894880823498, 0.03113894880823498, 0.6513230125722483, 0.20759299205489987, 0.0025949124006862485, 0.9969718945050072, 0.9961303155782099, 0.9902797915200702, 0.998641884986129, 0.9972321829099701, 0.0673256008823928, 0.07271164895298422, 0.03231628842354854, 0.32585590827078115, 0.1561953940471513, 0.024237216317661407, 0.3150838121295983, 0.0026930240352957117, 0.7851851800671628, 0.8671614215936055, 0.998546459994985, 0.010736245282801715, 0.02147249056560343, 0.02147249056560343, 0.010736245282801715, 0.010736245282801715, 0.010736245282801715, 0.010736245282801715, 0.9233170943209474, 0.9799144271793493, 0.9858472408700402, 0.9980392839622327, 0.9968332476236388, 0.9976141285189044, 0.9979423786827917, 0.9998201643835475, 0.9998028143518971, 0.1986720471023889, 0.14208823621879713, 0.08550442533520534, 0.1295140560224434, 0.021376106333801336, 0.24142425976999157, 0.07418766315848699, 0.0138315982159891, 0.015089016235624473, 0.07921733523702848, 0.9988675794833319, 0.9995825501888921, 0.9996457919085141, 0.9987924277708735, 0.9995429580067267, 0.9990191657095692, 0.999015895185569, 0.9994920387876698, 0.9993614246296643, 0.9995511231208636, 0.9964040058975127, 0.9988704073771166, 0.9817516623550314, 0.9981078382672381, 0.9945694405974441, 0.05256462122775461, 0.09425380358080138, 0.06525263324824711, 0.059814913810893176, 0.2845739838881888, 0.06887777953981639, 0.016313158312061777, 0.06344006010246246, 0.014500585166277134, 0.2773236913050502, 0.9950057543426263, 0.9961307653488339, 0.07316888461101784, 0.15231073939436365, 0.08362158241259181, 0.07316888461101784, 0.25833095995318545, 0.10900670564498575, 0.019412153060065957, 0.1299121012481337, 0.04927700392170589, 0.05077024646478789, 0.9951844363734644, 0.013264808442605058, 0.0033162021106512645, 0.03647822321716391, 0.9418013994249591, 0.9989360622005773, 0.9991739490219392, 0.9996211852864278, 0.9979439108587211, 0.0532212578988419, 0.1064425157976838, 0.03991594342413142, 0.04213349583658317, 0.130835592334653, 0.044351048249034915, 0.013305314474710474, 0.10866006821013555, 0.013305314474710474, 0.44794558731525264, 0.9954173074628189, 0.9993281942387351, 0.9938405870788762, 0.9997042413555264, 0.9974859185657394, 0.9945222986723276, 0.9976689477987963, 0.9976896269392754, 0.9992240407738802, 0.9676033043155684, 0.9850968844326555, 0.9985409103528342, 0.991594918108662, 0.9986977817695806, 0.9993118771294961, 0.9986477104379965, 0.9993381269610125, 0.9912195184770192, 0.9960140377172578, 0.05253758539521764, 0.04315587371750021, 0.7036283758288078, 0.04690855838858718, 0.02814513503315231, 0.024392450362065336, 0.031897819704239286, 0.03752684671086975, 0.030021477368695797, 0.0037526846710869747, 0.9976844311180887, 0.9992090261440774, 0.998610291024687, 0.9884818789389636, 0.9986764983307903, 0.9956735740515275, 0.9997874829829243, 0.9978679706682596, 0.996897774375081, 0.9968460232049025, 0.9994789954778878, 0.9991644360820311, 0.9995564993837652, 0.9797571997051396, 0.999215355482657, 0.4901163252526017, 0.17607811132249016, 0.16253364122076014, 0.04024642544514061, 0.02128416730271859, 0.06810933536869948, 0.015866379262026584, 0.008320174491062721, 0.01702733384217487, 0.0003869848600494289, 0.9922273644576682, 0.021725807173789195, 0.1024216623907205, 0.029485024021571053, 0.021725807173789195, 0.10552534912983323, 0.026381337282458308, 0.009311060217338227, 0.023277650543345567, 0.006207373478225485, 0.6533260585832322, 0.9980924843870572, 0.17061148681519053, 0.0770503488842796, 0.04953236713989403, 0.06604315618652537, 0.005503596348877114, 0.3577337626770124, 0.05503596348877114, 0.005503596348877114, 0.005503596348877114, 0.20913666125733033, 0.9998376873468496, 0.998871705854794, 0.999613414830281, 0.994477504358082, 0.9997786378904202, 0.9976102135080676, 0.9986209092784959, 0.9996461051167242, 0.9995207664080824, 0.9989397527652102, 0.9963720542876913, 0.9947005589157033, 0.9986092400160905, 0.9974704846470007, 0.9994333510322843, 0.9937288966864996, 0.9912027289158831, 0.9989568698151059, 0.9921960406740243, 0.9990056811767313, 0.9943701204950864, 0.9997175157676166, 0.9996571998380239, 0.9953337929023094, 0.9985794293555986, 0.04982416080535355, 0.0996483216107071, 0.08185397846593796, 0.04982416080535355, 0.16726682556082975, 0.09608945298175327, 0.014235474515815298, 0.11388379612652239, 0.3167393079768904, 0.007117737257907649, 0.9995603219159636, 0.7664798319699444, 0.02193935383977461, 0.13971904287435408, 0.08313860402440904, 0.026558165174463997, 0.019629948172429912, 0.4618811334689391, 0.23324997240181425, 0.013856434004068174, 0.9988962867777894, 0.017485384679197847, 0.007771282079643488, 0.001942820519910872, 0.003885641039821744, 0.955867695796149, 0.000971410259955436, 0.012628333379420669, 0.9813019637745721, 0.9843787281746899, 0.20216940322878377, 0.10577074738459548, 0.06560464078285036, 0.08702656430378108, 0.008033221320349023, 0.23831889917035437, 0.08836543452383926, 0.004016610660174512, 0.004016610660174512, 0.1954750521284929, 0.0015448541760023737, 0.996430943521531, 0.7546547697943088, 0.999436708963268, 0.9868531373735727, 0.002681666134167317, 0.002681666134167317, 0.002681666134167317, 0.9998110290796274, 0.9997103004396183, 0.004955976107918917, 0.004955976107918917, 0.004955976107918917, 0.9812832693679454, 0.9987997997984442, 0.9791005718108554, 0.9998404003809326, 0.9955222849338964, 0.9971762968761858, 0.9978045773361882, 0.9972536430572667, 0.8968680525674851, 0.9982473385241813, 0.9932935871852852, 0.9977285706310741, 0.999719702730885, 0.9980054622358007, 0.9980279853851772, 0.9998258752787886, 0.9976728736946577, 0.9994648467073028, 0.9987958710784713, 0.2288527881690982, 0.03814213136151637, 0.058484601420991766, 0.03305651384664752, 0.06357021893586062, 0.26445211077318015, 0.010171235029737699, 0.022885278816909823, 0.2822517720752211, 0.990414856301951, 0.9976739199372004, 0.9997848337461502, 0.9972243014645783, 0.1957357023700979, 0.07604120811500206, 0.05069413874333471, 0.06759218499111294, 0.002816341041296373, 0.3295119018316756, 0.07463303759435388, 0.0014081705206481865, 0.0014081705206481865, 0.19996021393204247, 0.997658658266823, 0.9835556799756028, 0.9977460931447423, 0.06735226352328387, 0.05657590135955845, 0.016164543245588126, 0.010776362163725418, 0.005388181081862709, 0.7705098947063674, 0.021552724327450836, 0.03232908649117625, 0.021552724327450836, 0.2245670696335821, 0.010055241923891737, 0.07038669346724216, 0.010055241923891737, 0.010055241923891737, 0.05697970423538651, 0.3552852146441747, 0.010055241923891737, 0.25808454271322123, 0.986691613850022, 0.9992560844729922, 0.9884154996813399, 0.9950394321711807, 0.9997597800617708, 0.9987089327704207, 0.9959636863705439, 0.9683526679313428, 0.9989232671543651, 0.9914913267464618, 0.9995587284144011, 0.9991989266205548, 0.9981550629608937, 0.996959333320123, 0.9988776762719334, 0.993075159210154, 0.9967534119502985, 0.9991218046950484, 0.9787628664758822, 0.9977489064412286, 0.999763721181924, 0.9979992093229406, 0.9981616629654032, 0.9985125914923363, 0.9990051390965793, 0.9981004420949945, 0.9988224779635834, 0.9986519240114231, 0.9976713533052081, 0.999483461954863, 0.02631552501392999, 0.017543683342619992, 0.017543683342619992, 0.013157762506964994, 0.11403394172702995, 0.02192960417827499, 0.004385920835654998, 0.03947328752089498, 0.004385920835654998, 0.7456065420613497, 0.9987669756159825, 0.9686424675902762, 0.9984634798188518, 0.8069927295882124, 0.11831010895502474, 0.06165456382163261, 0.09664769463931598, 0.13497350458249302, 0.0016663395627468274, 0.058321884696138956, 0.5082335666377823, 0.004999018688240482, 0.014997056064721447, 0.9989529844106064, 0.9962461661329061, 0.9945839413052467, 0.9996551063670778, 0.01135687192350002, 0.9085497538800016, 0.01135687192350002, 0.04542748769400008, 0.9988831248633271, 0.9987190461492031, 0.9960948265801808, 0.9981436581362009, 0.011413499371701026, 0.011413499371701026, 0.011413499371701026, 0.15978899120381435, 0.022826998743402053, 0.022826998743402053, 0.011413499371701026, 0.034240498115103074, 0.011413499371701026, 0.7076369610454636, 0.9991033448667804, 0.24624730276227397, 0.11169980743855727, 0.0977373315087376, 0.12439296737475695, 0.020309055897919502, 0.2170530349090147, 0.053311271732038694, 0.010154527948959751, 0.017770423910679567, 0.10027596349597755, 0.9974577887288327, 0.9992082977548868, 0.998721459088092, 0.2033416406697103, 0.14233914846879722, 0.08260754152206981, 0.12454675491019757, 0.017792393558599653, 0.23511377202435255, 0.07752400050532705, 0.011437967287671205, 0.012708852541856894, 0.09150373830136964, 0.9899042118710217, 0.007660953983775829, 0.007660953983775829, 0.007660953983775829, 0.007660953983775829, 0.007660953983775829, 0.9652802019557544, 0.9998301315324949, 0.9964664090147871, 0.9905563740798742, 0.9803768401381483, 0.9989801215434112, 0.9976397170176766, 0.9994956423532421, 0.9989756330168117, 0.9963492736637264, 0.9995786801616698, 0.9742332979389563, 0.9986777455583685, 0.9968091835735098, 0.9991908180480746, 0.11718685658629799, 0.014648357073287249, 0.014648357073287249, 0.014648357073287249, 0.014648357073287249, 0.014648357073287249, 0.029296714146574497, 0.35156056975889394, 0.058593428293148994, 0.38085728390546847, 0.9989403197732414, 0.9980337328752286, 0.983422554816923, 0.9985047811738251, 0.9989955992471526, 0.9994634703382971, 0.9984206298944145, 0.9987804101987253, 0.023929614241827907, 0.03589442136274186, 0.011964807120913953, 0.047859228483655814, 0.011964807120913953, 0.07178884272548372, 0.09571845696731163, 0.011964807120913953, 0.6939588130130093, 0.9995876857580428, 0.998115122567277, 0.9977168444382604, 0.9984963101542127, 0.9978483013404458, 0.9981240660333858, 0.011886129860576194, 0.17565058571740375, 0.04886520053792435, 0.06603405478097885, 0.18093331009988206, 0.0013206810956195771, 0.059430649302880965, 0.2245157862553281, 0.231119191733426, 0.012572253837041253, 0.012572253837041253, 0.008381502558027502, 0.004190751279013751, 0.004190751279013751, 0.004190751279013751, 0.004190751279013751, 0.9471097890571076, 0.004190751279013751, 0.9979092225776142, 0.9996147757188137, 0.9975569927078398, 0.9950716750255714, 0.014874610854321344, 0.9668497055308874, 0.9981290324763622, 0.949774772105766, 0.9985938295877964, 0.9658675177613016, 0.9925254639137137, 0.9953680176533418, 0.9975495946585362, 0.9998593529848165, 0.9811933362446182, 0.998015360373169, 0.9996638348722003, 0.9953622103200872, 0.9987616159051195, 0.995996790121545, 0.9351207433673069, 0.0513802606245773, 0.9969842536936085, 0.9991532780885359, 0.9981545670225017, 0.9989357383762256, 0.9963195983016935, 0.7706015058223229, 0.9992913915565952, 0.9826545977280773, 0.998822977105091, 0.9996291691634348, 0.9973318982114447, 0.9963107837980143, 0.9997438513753248, 0.9980376205256262, 0.08854753687503343, 0.017709507375006685, 0.051160799083352644, 0.013774061291671866, 0.013774061291671866, 0.045257629958350414, 0.7378961406252785, 0.009838615208337047, 0.023612676500008912, 0.9991839907556246, 0.9954071322131347, 0.9959553283987145, 0.9991379325793733, 0.9990993538166818, 0.9995720480429587, 0.9919650584378691, 0.9996617041424479, 0.9988857727979676, 0.9913525893709805, 0.9965257306428782, 0.999506132112511, 0.9998090628517161, 0.9967339062397675, 0.9914892554700334, 0.9995110267283744, 0.9752730988299525, 0.9994853675812841, 0.9974558618756909, 0.9976942995445036, 0.9968336043665501, 0.9989261209485117, 0.9433459876011007, 0.2025183275354945, 0.13802204488087844, 0.07868546483863163, 0.1186731600844936, 0.014189182184015539, 0.22831684059734095, 0.08771494441027788, 0.009029479571646253, 0.009029479571646253, 0.11480338312521664, 0.9999390517520285, 0.0028397841481352243, 0.0018931894320901497, 0.9948710465633737, 0.9952910142754446, 0.9997427903081436, 0.971622681245199, 0.9939569809220009, 0.9923055602490077, 0.998631041082142, 0.9983710154159278, 0.9998299719889402, 0.9995227879256529, 0.9964117377498266, 0.9996514575004389, 0.992661126560875, 0.9955792512525614, 0.21914140619765513, 0.06087261283268198, 0.05478535154941378, 0.05275626445499105, 0.08927983215460024, 0.15826879336497315, 0.01623269675538186, 0.04261082898287739, 0.30639215125783265, 0.9975253770936041, 0.998884157340759, 0.7954405857728949, 0.9956446011003237, 0.9894623890878164, 0.9981721750193293, 0.999795863134316, 0.9973813276316823], \"Term\": [\"able\", \"actually\", \"additional\", \"advice\", \"air\", \"all\", \"already\", \"also\", \"amazon\", \"amd\", \"argb\", \"argb\", \"argb\", \"argb\", \"argb\", \"argb\", \"argb\", \"argb\", \"around\", \"ask\", \"asus\", \"at\", \"back\", \"bandwidth\", \"bandwidth\", \"bandwidth\", \"bandwidth\", \"bandwidth\", \"bandwidth\", \"bandwidth\", \"bandwidth\", \"base_upgrading_simply\", \"beneficial\", \"bit\", \"black\", \"black\", \"black\", \"black\", \"black\", \"black\", \"black\", \"black\", \"board\", \"boot\", \"box\", \"brand\", \"bro\", \"btw\", \"budget\", \"build\", \"builder_mainly_play\", \"builder_mainly_play\", \"builder_mainly_play\", \"builder_mainly_play\", \"builder_mainly_play\", \"builder_mainly_play\", \"builder_mainly_play\", \"builder_mainly_play\", \"builder_mainly_play\", \"builder_mainly_play\", \"bundle\", \"buy\", \"cable\", \"card\", \"case\", \"certain\", \"change\", \"cheap\", \"check\", \"choose\", \"close\", \"com\", \"combo\", \"come\", \"compatibility\", \"compatibility_asus_viii\", \"compatibility_asus_viii\", \"compatibility_asus_viii\", \"compatibility_asus_viii\", \"compatibility_asus_viii\", \"compatibility_asus_viii\", \"compatibility_asus_viii\", \"compatibility_asus_viii\", \"compatibility_asus_viii\", \"compatibility_asus_viii\", \"compatible\", \"component\", \"confirm\", \"confirm\", \"confirm\", \"confirm\", \"confirm\", \"confirm\", \"confirm\", \"confirm\", \"confirm\", \"confirm\", \"connect\", \"connector\", \"connector\", \"connector\", \"connector\", \"controller\", \"cool\", \"cooler\", \"corsair\", \"corsair_commander\", \"corsair_commander\", \"corsair_commander\", \"corsair_commander\", \"corsair_commander\", \"corsair_commander\", \"corsair_commander\", \"corsair_commander\", \"corsair_commander\", \"corsair_commander\", \"couple\", \"cpu\", \"crap\", \"current\", \"day\", \"ddr\", \"deal\", \"decent\", \"decide\", \"def\", \"definitely\", \"depend\", \"die\", \"difference\", \"double\", \"doubt\", \"drive\", \"driver\", \"drop\", \"easily\", \"easily\", \"easily\", \"easily\", \"easily\", \"easily\", \"easily\", \"easily\", \"easily\", \"easily\", \"else\", \"end\", \"enough\", \"especially\", \"even\", \"expensive\", \"fan\", \"far\", \"few\", \"figure\", \"find\", \"fine\", \"first\", \"forget\", \"fps\", \"frame\", \"frame\", \"frame\", \"frame\", \"frame\", \"frame\", \"frame\", \"frame\", \"frame\", \"frame\", \"full\", \"fully_control\", \"fully_control\", \"fully_control\", \"fully_control\", \"fully_control\", \"fully_control\", \"fully_control\", \"fully_control\", \"fully_control\", \"fully_control\", \"future\", \"future_remake\", \"future_remake\", \"future_remake\", \"future_remake\", \"future_remake\", \"future_remake\", \"future_remake\", \"future_remake\", \"future_remake\", \"future_remake\", \"game\", \"gaming\", \"gb\", \"generally\", \"get\", \"gigabyte\", \"give\", \"go\", \"good\", \"got\", \"gpu\", \"grab\", \"great\", \"guess\", \"guy\", \"hand\", \"happen\", \"hard\", \"hardware\", \"hear\", \"help\", \"here\", \"high\", \"hit\", \"hold\", \"honestly_shade\", \"honestly_shade\", \"honestly_shade\", \"honestly_shade\", \"honestly_shade\", \"honestly_shade\", \"honestly_shade\", \"honestly_shade\", \"honestly_shade\", \"honestly_shade\", \"hope\", \"howdy\", \"however\", \"however\", \"however\", \"however\", \"however\", \"however\", \"however\", \"however\", \"https\", \"hub\", \"hub\", \"hub\", \"hub\", \"hub\", \"hub\", \"hub\", \"idea\", \"idk\", \"insight\", \"insight\", \"insight\", \"insight\", \"insight\", \"insight\", \"insight\", \"insight\", \"insight\", \"insight\", \"install\", \"install\", \"intel\", \"issue\", \"item\", \"item\", \"item\", \"item\", \"just\", \"keep\", \"key\", \"key\", \"key\", \"key\", \"kind\", \"kit\", \"know\", \"laptop\", \"last\", \"late\", \"less\", \"life\", \"like\", \"limit\", \"list\", \"little\", \"lol\", \"long\", \"look\", \"low\", \"make\", \"many\", \"mark\", \"mark\", \"mark\", \"mark\", \"mark\", \"mark\", \"mark\", \"mark\", \"mark\", \"match\", \"matter\", \"maybe\", \"mean\", \"medium_setting\", \"medium_setting\", \"medium_setting\", \"medium_setting\", \"medium_setting\", \"medium_setting\", \"medium_setting\", \"medium_setting\", \"medium_setting\", \"medium_setting\", \"memory\", \"mention\", \"microcenter\", \"mid\", \"mid\", \"mid\", \"mid\", \"mid\", \"mid\", \"mid\", \"mid\", \"mid\", \"mileage_life_build\", \"mileage_life_build\", \"mileage_life_build\", \"mileage_life_build\", \"mileage_life_build\", \"mileage_life_build\", \"mileage_life_build\", \"mileage_life_build\", \"mileage_life_build\", \"mm\", \"mobo\", \"model\", \"money\", \"more\", \"most\", \"motherboard\", \"msrp\", \"much\", \"nd\", \"need\", \"new\", \"newegg\", \"nice\", \"non\", \"normal\", \"notice\", \"now\", \"ok\", \"one\", \"only\", \"opinion\", \"option\", \"order\", \"other\", \"overprice\", \"own\", \"part\", \"pay\", \"pc\", \"pcie\", \"pcie\", \"pcie\", \"pcie\", \"pcie\", \"pcie\", \"pcie\", \"pcie\", \"pcie\", \"pcie\", \"people\", \"person\", \"personally\", \"physically_accessible\", \"pic\", \"pic\", \"pic\", \"pic\", \"pic\", \"pic\", \"pic\", \"pic\", \"pic\", \"pin\", \"place\", \"plan\", \"play\", \"plenty\", \"plenty\", \"plenty\", \"plenty\", \"plug\", \"point\", \"pop\", \"port\", \"potentially\", \"potentially\", \"potentially\", \"potentially\", \"potentially\", \"potentially\", \"potentially\", \"potentially\", \"potentially\", \"potentially\", \"power\", \"prefer\", \"prefer\", \"prefer\", \"prefer\", \"prefer\", \"prefer\", \"prefer\", \"prefer\", \"prefer\", \"prefer\", \"pretty\", \"price\", \"pricing\", \"priortize_upgrading_though\", \"priortize_upgrading_though\", \"priortize_upgrading_though\", \"priortize_upgrading_though\", \"priortize_upgrading_though\", \"priortize_upgrading_though\", \"priortize_upgrading_though\", \"priortize_upgrading_though\", \"priortize_upgrading_though\", \"priortize_upgrading_though\", \"pro\", \"prob\", \"prob\", \"prob\", \"prob\", \"prob\", \"prob\", \"probably\", \"problem\", \"processor\", \"prolly\", \"psu\", \"purchase\", \"push\", \"put\", \"question\", \"ram\", \"rate\", \"re\", \"realistically\", \"really\", \"recent\", \"recent\", \"recent\", \"recent\", \"recent\", \"recent\", \"recent\", \"recent\", \"recent\", \"recent\", \"recommend\", \"recommendation\", \"release\", \"reliable\", \"remember\", \"review\", \"rig\", \"right\", \"riser\", \"riser\", \"riser\", \"riser\", \"riser\", \"riser\", \"riser\", \"riser\", \"riser\", \"run\", \"ryzen\", \"same\", \"sata\", \"save\", \"say\", \"scalp\", \"scalp\", \"scalp\", \"scalp\", \"scalp\", \"scalp\", \"scalp\", \"scalp\", \"scalp\", \"screw\", \"screw\", \"screw\", \"screw\", \"screw\", \"screw\", \"screw\", \"screw\", \"screw\", \"see\", \"seem\", \"sell\", \"send\", \"seriously\", \"seriously\", \"set\", \"show\", \"side\", \"sit\", \"slightly\", \"slot\", \"small\", \"so\", \"software\", \"somewhere\", \"soon\", \"spec\", \"speed\", \"spend\", \"spin\", \"spin\", \"ssd\", \"start\", \"stick\", \"still\", \"stock\", \"strictly\", \"stuff\", \"suck\", \"suggest\", \"super\", \"supply\", \"support\", \"sure\", \"swap\", \"sweet\", \"sweet\", \"sweet\", \"sweet\", \"sweet\", \"sweet\", \"sweet\", \"sweet\", \"sweet\", \"take\", \"tax\", \"tb\", \"tell\", \"test\", \"thank\", \"that\", \"then\", \"there\", \"thermal\", \"thermal_paste\", \"thing\", \"think\", \"though\", \"ti\", \"time\", \"together\", \"too\", \"top\", \"tower\", \"trust\", \"try\", \"understand\", \"unsure\", \"unsure\", \"unsure\", \"unsure\", \"unsure\", \"unsure\", \"unsure\", \"unsure\", \"unsure\", \"unsure\", \"upgrade\", \"usb\", \"usb\", \"usb\", \"usd\", \"use\", \"user\", \"usually\", \"value\", \"very\", \"wait\", \"want\", \"way\", \"weird\", \"well\", \"white\", \"wifi\", \"willing_peer\", \"willing_peer\", \"willing_peer\", \"willing_peer\", \"willing_peer\", \"willing_peer\", \"willing_peer\", \"willing_peer\", \"willing_peer\", \"wonder\", \"work\", \"worried\", \"worth\", \"wrong\", \"www\", \"xt\", \"yet\"]}, \"R\": 30, \"lambda.step\": 0.01, \"plot.opts\": {\"xlab\": \"PC1\", \"ylab\": \"PC2\"}, \"topic.order\": [1, 5, 4, 3, 10, 6, 9, 2, 8, 7]};\n",
              "\n",
              "function LDAvis_load_lib(url, callback){\n",
              "  var s = document.createElement('script');\n",
              "  s.src = url;\n",
              "  s.async = true;\n",
              "  s.onreadystatechange = s.onload = callback;\n",
              "  s.onerror = function(){console.warn(\"failed to load library \" + url);};\n",
              "  document.getElementsByTagName(\"head\")[0].appendChild(s);\n",
              "}\n",
              "\n",
              "if(typeof(LDAvis) !== \"undefined\"){\n",
              "   // already loaded: just create the visualization\n",
              "   !function(LDAvis){\n",
              "       new LDAvis(\"#\" + \"ldavis_el2191331829245844645908305976\", ldavis_el2191331829245844645908305976_data);\n",
              "   }(LDAvis);\n",
              "}else if(typeof define === \"function\" && define.amd){\n",
              "   // require.js is available: use it to load d3/LDAvis\n",
              "   require.config({paths: {d3: \"https://d3js.org/d3.v5\"}});\n",
              "   require([\"d3\"], function(d3){\n",
              "      window.d3 = d3;\n",
              "      LDAvis_load_lib(\"https://cdn.jsdelivr.net/gh/bmabey/pyLDAvis@3.4.0/pyLDAvis/js/ldavis.v3.0.0.js\", function(){\n",
              "        new LDAvis(\"#\" + \"ldavis_el2191331829245844645908305976\", ldavis_el2191331829245844645908305976_data);\n",
              "      });\n",
              "    });\n",
              "}else{\n",
              "    // require.js not available: dynamically load d3 & LDAvis\n",
              "    LDAvis_load_lib(\"https://d3js.org/d3.v5.js\", function(){\n",
              "         LDAvis_load_lib(\"https://cdn.jsdelivr.net/gh/bmabey/pyLDAvis@3.4.0/pyLDAvis/js/ldavis.v3.0.0.js\", function(){\n",
              "                 new LDAvis(\"#\" + \"ldavis_el2191331829245844645908305976\", ldavis_el2191331829245844645908305976_data);\n",
              "            })\n",
              "         });\n",
              "}\n",
              "</script>"
            ]
          },
          "metadata": {},
          "execution_count": 198
        }
      ],
      "source": [
        "pyLDAvis.enable_notebook()\n",
        "vis = pyLDAvis.gensim.prepare(lda_model, corpus, id2word, mds=\"mmds\", R=30)\n",
        "vis"
      ]
    }
  ],
  "metadata": {
    "colab": {
      "provenance": []
    },
    "kernelspec": {
      "display_name": "Python 3",
      "name": "python3"
    },
    "language_info": {
      "name": "python"
    }
  },
  "nbformat": 4,
  "nbformat_minor": 0
}