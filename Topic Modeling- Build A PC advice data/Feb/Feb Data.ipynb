{
  "cells": [
    {
      "cell_type": "code",
      "execution_count": 1,
      "metadata": {
        "id": "jr3Q6G1ix0KV"
      },
      "outputs": [],
      "source": [
        "import nltk"
      ]
    },
    {
      "cell_type": "markdown",
      "metadata": {
        "id": "9fPwsKk-ywkq"
      },
      "source": [
        "nltk is used for stopwords"
      ]
    },
    {
      "cell_type": "code",
      "execution_count": 2,
      "metadata": {
        "colab": {
          "base_uri": "https://localhost:8080/"
        },
        "id": "jFqvajG41t4w",
        "outputId": "0a2543f4-792d-4470-adf4-19f534e95dd5"
      },
      "outputs": [
        {
          "output_type": "stream",
          "name": "stdout",
          "text": [
            "Collecting pyLDAvis\n",
            "  Downloading pyLDAvis-3.4.1-py3-none-any.whl (2.6 MB)\n",
            "\u001b[2K     \u001b[90m━━━━━━━━━━━━━━━━━━━━━━━━━━━━━━━━━━━━━━━━\u001b[0m \u001b[32m2.6/2.6 MB\u001b[0m \u001b[31m8.3 MB/s\u001b[0m eta \u001b[36m0:00:00\u001b[0m\n",
            "\u001b[?25hCollecting numpy>=1.24.2 (from pyLDAvis)\n",
            "  Downloading numpy-1.26.1-cp310-cp310-manylinux_2_17_x86_64.manylinux2014_x86_64.whl (18.2 MB)\n",
            "\u001b[2K     \u001b[90m━━━━━━━━━━━━━━━━━━━━━━━━━━━━━━━━━━━━━━━━\u001b[0m \u001b[32m18.2/18.2 MB\u001b[0m \u001b[31m31.2 MB/s\u001b[0m eta \u001b[36m0:00:00\u001b[0m\n",
            "\u001b[?25hRequirement already satisfied: scipy in /usr/local/lib/python3.10/dist-packages (from pyLDAvis) (1.11.3)\n",
            "Collecting pandas>=2.0.0 (from pyLDAvis)\n",
            "  Downloading pandas-2.1.1-cp310-cp310-manylinux_2_17_x86_64.manylinux2014_x86_64.whl (12.3 MB)\n",
            "\u001b[2K     \u001b[90m━━━━━━━━━━━━━━━━━━━━━━━━━━━━━━━━━━━━━━━━\u001b[0m \u001b[32m12.3/12.3 MB\u001b[0m \u001b[31m51.1 MB/s\u001b[0m eta \u001b[36m0:00:00\u001b[0m\n",
            "\u001b[?25hRequirement already satisfied: joblib>=1.2.0 in /usr/local/lib/python3.10/dist-packages (from pyLDAvis) (1.3.2)\n",
            "Requirement already satisfied: jinja2 in /usr/local/lib/python3.10/dist-packages (from pyLDAvis) (3.1.2)\n",
            "Requirement already satisfied: numexpr in /usr/local/lib/python3.10/dist-packages (from pyLDAvis) (2.8.7)\n",
            "Collecting funcy (from pyLDAvis)\n",
            "  Downloading funcy-2.0-py2.py3-none-any.whl (30 kB)\n",
            "Requirement already satisfied: scikit-learn>=1.0.0 in /usr/local/lib/python3.10/dist-packages (from pyLDAvis) (1.2.2)\n",
            "Requirement already satisfied: gensim in /usr/local/lib/python3.10/dist-packages (from pyLDAvis) (4.3.2)\n",
            "Requirement already satisfied: setuptools in /usr/local/lib/python3.10/dist-packages (from pyLDAvis) (67.7.2)\n",
            "Requirement already satisfied: python-dateutil>=2.8.2 in /usr/local/lib/python3.10/dist-packages (from pandas>=2.0.0->pyLDAvis) (2.8.2)\n",
            "Requirement already satisfied: pytz>=2020.1 in /usr/local/lib/python3.10/dist-packages (from pandas>=2.0.0->pyLDAvis) (2023.3.post1)\n",
            "Collecting tzdata>=2022.1 (from pandas>=2.0.0->pyLDAvis)\n",
            "  Downloading tzdata-2023.3-py2.py3-none-any.whl (341 kB)\n",
            "\u001b[2K     \u001b[90m━━━━━━━━━━━━━━━━━━━━━━━━━━━━━━━━━━━━━━━━\u001b[0m \u001b[32m341.8/341.8 kB\u001b[0m \u001b[31m25.9 MB/s\u001b[0m eta \u001b[36m0:00:00\u001b[0m\n",
            "\u001b[?25hRequirement already satisfied: threadpoolctl>=2.0.0 in /usr/local/lib/python3.10/dist-packages (from scikit-learn>=1.0.0->pyLDAvis) (3.2.0)\n",
            "Requirement already satisfied: smart-open>=1.8.1 in /usr/local/lib/python3.10/dist-packages (from gensim->pyLDAvis) (6.4.0)\n",
            "Requirement already satisfied: MarkupSafe>=2.0 in /usr/local/lib/python3.10/dist-packages (from jinja2->pyLDAvis) (2.1.3)\n",
            "Requirement already satisfied: six>=1.5 in /usr/local/lib/python3.10/dist-packages (from python-dateutil>=2.8.2->pandas>=2.0.0->pyLDAvis) (1.16.0)\n",
            "Installing collected packages: funcy, tzdata, numpy, pandas, pyLDAvis\n",
            "  Attempting uninstall: numpy\n",
            "    Found existing installation: numpy 1.23.5\n",
            "    Uninstalling numpy-1.23.5:\n",
            "      Successfully uninstalled numpy-1.23.5\n",
            "  Attempting uninstall: pandas\n",
            "    Found existing installation: pandas 1.5.3\n",
            "    Uninstalling pandas-1.5.3:\n",
            "      Successfully uninstalled pandas-1.5.3\n",
            "\u001b[31mERROR: pip's dependency resolver does not currently take into account all the packages that are installed. This behaviour is the source of the following dependency conflicts.\n",
            "cupy-cuda11x 11.0.0 requires numpy<1.26,>=1.20, but you have numpy 1.26.1 which is incompatible.\n",
            "google-colab 1.0.0 requires pandas==1.5.3, but you have pandas 2.1.1 which is incompatible.\n",
            "numba 0.56.4 requires numpy<1.24,>=1.18, but you have numpy 1.26.1 which is incompatible.\n",
            "tensorflow 2.13.0 requires numpy<=1.24.3,>=1.22, but you have numpy 1.26.1 which is incompatible.\u001b[0m\u001b[31m\n",
            "\u001b[0mSuccessfully installed funcy-2.0 numpy-1.26.1 pandas-2.1.1 pyLDAvis-3.4.1 tzdata-2023.3\n"
          ]
        }
      ],
      "source": [
        "!pip install pyLDAvis"
      ]
    },
    {
      "cell_type": "code",
      "execution_count": 3,
      "metadata": {
        "id": "pQ2sxjbiy55x"
      },
      "outputs": [],
      "source": [
        "import numpy as np\n",
        "import json\n",
        "import glob\n",
        "\n",
        "#Gensim\n",
        "import gensim\n",
        "import gensim.corpora as corpora\n",
        "from gensim.utils import simple_preprocess\n",
        "from gensim.models import CoherenceModel\n",
        "\n",
        "#spacy\n",
        "import spacy\n",
        "from nltk.corpus import stopwords\n",
        "\n",
        "#vis\n",
        "import pyLDAvis\n",
        "import pyLDAvis.gensim\n",
        "\n",
        "import warnings\n",
        "warnings.filterwarnings(\"ignore\", category=DeprecationWarning) #ignore warnings"
      ]
    },
    {
      "cell_type": "code",
      "execution_count": 4,
      "metadata": {
        "id": "-LW0YYvJy7FD"
      },
      "outputs": [],
      "source": [
        "def load_data(file):\n",
        "  with open (file, \"r\", encoding = \"utf-8\") as f:\n",
        "    data = json.load(f)\n",
        "  return (data)\n",
        "\n",
        "def write_data(file, data):\n",
        "  with open (file, \"w\", encoding = \"utf-8\") as f:\n",
        "    json.dump(data, f, indent=4)"
      ]
    },
    {
      "cell_type": "code",
      "execution_count": null,
      "metadata": {
        "id": "wDpxSfbSZ05n"
      },
      "outputs": [],
      "source": []
    },
    {
      "cell_type": "markdown",
      "metadata": {
        "id": "-jLUTHFt3SSp"
      },
      "source": [
        "list of stopwords from https://gist.github.com/sebleier/554280"
      ]
    },
    {
      "cell_type": "code",
      "execution_count": 5,
      "metadata": {
        "id": "fMQUkBML2ZN6"
      },
      "outputs": [],
      "source": [
        "stopwords = [\"0o\", \"0s\", \"3a\", \"3b\", \"3d\", \"6b\", \"6o\", \"a\", \"a1\", \"a2\", \"a3\", \"a4\", \"ab\", \"able\", \"about\", \"above\", \"abst\", \"ac\", \"accordance\", \"according\", \"accordingly\", \"across\", \"act\", \"actually\", \"ad\", \"added\", \"adj\", \"ae\", \"af\", \"affected\", \"affecting\", \"affects\", \"after\", \"afterwards\", \"ag\", \"again\", \"against\", \"ah\", \"ain\", \"ain't\", \"aj\", \"al\", \"all\", \"allow\", \"allows\", \"almost\", \"alone\", \"along\", \"already\", \"also\", \"although\", \"always\", \"am\", \"among\", \"amongst\", \"amoungst\", \"amount\", \"an\", \"and\", \"announce\", \"another\", \"any\", \"anybody\", \"anyhow\", \"anymore\", \"anyone\", \"anything\", \"anyway\", \"anyways\", \"anywhere\", \"ao\", \"ap\", \"apart\", \"apparently\", \"appear\", \"appreciate\", \"appropriate\", \"approximately\", \"ar\", \"are\", \"aren\", \"arent\", \"aren't\", \"arise\", \"around\", \"as\", \"a's\", \"aside\", \"ask\", \"asking\", \"associated\", \"at\", \"au\", \"auth\", \"av\", \"available\", \"aw\", \"away\", \"awfully\", \"ax\", \"ay\", \"az\", \"b\", \"b1\", \"b2\", \"b3\", \"ba\", \"back\", \"bc\", \"bd\", \"be\", \"became\", \"because\", \"become\", \"becomes\", \"becoming\", \"been\", \"before\", \"beforehand\", \"begin\", \"beginning\", \"beginnings\", \"begins\", \"behind\", \"being\", \"believe\", \"below\", \"beside\", \"besides\", \"best\", \"better\", \"between\", \"beyond\", \"bi\", \"bill\", \"biol\", \"bj\", \"bk\", \"bl\", \"bn\", \"both\", \"bottom\", \"bp\", \"br\", \"brief\", \"briefly\", \"bs\", \"bt\", \"bu\", \"but\", \"bx\", \"by\", \"c\", \"c1\", \"c2\", \"c3\", \"ca\", \"call\", \"came\", \"can\", \"cannot\", \"cant\", \"can't\", \"cause\", \"causes\", \"cc\", \"cd\", \"ce\", \"certain\", \"certainly\", \"cf\", \"cg\", \"ch\", \"changes\", \"ci\", \"cit\", \"cj\", \"cl\", \"clearly\", \"cm\", \"c'mon\", \"cn\", \"co\", \"com\", \"come\", \"comes\", \"con\", \"concerning\", \"consequently\", \"consider\", \"considering\", \"contain\", \"containing\", \"contains\", \"corresponding\", \"could\", \"couldn\", \"couldnt\", \"couldn't\", \"course\", \"cp\", \"cq\", \"cr\", \"cry\", \"cs\", \"c's\", \"ct\", \"cu\", \"currently\", \"cv\", \"cx\", \"cy\", \"cz\", \"d\", \"d2\", \"da\", \"date\", \"dc\", \"dd\", \"de\", \"definitely\", \"describe\", \"described\", \"despite\", \"detail\", \"df\", \"di\", \"did\", \"didn\", \"didn't\", \"different\", \"dj\", \"dk\", \"dl\", \"do\", \"does\", \"doesn\", \"doesn't\", \"doing\", \"don\", \"done\", \"don't\", \"down\", \"downwards\", \"dp\", \"dr\", \"ds\", \"dt\", \"du\", \"due\", \"during\", \"dx\", \"dy\", \"e\", \"e2\", \"e3\", \"ea\", \"each\", \"ec\", \"ed\", \"edu\", \"ee\", \"ef\", \"effect\", \"eg\", \"ei\", \"eight\", \"eighty\", \"either\", \"ej\", \"el\", \"eleven\", \"else\", \"elsewhere\", \"em\", \"empty\", \"en\", \"end\", \"ending\", \"enough\", \"entirely\", \"eo\", \"ep\", \"eq\", \"er\", \"es\", \"especially\", \"est\", \"et\", \"et-al\", \"etc\", \"eu\", \"ev\", \"even\", \"ever\", \"every\", \"everybody\", \"everyone\", \"everything\", \"everywhere\", \"ex\", \"exactly\", \"example\", \"except\", \"ey\", \"f\", \"f2\", \"fa\", \"far\", \"fc\", \"few\", \"ff\", \"fi\", \"fifteen\", \"fifth\", \"fify\", \"fill\", \"find\", \"fire\", \"first\", \"five\", \"fix\", \"fj\", \"fl\", \"fn\", \"fo\", \"followed\", \"following\", \"follows\", \"for\", \"former\", \"formerly\", \"forth\", \"forty\", \"found\", \"four\", \"fr\", \"from\", \"front\", \"fs\", \"ft\", \"fu\", \"full\", \"further\", \"furthermore\", \"fy\", \"g\", \"ga\", \"gave\", \"ge\", \"get\", \"gets\", \"getting\", \"gi\", \"give\", \"given\", \"gives\", \"giving\", \"gj\", \"gl\", \"go\", \"goes\", \"going\", \"gone\", \"got\", \"gotten\", \"gr\", \"greetings\", \"gs\", \"gy\", \"h\", \"h2\", \"h3\", \"had\", \"hadn\", \"hadn't\", \"happens\", \"hardly\", \"has\", \"hasn\", \"hasnt\", \"hasn't\", \"have\", \"haven\", \"haven't\", \"having\", \"he\", \"hed\", \"he'd\", \"he'll\", \"hello\", \"help\", \"hence\", \"her\", \"here\", \"hereafter\", \"hereby\", \"herein\", \"heres\", \"here's\", \"hereupon\", \"hers\", \"herself\", \"hes\", \"he's\", \"hh\", \"hi\", \"hid\", \"him\", \"himself\", \"his\", \"hither\", \"hj\", \"ho\", \"home\", \"hopefully\", \"how\", \"howbeit\", \"however\", \"how's\", \"hr\", \"hs\", \"http\", \"hu\", \"hundred\", \"hy\", \"i\", \"i2\", \"i3\", \"i4\", \"i6\", \"i7\", \"i8\", \"ia\", \"ib\", \"ibid\", \"ic\", \"id\", \"i'd\", \"ie\", \"if\", \"ig\", \"ignored\", \"ih\", \"ii\", \"ij\", \"il\", \"i'll\", \"im\", \"i'm\", \"immediate\", \"immediately\", \"importance\", \"important\", \"in\", \"inasmuch\", \"inc\", \"indeed\", \"index\", \"indicate\", \"indicated\", \"indicates\", \"information\", \"inner\", \"insofar\", \"instead\", \"interest\", \"into\", \"invention\", \"inward\", \"io\", \"ip\", \"iq\", \"ir\", \"is\", \"isn\", \"isn't\", \"it\", \"itd\", \"it'd\", \"it'll\", \"its\", \"it's\", \"itself\", \"iv\", \"i've\", \"ix\", \"iy\", \"iz\", \"j\", \"jj\", \"jr\", \"js\", \"jt\", \"ju\", \"just\", \"k\", \"ke\", \"keep\", \"keeps\", \"kept\", \"kg\", \"kj\", \"km\", \"know\", \"known\", \"knows\", \"ko\", \"l\", \"l2\", \"la\", \"largely\", \"last\", \"lately\", \"later\", \"latter\", \"latterly\", \"lb\", \"lc\", \"le\", \"least\", \"les\", \"less\", \"lest\", \"let\", \"lets\", \"let's\", \"lf\", \"like\", \"liked\", \"likely\", \"line\", \"little\", \"lj\", \"ll\", \"ll\", \"ln\", \"lo\", \"look\", \"looking\", \"looks\", \"los\", \"lr\", \"ls\", \"lt\", \"ltd\", \"m\", \"m2\", \"ma\", \"made\", \"mainly\", \"make\", \"makes\", \"many\", \"may\", \"maybe\", \"me\", \"mean\", \"means\", \"meantime\", \"meanwhile\", \"merely\", \"mg\", \"might\", \"mightn\", \"mightn't\", \"mill\", \"million\", \"mine\", \"miss\", \"ml\", \"mn\", \"mo\", \"more\", \"moreover\", \"most\", \"mostly\", \"move\", \"mr\", \"mrs\", \"ms\", \"mt\", \"mu\", \"much\", \"mug\", \"must\", \"mustn\", \"mustn't\", \"my\", \"myself\", \"n\", \"n2\", \"na\", \"name\", \"namely\", \"nay\", \"nc\", \"nd\", \"ne\", \"near\", \"nearly\", \"necessarily\", \"necessary\", \"need\", \"needn\", \"needn't\", \"needs\", \"neither\", \"never\", \"nevertheless\", \"new\", \"next\", \"ng\", \"ni\", \"nine\", \"ninety\", \"nj\", \"nl\", \"nn\", \"no\", \"nobody\", \"non\", \"none\", \"nonetheless\", \"noone\", \"nor\", \"normally\", \"nos\", \"not\", \"noted\", \"nothing\", \"novel\", \"now\", \"nowhere\", \"nr\", \"ns\", \"nt\", \"ny\", \"o\", \"oa\", \"ob\", \"obtain\", \"obtained\", \"obviously\", \"oc\", \"od\", \"of\", \"off\", \"often\", \"og\", \"oh\", \"oi\", \"oj\", \"ok\", \"okay\", \"ol\", \"old\", \"om\", \"omitted\", \"on\", \"once\", \"one\", \"ones\", \"only\", \"onto\", \"oo\", \"op\", \"oq\", \"or\", \"ord\", \"os\", \"ot\", \"other\", \"others\", \"otherwise\", \"ou\", \"ought\", \"our\", \"ours\", \"ourselves\", \"out\", \"outside\", \"over\", \"overall\", \"ow\", \"owing\", \"own\", \"ox\", \"oz\", \"p\", \"p1\", \"p2\", \"p3\", \"page\", \"pagecount\", \"pages\", \"par\", \"part\", \"particular\", \"particularly\", \"pas\", \"past\", \"pc\", \"pd\", \"pe\", \"per\", \"perhaps\", \"pf\", \"ph\", \"pi\", \"pj\", \"pk\", \"pl\", \"placed\", \"please\", \"plus\", \"pm\", \"pn\", \"po\", \"poorly\", \"possible\", \"possibly\", \"potentially\", \"pp\", \"pq\", \"pr\", \"predominantly\", \"present\", \"presumably\", \"previously\", \"primarily\", \"probably\", \"promptly\", \"proud\", \"provides\", \"ps\", \"pt\", \"pu\", \"put\", \"py\", \"q\", \"qj\", \"qu\", \"que\", \"quickly\", \"quite\", \"qv\", \"r\", \"r2\", \"ra\", \"ran\", \"rather\", \"rc\", \"rd\", \"re\", \"readily\", \"really\", \"reasonably\", \"recent\", \"recently\", \"ref\", \"refs\", \"regarding\", \"regardless\", \"regards\", \"related\", \"relatively\", \"research\", \"research-articl\", \"respectively\", \"resulted\", \"resulting\", \"results\", \"rf\", \"rh\", \"ri\", \"right\", \"rj\", \"rl\", \"rm\", \"rn\", \"ro\", \"rq\", \"rr\", \"rs\", \"rt\", \"ru\", \"run\", \"rv\", \"ry\", \"s\", \"s2\", \"sa\", \"said\", \"same\", \"saw\", \"say\", \"saying\", \"says\", \"sc\", \"sd\", \"se\", \"sec\", \"second\", \"secondly\", \"section\", \"see\", \"seeing\", \"seem\", \"seemed\", \"seeming\", \"seems\", \"seen\", \"self\", \"selves\", \"sensible\", \"sent\", \"serious\", \"seriously\", \"seven\", \"several\", \"sf\", \"shall\", \"shan\", \"shan't\", \"she\", \"shed\", \"she'd\", \"she'll\", \"shes\", \"she's\", \"should\", \"shouldn\", \"shouldn't\", \"should've\", \"show\", \"showed\", \"shown\", \"showns\", \"shows\", \"si\", \"side\", \"significant\", \"significantly\", \"similar\", \"similarly\", \"since\", \"sincere\", \"six\", \"sixty\", \"sj\", \"sl\", \"slightly\", \"sm\", \"sn\", \"so\", \"some\", \"somebody\", \"somehow\", \"someone\", \"somethan\", \"something\", \"sometime\", \"sometimes\", \"somewhat\", \"somewhere\", \"soon\", \"sorry\", \"sp\", \"specifically\", \"specified\", \"specify\", \"specifying\", \"sq\", \"sr\", \"ss\", \"st\", \"still\", \"stop\", \"strongly\", \"sub\", \"substantially\", \"successfully\", \"such\", \"sufficiently\", \"suggest\", \"sup\", \"sure\", \"sy\", \"system\", \"sz\", \"t\", \"t1\", \"t2\", \"t3\", \"take\", \"taken\", \"taking\", \"tb\", \"tc\", \"td\", \"te\", \"tell\", \"ten\", \"tends\", \"tf\", \"th\", \"than\", \"thank\", \"thanks\", \"thanx\", \"that\", \"that'll\", \"thats\", \"that's\", \"that've\", \"the\", \"their\", \"theirs\", \"them\", \"themselves\", \"then\", \"thence\", \"there\", \"thereafter\", \"thereby\", \"thered\", \"therefore\", \"therein\", \"there'll\", \"thereof\", \"therere\", \"theres\", \"there's\", \"thereto\", \"thereupon\", \"there've\", \"these\", \"they\", \"theyd\", \"they'd\", \"they'll\", \"theyre\", \"they're\", \"they've\", \"thickv\", \"thin\", \"think\", \"third\", \"this\", \"thorough\", \"thoroughly\", \"those\", \"thou\", \"though\", \"thoughh\", \"thousand\", \"three\", \"throug\", \"through\", \"throughout\", \"thru\", \"thus\", \"ti\", \"til\", \"tip\", \"tj\", \"tl\", \"tm\", \"tn\", \"to\", \"together\", \"too\", \"took\", \"top\", \"toward\", \"towards\", \"tp\", \"tq\", \"tr\", \"tried\", \"tries\", \"truly\", \"try\", \"trying\", \"ts\", \"t's\", \"tt\", \"tv\", \"twelve\", \"twenty\", \"twice\", \"two\", \"tx\", \"u\", \"u201d\", \"ue\", \"ui\", \"uj\", \"uk\", \"um\", \"un\", \"under\", \"unfortunately\", \"unless\", \"unlike\", \"unlikely\", \"until\", \"unto\", \"uo\", \"up\", \"upon\", \"ups\", \"ur\", \"us\", \"use\", \"used\", \"useful\", \"usefully\", \"usefulness\", \"uses\", \"using\", \"usually\", \"ut\", \"v\", \"va\", \"value\", \"various\", \"vd\", \"ve\", \"ve\", \"very\", \"via\", \"viz\", \"vj\", \"vo\", \"vol\", \"vols\", \"volumtype\", \"vq\", \"vs\", \"vt\", \"vu\", \"w\", \"wa\", \"want\", \"wants\", \"was\", \"wasn\", \"wasnt\", \"wasn't\", \"way\", \"we\", \"wed\", \"we'd\", \"welcome\", \"well\", \"we'll\", \"well-b\", \"went\", \"were\", \"we're\", \"weren\", \"werent\", \"weren't\", \"we've\", \"what\", \"whatever\", \"what'll\", \"whats\", \"what's\", \"when\", \"whence\", \"whenever\", \"when's\", \"where\", \"whereafter\", \"whereas\", \"whereby\", \"wherein\", \"wheres\", \"where's\", \"whereupon\", \"wherever\", \"whether\", \"which\", \"while\", \"whim\", \"whither\", \"who\", \"whod\", \"whoever\", \"whole\", \"who'll\", \"whom\", \"whomever\", \"whos\", \"who's\", \"whose\", \"why\", \"why's\", \"wi\", \"widely\", \"will\", \"willing\", \"wish\", \"with\", \"within\", \"without\", \"wo\", \"won\", \"wonder\", \"wont\", \"won't\", \"words\", \"world\", \"would\", \"wouldn\", \"wouldnt\", \"wouldn't\", \"www\", \"x\", \"x1\", \"x2\", \"x3\", \"xf\", \"xi\", \"xj\", \"xk\", \"xl\", \"xn\", \"xo\", \"xs\", \"xt\", \"xv\", \"xx\", \"y\", \"y2\", \"yes\", \"yet\", \"yj\", \"yl\", \"you\", \"youd\", \"you'd\", \"you'll\", \"your\", \"youre\", \"you're\", \"yours\", \"yourself\", \"yourselves\", \"you've\", \"yr\", \"ys\", \"yt\", \"z\", \"zero\", \"zi\", \"zz\"]"
      ]
    },
    {
      "cell_type": "code",
      "execution_count": 6,
      "metadata": {
        "id": "L-NJJyU33bL8"
      },
      "outputs": [],
      "source": [
        "stopwords=[i.replace('\"',\"\").strip() for i in stopwords] #what does this do :3 need to learn more\n"
      ]
    },
    {
      "cell_type": "code",
      "execution_count": null,
      "metadata": {
        "colab": {
          "base_uri": "https://localhost:8080/"
        },
        "id": "dkC1ut6I3fYJ",
        "outputId": "442eaf7a-fdcf-4929-e489-bf247ee5ba36"
      },
      "outputs": [
        {
          "name": "stdout",
          "output_type": "stream",
          "text": [
            "['0o', '0s', '3a', '3b', '3d', '6b', '6o', 'a', 'a1', 'a2', 'a3', 'a4', 'ab', 'able', 'about', 'above', 'abst', 'ac', 'accordance', 'according', 'accordingly', 'across', 'act', 'actually', 'ad', 'added', 'adj', 'ae', 'af', 'affected', 'affecting', 'affects', 'after', 'afterwards', 'ag', 'again', 'against', 'ah', 'ain', \"ain't\", 'aj', 'al', 'all', 'allow', 'allows', 'almost', 'alone', 'along', 'already', 'also', 'although', 'always', 'am', 'among', 'amongst', 'amoungst', 'amount', 'an', 'and', 'announce', 'another', 'any', 'anybody', 'anyhow', 'anymore', 'anyone', 'anything', 'anyway', 'anyways', 'anywhere', 'ao', 'ap', 'apart', 'apparently', 'appear', 'appreciate', 'appropriate', 'approximately', 'ar', 'are', 'aren', 'arent', \"aren't\", 'arise', 'around', 'as', \"a's\", 'aside', 'ask', 'asking', 'associated', 'at', 'au', 'auth', 'av', 'available', 'aw', 'away', 'awfully', 'ax', 'ay', 'az', 'b', 'b1', 'b2', 'b3', 'ba', 'back', 'bc', 'bd', 'be', 'became', 'because', 'become', 'becomes', 'becoming', 'been', 'before', 'beforehand', 'begin', 'beginning', 'beginnings', 'begins', 'behind', 'being', 'believe', 'below', 'beside', 'besides', 'best', 'better', 'between', 'beyond', 'bi', 'bill', 'biol', 'bj', 'bk', 'bl', 'bn', 'both', 'bottom', 'bp', 'br', 'brief', 'briefly', 'bs', 'bt', 'bu', 'but', 'bx', 'by', 'c', 'c1', 'c2', 'c3', 'ca', 'call', 'came', 'can', 'cannot', 'cant', \"can't\", 'cause', 'causes', 'cc', 'cd', 'ce', 'certain', 'certainly', 'cf', 'cg', 'ch', 'changes', 'ci', 'cit', 'cj', 'cl', 'clearly', 'cm', \"c'mon\", 'cn', 'co', 'com', 'come', 'comes', 'con', 'concerning', 'consequently', 'consider', 'considering', 'contain', 'containing', 'contains', 'corresponding', 'could', 'couldn', 'couldnt', \"couldn't\", 'course', 'cp', 'cq', 'cr', 'cry', 'cs', \"c's\", 'ct', 'cu', 'currently', 'cv', 'cx', 'cy', 'cz', 'd', 'd2', 'da', 'date', 'dc', 'dd', 'de', 'definitely', 'describe', 'described', 'despite', 'detail', 'df', 'di', 'did', 'didn', \"didn't\", 'different', 'dj', 'dk', 'dl', 'do', 'does', 'doesn', \"doesn't\", 'doing', 'don', 'done', \"don't\", 'down', 'downwards', 'dp', 'dr', 'ds', 'dt', 'du', 'due', 'during', 'dx', 'dy', 'e', 'e2', 'e3', 'ea', 'each', 'ec', 'ed', 'edu', 'ee', 'ef', 'effect', 'eg', 'ei', 'eight', 'eighty', 'either', 'ej', 'el', 'eleven', 'else', 'elsewhere', 'em', 'empty', 'en', 'end', 'ending', 'enough', 'entirely', 'eo', 'ep', 'eq', 'er', 'es', 'especially', 'est', 'et', 'et-al', 'etc', 'eu', 'ev', 'even', 'ever', 'every', 'everybody', 'everyone', 'everything', 'everywhere', 'ex', 'exactly', 'example', 'except', 'ey', 'f', 'f2', 'fa', 'far', 'fc', 'few', 'ff', 'fi', 'fifteen', 'fifth', 'fify', 'fill', 'find', 'fire', 'first', 'five', 'fix', 'fj', 'fl', 'fn', 'fo', 'followed', 'following', 'follows', 'for', 'former', 'formerly', 'forth', 'forty', 'found', 'four', 'fr', 'from', 'front', 'fs', 'ft', 'fu', 'full', 'further', 'furthermore', 'fy', 'g', 'ga', 'gave', 'ge', 'get', 'gets', 'getting', 'gi', 'give', 'given', 'gives', 'giving', 'gj', 'gl', 'go', 'goes', 'going', 'gone', 'got', 'gotten', 'gr', 'greetings', 'gs', 'gy', 'h', 'h2', 'h3', 'had', 'hadn', \"hadn't\", 'happens', 'hardly', 'has', 'hasn', 'hasnt', \"hasn't\", 'have', 'haven', \"haven't\", 'having', 'he', 'hed', \"he'd\", \"he'll\", 'hello', 'help', 'hence', 'her', 'here', 'hereafter', 'hereby', 'herein', 'heres', \"here's\", 'hereupon', 'hers', 'herself', 'hes', \"he's\", 'hh', 'hi', 'hid', 'him', 'himself', 'his', 'hither', 'hj', 'ho', 'home', 'hopefully', 'how', 'howbeit', 'however', \"how's\", 'hr', 'hs', 'http', 'hu', 'hundred', 'hy', 'i', 'i2', 'i3', 'i4', 'i6', 'i7', 'i8', 'ia', 'ib', 'ibid', 'ic', 'id', \"i'd\", 'ie', 'if', 'ig', 'ignored', 'ih', 'ii', 'ij', 'il', \"i'll\", 'im', \"i'm\", 'immediate', 'immediately', 'importance', 'important', 'in', 'inasmuch', 'inc', 'indeed', 'index', 'indicate', 'indicated', 'indicates', 'information', 'inner', 'insofar', 'instead', 'interest', 'into', 'invention', 'inward', 'io', 'ip', 'iq', 'ir', 'is', 'isn', \"isn't\", 'it', 'itd', \"it'd\", \"it'll\", 'its', \"it's\", 'itself', 'iv', \"i've\", 'ix', 'iy', 'iz', 'j', 'jj', 'jr', 'js', 'jt', 'ju', 'just', 'k', 'ke', 'keep', 'keeps', 'kept', 'kg', 'kj', 'km', 'know', 'known', 'knows', 'ko', 'l', 'l2', 'la', 'largely', 'last', 'lately', 'later', 'latter', 'latterly', 'lb', 'lc', 'le', 'least', 'les', 'less', 'lest', 'let', 'lets', \"let's\", 'lf', 'like', 'liked', 'likely', 'line', 'little', 'lj', 'll', 'll', 'ln', 'lo', 'look', 'looking', 'looks', 'los', 'lr', 'ls', 'lt', 'ltd', 'm', 'm2', 'ma', 'made', 'mainly', 'make', 'makes', 'many', 'may', 'maybe', 'me', 'mean', 'means', 'meantime', 'meanwhile', 'merely', 'mg', 'might', 'mightn', \"mightn't\", 'mill', 'million', 'mine', 'miss', 'ml', 'mn', 'mo', 'more', 'moreover', 'most', 'mostly', 'move', 'mr', 'mrs', 'ms', 'mt', 'mu', 'much', 'mug', 'must', 'mustn', \"mustn't\", 'my', 'myself', 'n', 'n2', 'na', 'name', 'namely', 'nay', 'nc', 'nd', 'ne', 'near', 'nearly', 'necessarily', 'necessary', 'need', 'needn', \"needn't\", 'needs', 'neither', 'never', 'nevertheless', 'new', 'next', 'ng', 'ni', 'nine', 'ninety', 'nj', 'nl', 'nn', 'no', 'nobody', 'non', 'none', 'nonetheless', 'noone', 'nor', 'normally', 'nos', 'not', 'noted', 'nothing', 'novel', 'now', 'nowhere', 'nr', 'ns', 'nt', 'ny', 'o', 'oa', 'ob', 'obtain', 'obtained', 'obviously', 'oc', 'od', 'of', 'off', 'often', 'og', 'oh', 'oi', 'oj', 'ok', 'okay', 'ol', 'old', 'om', 'omitted', 'on', 'once', 'one', 'ones', 'only', 'onto', 'oo', 'op', 'oq', 'or', 'ord', 'os', 'ot', 'other', 'others', 'otherwise', 'ou', 'ought', 'our', 'ours', 'ourselves', 'out', 'outside', 'over', 'overall', 'ow', 'owing', 'own', 'ox', 'oz', 'p', 'p1', 'p2', 'p3', 'page', 'pagecount', 'pages', 'par', 'part', 'particular', 'particularly', 'pas', 'past', 'pc', 'pd', 'pe', 'per', 'perhaps', 'pf', 'ph', 'pi', 'pj', 'pk', 'pl', 'placed', 'please', 'plus', 'pm', 'pn', 'po', 'poorly', 'possible', 'possibly', 'potentially', 'pp', 'pq', 'pr', 'predominantly', 'present', 'presumably', 'previously', 'primarily', 'probably', 'promptly', 'proud', 'provides', 'ps', 'pt', 'pu', 'put', 'py', 'q', 'qj', 'qu', 'que', 'quickly', 'quite', 'qv', 'r', 'r2', 'ra', 'ran', 'rather', 'rc', 'rd', 're', 'readily', 'really', 'reasonably', 'recent', 'recently', 'ref', 'refs', 'regarding', 'regardless', 'regards', 'related', 'relatively', 'research', 'research-articl', 'respectively', 'resulted', 'resulting', 'results', 'rf', 'rh', 'ri', 'right', 'rj', 'rl', 'rm', 'rn', 'ro', 'rq', 'rr', 'rs', 'rt', 'ru', 'run', 'rv', 'ry', 's', 's2', 'sa', 'said', 'same', 'saw', 'say', 'saying', 'says', 'sc', 'sd', 'se', 'sec', 'second', 'secondly', 'section', 'see', 'seeing', 'seem', 'seemed', 'seeming', 'seems', 'seen', 'self', 'selves', 'sensible', 'sent', 'serious', 'seriously', 'seven', 'several', 'sf', 'shall', 'shan', \"shan't\", 'she', 'shed', \"she'd\", \"she'll\", 'shes', \"she's\", 'should', 'shouldn', \"shouldn't\", \"should've\", 'show', 'showed', 'shown', 'showns', 'shows', 'si', 'side', 'significant', 'significantly', 'similar', 'similarly', 'since', 'sincere', 'six', 'sixty', 'sj', 'sl', 'slightly', 'sm', 'sn', 'so', 'some', 'somebody', 'somehow', 'someone', 'somethan', 'something', 'sometime', 'sometimes', 'somewhat', 'somewhere', 'soon', 'sorry', 'sp', 'specifically', 'specified', 'specify', 'specifying', 'sq', 'sr', 'ss', 'st', 'still', 'stop', 'strongly', 'sub', 'substantially', 'successfully', 'such', 'sufficiently', 'suggest', 'sup', 'sure', 'sy', 'system', 'sz', 't', 't1', 't2', 't3', 'take', 'taken', 'taking', 'tb', 'tc', 'td', 'te', 'tell', 'ten', 'tends', 'tf', 'th', 'than', 'thank', 'thanks', 'thanx', 'that', \"that'll\", 'thats', \"that's\", \"that've\", 'the', 'their', 'theirs', 'them', 'themselves', 'then', 'thence', 'there', 'thereafter', 'thereby', 'thered', 'therefore', 'therein', \"there'll\", 'thereof', 'therere', 'theres', \"there's\", 'thereto', 'thereupon', \"there've\", 'these', 'they', 'theyd', \"they'd\", \"they'll\", 'theyre', \"they're\", \"they've\", 'thickv', 'thin', 'think', 'third', 'this', 'thorough', 'thoroughly', 'those', 'thou', 'though', 'thoughh', 'thousand', 'three', 'throug', 'through', 'throughout', 'thru', 'thus', 'ti', 'til', 'tip', 'tj', 'tl', 'tm', 'tn', 'to', 'together', 'too', 'took', 'top', 'toward', 'towards', 'tp', 'tq', 'tr', 'tried', 'tries', 'truly', 'try', 'trying', 'ts', \"t's\", 'tt', 'tv', 'twelve', 'twenty', 'twice', 'two', 'tx', 'u', 'u201d', 'ue', 'ui', 'uj', 'uk', 'um', 'un', 'under', 'unfortunately', 'unless', 'unlike', 'unlikely', 'until', 'unto', 'uo', 'up', 'upon', 'ups', 'ur', 'us', 'use', 'used', 'useful', 'usefully', 'usefulness', 'uses', 'using', 'usually', 'ut', 'v', 'va', 'value', 'various', 'vd', 've', 've', 'very', 'via', 'viz', 'vj', 'vo', 'vol', 'vols', 'volumtype', 'vq', 'vs', 'vt', 'vu', 'w', 'wa', 'want', 'wants', 'was', 'wasn', 'wasnt', \"wasn't\", 'way', 'we', 'wed', \"we'd\", 'welcome', 'well', \"we'll\", 'well-b', 'went', 'were', \"we're\", 'weren', 'werent', \"weren't\", \"we've\", 'what', 'whatever', \"what'll\", 'whats', \"what's\", 'when', 'whence', 'whenever', \"when's\", 'where', 'whereafter', 'whereas', 'whereby', 'wherein', 'wheres', \"where's\", 'whereupon', 'wherever', 'whether', 'which', 'while', 'whim', 'whither', 'who', 'whod', 'whoever', 'whole', \"who'll\", 'whom', 'whomever', 'whos', \"who's\", 'whose', 'why', \"why's\", 'wi', 'widely', 'will', 'willing', 'wish', 'with', 'within', 'without', 'wo', 'won', 'wonder', 'wont', \"won't\", 'words', 'world', 'would', 'wouldn', 'wouldnt', \"wouldn't\", 'www', 'x', 'x1', 'x2', 'x3', 'xf', 'xi', 'xj', 'xk', 'xl', 'xn', 'xo', 'xs', 'xt', 'xv', 'xx', 'y', 'y2', 'yes', 'yet', 'yj', 'yl', 'you', 'youd', \"you'd\", \"you'll\", 'your', 'youre', \"you're\", 'yours', 'yourself', 'yourselves', \"you've\", 'yr', 'ys', 'yt', 'z', 'zero', 'zi', 'zz']\n"
          ]
        }
      ],
      "source": [
        "print(stopwords)"
      ]
    },
    {
      "cell_type": "markdown",
      "metadata": {
        "id": "6LbBcrpa4BCm"
      },
      "source": []
    },
    {
      "cell_type": "code",
      "execution_count": 214,
      "metadata": {
        "colab": {
          "base_uri": "https://localhost:8080/",
          "height": 55
        },
        "id": "zcX6Fik-as99",
        "outputId": "f6ab8242-3fd5-4717-a42c-8ae0c64bf4f6"
      },
      "outputs": [
        {
          "output_type": "display_data",
          "data": {
            "text/plain": [
              "<IPython.core.display.HTML object>"
            ],
            "text/html": [
              "\n",
              "     <input type=\"file\" id=\"files-72f39da3-5408-4b9d-afc3-54b52a161a06\" name=\"files[]\" multiple disabled\n",
              "        style=\"border:none\" />\n",
              "     <output id=\"result-72f39da3-5408-4b9d-afc3-54b52a161a06\">\n",
              "      Upload widget is only available when the cell has been executed in the\n",
              "      current browser session. Please rerun this cell to enable.\n",
              "      </output>\n",
              "      <script>// Copyright 2017 Google LLC\n",
              "//\n",
              "// Licensed under the Apache License, Version 2.0 (the \"License\");\n",
              "// you may not use this file except in compliance with the License.\n",
              "// You may obtain a copy of the License at\n",
              "//\n",
              "//      http://www.apache.org/licenses/LICENSE-2.0\n",
              "//\n",
              "// Unless required by applicable law or agreed to in writing, software\n",
              "// distributed under the License is distributed on an \"AS IS\" BASIS,\n",
              "// WITHOUT WARRANTIES OR CONDITIONS OF ANY KIND, either express or implied.\n",
              "// See the License for the specific language governing permissions and\n",
              "// limitations under the License.\n",
              "\n",
              "/**\n",
              " * @fileoverview Helpers for google.colab Python module.\n",
              " */\n",
              "(function(scope) {\n",
              "function span(text, styleAttributes = {}) {\n",
              "  const element = document.createElement('span');\n",
              "  element.textContent = text;\n",
              "  for (const key of Object.keys(styleAttributes)) {\n",
              "    element.style[key] = styleAttributes[key];\n",
              "  }\n",
              "  return element;\n",
              "}\n",
              "\n",
              "// Max number of bytes which will be uploaded at a time.\n",
              "const MAX_PAYLOAD_SIZE = 100 * 1024;\n",
              "\n",
              "function _uploadFiles(inputId, outputId) {\n",
              "  const steps = uploadFilesStep(inputId, outputId);\n",
              "  const outputElement = document.getElementById(outputId);\n",
              "  // Cache steps on the outputElement to make it available for the next call\n",
              "  // to uploadFilesContinue from Python.\n",
              "  outputElement.steps = steps;\n",
              "\n",
              "  return _uploadFilesContinue(outputId);\n",
              "}\n",
              "\n",
              "// This is roughly an async generator (not supported in the browser yet),\n",
              "// where there are multiple asynchronous steps and the Python side is going\n",
              "// to poll for completion of each step.\n",
              "// This uses a Promise to block the python side on completion of each step,\n",
              "// then passes the result of the previous step as the input to the next step.\n",
              "function _uploadFilesContinue(outputId) {\n",
              "  const outputElement = document.getElementById(outputId);\n",
              "  const steps = outputElement.steps;\n",
              "\n",
              "  const next = steps.next(outputElement.lastPromiseValue);\n",
              "  return Promise.resolve(next.value.promise).then((value) => {\n",
              "    // Cache the last promise value to make it available to the next\n",
              "    // step of the generator.\n",
              "    outputElement.lastPromiseValue = value;\n",
              "    return next.value.response;\n",
              "  });\n",
              "}\n",
              "\n",
              "/**\n",
              " * Generator function which is called between each async step of the upload\n",
              " * process.\n",
              " * @param {string} inputId Element ID of the input file picker element.\n",
              " * @param {string} outputId Element ID of the output display.\n",
              " * @return {!Iterable<!Object>} Iterable of next steps.\n",
              " */\n",
              "function* uploadFilesStep(inputId, outputId) {\n",
              "  const inputElement = document.getElementById(inputId);\n",
              "  inputElement.disabled = false;\n",
              "\n",
              "  const outputElement = document.getElementById(outputId);\n",
              "  outputElement.innerHTML = '';\n",
              "\n",
              "  const pickedPromise = new Promise((resolve) => {\n",
              "    inputElement.addEventListener('change', (e) => {\n",
              "      resolve(e.target.files);\n",
              "    });\n",
              "  });\n",
              "\n",
              "  const cancel = document.createElement('button');\n",
              "  inputElement.parentElement.appendChild(cancel);\n",
              "  cancel.textContent = 'Cancel upload';\n",
              "  const cancelPromise = new Promise((resolve) => {\n",
              "    cancel.onclick = () => {\n",
              "      resolve(null);\n",
              "    };\n",
              "  });\n",
              "\n",
              "  // Wait for the user to pick the files.\n",
              "  const files = yield {\n",
              "    promise: Promise.race([pickedPromise, cancelPromise]),\n",
              "    response: {\n",
              "      action: 'starting',\n",
              "    }\n",
              "  };\n",
              "\n",
              "  cancel.remove();\n",
              "\n",
              "  // Disable the input element since further picks are not allowed.\n",
              "  inputElement.disabled = true;\n",
              "\n",
              "  if (!files) {\n",
              "    return {\n",
              "      response: {\n",
              "        action: 'complete',\n",
              "      }\n",
              "    };\n",
              "  }\n",
              "\n",
              "  for (const file of files) {\n",
              "    const li = document.createElement('li');\n",
              "    li.append(span(file.name, {fontWeight: 'bold'}));\n",
              "    li.append(span(\n",
              "        `(${file.type || 'n/a'}) - ${file.size} bytes, ` +\n",
              "        `last modified: ${\n",
              "            file.lastModifiedDate ? file.lastModifiedDate.toLocaleDateString() :\n",
              "                                    'n/a'} - `));\n",
              "    const percent = span('0% done');\n",
              "    li.appendChild(percent);\n",
              "\n",
              "    outputElement.appendChild(li);\n",
              "\n",
              "    const fileDataPromise = new Promise((resolve) => {\n",
              "      const reader = new FileReader();\n",
              "      reader.onload = (e) => {\n",
              "        resolve(e.target.result);\n",
              "      };\n",
              "      reader.readAsArrayBuffer(file);\n",
              "    });\n",
              "    // Wait for the data to be ready.\n",
              "    let fileData = yield {\n",
              "      promise: fileDataPromise,\n",
              "      response: {\n",
              "        action: 'continue',\n",
              "      }\n",
              "    };\n",
              "\n",
              "    // Use a chunked sending to avoid message size limits. See b/62115660.\n",
              "    let position = 0;\n",
              "    do {\n",
              "      const length = Math.min(fileData.byteLength - position, MAX_PAYLOAD_SIZE);\n",
              "      const chunk = new Uint8Array(fileData, position, length);\n",
              "      position += length;\n",
              "\n",
              "      const base64 = btoa(String.fromCharCode.apply(null, chunk));\n",
              "      yield {\n",
              "        response: {\n",
              "          action: 'append',\n",
              "          file: file.name,\n",
              "          data: base64,\n",
              "        },\n",
              "      };\n",
              "\n",
              "      let percentDone = fileData.byteLength === 0 ?\n",
              "          100 :\n",
              "          Math.round((position / fileData.byteLength) * 100);\n",
              "      percent.textContent = `${percentDone}% done`;\n",
              "\n",
              "    } while (position < fileData.byteLength);\n",
              "  }\n",
              "\n",
              "  // All done.\n",
              "  yield {\n",
              "    response: {\n",
              "      action: 'complete',\n",
              "    }\n",
              "  };\n",
              "}\n",
              "\n",
              "scope.google = scope.google || {};\n",
              "scope.google.colab = scope.google.colab || {};\n",
              "scope.google.colab._files = {\n",
              "  _uploadFiles,\n",
              "  _uploadFilesContinue,\n",
              "};\n",
              "})(self);\n",
              "</script> "
            ]
          },
          "metadata": {}
        },
        {
          "output_type": "execute_result",
          "data": {
            "text/plain": [
              "{}"
            ]
          },
          "metadata": {},
          "execution_count": 214
        }
      ],
      "source": [
        "from google.colab import files\n",
        "files.upload()"
      ]
    },
    {
      "cell_type": "code",
      "execution_count": 202,
      "metadata": {
        "id": "kHwkF8gwZ2wE"
      },
      "outputs": [],
      "source": [
        "data = load_data(\"build-advice (11).json\")"
      ]
    },
    {
      "cell_type": "code",
      "execution_count": 203,
      "metadata": {
        "colab": {
          "base_uri": "https://localhost:8080/"
        },
        "id": "1HFYpi3IbUQX",
        "outputId": "f8db8eca-df30-4d36-d821-68fd55e9f820"
      },
      "outputs": [
        {
          "output_type": "stream",
          "name": "stdout",
          "text": [
            "well I used both and recently moved to samsung\n",
            "12005\n"
          ]
        }
      ],
      "source": [
        "print(data[3]['content'])\n",
        "print(len(data))"
      ]
    },
    {
      "cell_type": "code",
      "execution_count": 204,
      "metadata": {
        "id": "LWj5bXWCftEP"
      },
      "outputs": [],
      "source": [
        "Ndata = []\n",
        "for i in data:\n",
        "  Ndata.append(i['content'])\n",
        "#create a new list that contains only the chat content"
      ]
    },
    {
      "cell_type": "code",
      "execution_count": 205,
      "metadata": {
        "id": "AO8X5iCBhcVY",
        "colab": {
          "base_uri": "https://localhost:8080/"
        },
        "outputId": "d3fef0fd-fa7b-453c-aaa6-36d1f53d0032"
      },
      "outputs": [
        {
          "output_type": "stream",
          "name": "stdout",
          "text": [
            "apk goes brr\n"
          ]
        }
      ],
      "source": [
        "print(Ndata[0])"
      ]
    },
    {
      "cell_type": "code",
      "execution_count": 206,
      "metadata": {
        "colab": {
          "base_uri": "https://localhost:8080/"
        },
        "id": "Tp3YyIvch_8P",
        "outputId": "ae0af21c-a1ff-4ca3-cc76-235e6dd6623b"
      },
      "outputs": [
        {
          "output_type": "stream",
          "name": "stdout",
          "text": [
            "\n"
          ]
        }
      ],
      "source": [
        "def lemmatization(texts, allowed_postags =[\"NOUN\", \"ADJ\", \"VERB\", \"ADV\"] ): #reduction of words to their root form;\n",
        "  nlp = spacy.load(\"en_core_web_sm\", disable= [\"parser\", \"ner\"])\n",
        "  texts_out = []\n",
        "  for text in texts:\n",
        "    doc = nlp(text)\n",
        "    new_text = []\n",
        "    for token in doc:\n",
        "      if token.pos_ in allowed_postags:\n",
        "        new_text.append(token.lemma_)\n",
        "      final = \" \".join(new_text)\n",
        "      texts_out.append(final)\n",
        "  return (texts_out)\n",
        "\n",
        "lemmatizated_texts = lemmatization(Ndata)\n",
        "print(lemmatizated_texts[0])\n"
      ]
    },
    {
      "cell_type": "code",
      "execution_count": 207,
      "metadata": {
        "colab": {
          "base_uri": "https://localhost:8080/"
        },
        "id": "CCy3na53vBGS",
        "outputId": "4f33807b-1393-4f44-cae5-87769774ebb0"
      },
      "outputs": [
        {
          "output_type": "stream",
          "name": "stdout",
          "text": [
            "ont live\n"
          ]
        }
      ],
      "source": [
        "print(lemmatizated_texts[300])"
      ]
    },
    {
      "cell_type": "code",
      "execution_count": 208,
      "metadata": {
        "id": "75iUw8jBxjKl"
      },
      "outputs": [],
      "source": [
        "def gen_words(texts):\n",
        "  final = []\n",
        "  for text in texts:\n",
        "    new = gensim.utils.simple_preprocess(text, deacc=True)\n",
        "    final.append(new)\n",
        "  return final\n",
        "data_words = gen_words(lemmatizated_texts)"
      ]
    },
    {
      "cell_type": "code",
      "execution_count": 209,
      "metadata": {
        "id": "yIXXqMAkx_l5",
        "colab": {
          "base_uri": "https://localhost:8080/"
        },
        "outputId": "bcc1b439-b5ce-4560-da7b-ab800e7e5d86"
      },
      "outputs": [
        {
          "output_type": "stream",
          "name": "stdout",
          "text": [
            "[]\n"
          ]
        }
      ],
      "source": [
        "print(data_words[3])"
      ]
    },
    {
      "cell_type": "code",
      "source": [
        "bigrams_phrases = gensim.models.Phrases(data_words, min_count=5, threshold=50) # higher threshold fewer phrases.\n",
        "Trigram_phrases = gensim.models.Phrases(bigrams_phrases[data_words], threshold=100)\n",
        "\n",
        "bigram = gensim.models.phrases.Phraser(bigrams_phrases)\n",
        "trigram = gensim.models.phrases.Phraser(Trigram_phrases)\n",
        "\n",
        "def make_bigrams(texts):\n",
        "  return([bigram[doc] for doc in texts])\n",
        "\n",
        "def make_trigram(texts):\n",
        "  return ([trigram[bigram[doc]] for doc in texts])\n",
        "\n",
        "data_bigrams = make_bigrams(data_words)\n",
        "data_bigrams_trigrams = make_trigram(data_bigrams)\n",
        "\n",
        "print(data_bigrams_trigrams)\n",
        "\n"
      ],
      "metadata": {
        "colab": {
          "base_uri": "https://localhost:8080/"
        },
        "id": "5VC-d8YZJwK2",
        "outputId": "806169f5-9e40-4737-f11b-894d7f956f78"
      },
      "execution_count": 210,
      "outputs": [
        {
          "output_type": "stream",
          "name": "stderr",
          "text": [
            "IOPub data rate exceeded.\n",
            "The notebook server will temporarily stop sending output\n",
            "to the client in order to avoid crashing it.\n",
            "To change this limit, set the config variable\n",
            "`--NotebookApp.iopub_data_rate_limit`.\n",
            "\n",
            "Current values:\n",
            "NotebookApp.iopub_data_rate_limit=1000000.0 (bytes/sec)\n",
            "NotebookApp.rate_limit_window=3.0 (secs)\n",
            "\n"
          ]
        }
      ]
    },
    {
      "cell_type": "code",
      "source": [
        "from gensim.models import TfidfModel\n",
        "\n",
        "id2word = corpora.Dictionary(data_bigrams_trigrams)\n",
        "\n",
        "texts = data_bigrams_trigrams\n",
        "\n",
        "corpus = [id2word.doc2bow(text) for text in texts]\n",
        "# print (corpus[0][0:20])\n",
        "\n",
        "tfidf = TfidfModel(corpus, id2word=id2word)\n",
        "\n",
        "low_value = 0.1\n",
        "words  = []\n",
        "words_missing_in_tfidf = []\n",
        "for i in range(0, len(corpus)):\n",
        "    bow = corpus[i]\n",
        "    low_value_words = [] #reinitialize to be safe. You can skip this.\n",
        "    tfidf_ids = [id for id, value in tfidf[bow]]\n",
        "    bow_ids = [id for id, value in bow]\n",
        "    low_value_words = [id for id, value in tfidf[bow] if value < low_value]\n",
        "    drops = low_value_words+words_missing_in_tfidf\n",
        "    for item in drops:\n",
        "        words.append(id2word[item])\n",
        "    words_missing_in_tfidf = [id for id in bow_ids if id not in tfidf_ids] # The words with tf-idf socre 0 will be missing\n",
        "\n",
        "    new_bow = [b for b in bow if b[0] not in low_value_words and b[0] not in words_missing_in_tfidf]\n",
        "    corpus[i] = new_bow"
      ],
      "metadata": {
        "id": "uBtzogBeOMSt"
      },
      "execution_count": 211,
      "outputs": []
    },
    {
      "cell_type": "code",
      "execution_count": 165,
      "metadata": {
        "id": "4xljwKFjntgK"
      },
      "outputs": [],
      "source": [
        "# id2word = corpora.Dictionary(data_bigrams_trigrams)\n",
        "\n",
        "# corpus = []\n",
        "# for text in data_words:\n",
        "#     new = id2word.doc2bow(text)\n",
        "#     corpus.append(new)\n",
        "\n",
        "# print (corpus[0][0:20])\n",
        "\n",
        "# word = id2word[[0][:1][0]]\n",
        "# print (word)"
      ]
    },
    {
      "cell_type": "code",
      "execution_count": 212,
      "metadata": {
        "id": "WvZNJ4ePQ1HM"
      },
      "outputs": [],
      "source": [
        "lda_model = gensim.models.ldamodel.LdaModel(corpus=corpus,\n",
        "                                           id2word=id2word,\n",
        "                                           num_topics=10,\n",
        "                                           random_state=100,\n",
        "                                           update_every=1,\n",
        "                                           chunksize=100,\n",
        "                                           passes=10,\n",
        "                                           alpha=\"auto\")"
      ]
    },
    {
      "cell_type": "code",
      "execution_count": 213,
      "metadata": {
        "colab": {
          "base_uri": "https://localhost:8080/",
          "height": 916
        },
        "id": "Ty7EDQ2KRIFu",
        "outputId": "4c208d2f-7042-4f16-82af-124b27e390fd"
      },
      "outputs": [
        {
          "output_type": "stream",
          "name": "stderr",
          "text": [
            "/usr/local/lib/python3.10/dist-packages/sklearn/manifold/_mds.py:299: FutureWarning: The default value of `normalized_stress` will change to `'auto'` in version 1.4. To suppress this warning, manually set the value of `normalized_stress`.\n",
            "  warnings.warn(\n"
          ]
        },
        {
          "output_type": "execute_result",
          "data": {
            "text/plain": [
              "PreparedData(topic_coordinates=              x         y  topics  cluster       Freq\n",
              "topic                                                \n",
              "8     -0.466657 -0.180055       1        1  24.070143\n",
              "9      0.044401  0.139450       2        1  16.482449\n",
              "3     -0.303025  0.372909       3        1  11.751198\n",
              "6      0.268196 -0.279270       4        1  11.481287\n",
              "2      0.437071 -0.064527       5        1  11.221928\n",
              "7      0.379500  0.263244       6        1   9.380031\n",
              "4      0.064074  0.422682       7        1   6.411335\n",
              "1      0.037004 -0.466243       8        1   4.781395\n",
              "5     -0.300896  0.062905       9        1   4.337291\n",
              "0     -0.159668 -0.271095      10        1   0.082943, topic_info=         Term          Freq         Total Category  logprob  loglift\n",
              "179     build  12201.000000  12201.000000  Default  30.0000  30.0000\n",
              "193       buy  11688.000000  11688.000000  Default  29.0000  29.0000\n",
              "225    window   8710.000000   8710.000000  Default  28.0000  28.0000\n",
              "208       new   7728.000000   7728.000000  Default  27.0000  27.0000\n",
              "36       just  11620.000000  11620.000000  Default  26.0000  26.0000\n",
              "..        ...           ...           ...      ...      ...      ...\n",
              "3        like      0.060448    759.122010  Topic10  -8.8619  -2.3434\n",
              "5     android      0.060448      0.976711  Topic10  -8.8619   4.3124\n",
              "6       first      0.060448   1530.941967  Topic10  -8.8619  -3.0448\n",
              "7      device      0.060448    221.340506  Topic10  -8.8619  -1.1109\n",
              "8    actually      0.060448   2542.188337  Topic10  -8.8619  -3.5520\n",
              "\n",
              "[393 rows x 6 columns], token_table=      Topic      Freq      Term\n",
              "term                           \n",
              "829       3  0.996622      able\n",
              "2855      1  0.054205  activate\n",
              "2855      2  0.072635  activate\n",
              "2855      3  0.368595  activate\n",
              "2855      4  0.039570  activate\n",
              "...     ...       ...       ...\n",
              "552       3  0.999527     worry\n",
              "257       4  0.998297     worth\n",
              "877       4  0.997314       www\n",
              "167       2  0.999340      year\n",
              "1001      4  0.998562       yet\n",
              "\n",
              "[531 rows x 3 columns], R=30, lambda_step=0.01, plot_opts={'xlab': 'PC1', 'ylab': 'PC2'}, topic_order=[9, 10, 4, 7, 3, 8, 5, 2, 6, 1])"
            ],
            "text/html": [
              "\n",
              "<link rel=\"stylesheet\" type=\"text/css\" href=\"https://cdn.jsdelivr.net/gh/bmabey/pyLDAvis@3.4.0/pyLDAvis/js/ldavis.v1.0.0.css\">\n",
              "\n",
              "\n",
              "<div id=\"ldavis_el2191331828649121443804510931\" style=\"background-color:white;\"></div>\n",
              "<script type=\"text/javascript\">\n",
              "\n",
              "var ldavis_el2191331828649121443804510931_data = {\"mdsDat\": {\"x\": [-0.4666570149483338, 0.04440064807380051, -0.3030248311777785, 0.2681963700162371, 0.43707106617749814, 0.3794996808170207, 0.06407358693065798, 0.03700435354938033, -0.3008958096723254, -0.15966804976615678], \"y\": [-0.18005548016511075, 0.13945010144298312, 0.3729089969272242, -0.2792701057231248, -0.06452746394106805, 0.2632441108288372, 0.4226821935877836, -0.466242752235351, 0.06290491915072001, -0.2710945198728934], \"topics\": [1, 2, 3, 4, 5, 6, 7, 8, 9, 10], \"cluster\": [1, 1, 1, 1, 1, 1, 1, 1, 1, 1], \"Freq\": [24.07014259307592, 16.482448710979444, 11.75119787417991, 11.481287217307187, 11.221928081334072, 9.380030913828941, 6.411335274107029, 4.781395483613537, 4.3372905084127025, 0.0829433431612562]}, \"tinfo\": {\"Term\": [\"build\", \"buy\", \"window\", \"new\", \"just\", \"say\", \"go\", \"use\", \"think\", \"drive\", \"so\", \"panel\", \"get\", \"pc\", \"still\", \"deal\", \"know\", \"look\", \"sure\", \"thing\", \"re\", \"install\", \"also\", \"more\", \"fine\", \"cpu\", \"now\", \"most\", \"budget\", \"need\", \"just\", \"so\", \"get\", \"look\", \"install\", \"need\", \"usb\", \"ram\", \"see\", \"issue\", \"mobo\", \"series\", \"try\", \"gb\", \"stick\", \"computer\", \"free\", \"big\", \"seem\", \"old\", \"push\", \"case\", \"rx\", \"fast\", \"realize\", \"keep\", \"ryzen\", \"annoying\", \"cheap\", \"overkill\", \"download\", \"go\", \"deal\", \"sure\", \"well\", \"version\", \"hard\", \"ago\", \"want\", \"much\", \"wait\", \"gaming\", \"latency\", \"decent\", \"feel\", \"end\", \"amazing\", \"upgrade\", \"option\", \"update\", \"time\", \"nice\", \"board\", \"performance\", \"mainly\", \"suggest\", \"month\", \"year\", \"main\", \"literally\", \"turn\", \"recent\", \"buy\", \"drive\", \"good\", \"monitor\", \"day\", \"depend\", \"power\", \"game\", \"thermal\", \"worry\", \"cable\", \"later\", \"kind_of\", \"lol\", \"as\", \"play\", \"tell\", \"os\", \"other\", \"expensive\", \"future\", \"mostly\", \"in\", \"psu\", \"high\", \"name\", \"place\", \"hdd\", \"able\", \"suppose\", \"key\", \"flash\", \"activate\", \"recent\", \"build\", \"think\", \"panel\", \"more\", \"now\", \"then\", \"part\", \"work\", \"back\", \"speed\", \"bit\", \"review\", \"save\", \"driver\", \"discord\", \"worth\", \"figure\", \"nvme\", \"yet\", \"https\", \"amazon\", \"www\", \"around\", \"ask\", \"always\", \"extra\", \"com\", \"pick\", \"pop\", \"maybe\", \"road\", \"basic\", \"fence\", \"house\", \"new\", \"pc\", \"pretty\", \"only\", \"come\", \"few\", \"purchase\", \"hold\", \"price\", \"make\", \"fair\", \"week\", \"software\", \"consider\", \"mean\", \"enough\", \"put\", \"bad\", \"drop\", \"hardware\", \"have\", \"money\", \"low\", \"spend\", \"compare\", \"set\", \"term\", \"gpu\", \"guy\", \"non\", \"machine\", \"announcement\", \"window\", \"use\", \"know\", \"re\", \"cpu\", \"start\", \"even\", \"already\", \"pair\", \"there\", \"though\", \"instal\", \"feature\", \"take\", \"matter\", \"really\", \"find\", \"great\", \"completely\", \"core\", \"many\", \"finish\", \"tho\", \"bundle\", \"bro\", \"normal\", \"microcenter\", \"basically\", \"little\", \"sell\", \"identical\", \"essentially\", \"activate\", \"announcement\", \"still\", \"budget\", \"actually\", \"one\", \"way\", \"first\", \"less\", \"plug\", \"ddr\", \"mhz\", \"different\", \"pcie\", \"like\", \"right\", \"long\", \"slot\", \"pro\", \"rather\", \"die\", \"easily\", \"tier\", \"early\", \"ti\", \"hell\", \"perform\", \"range\", \"connector\", \"least\", \"slightly\", \"timing\", \"stretch\", \"preferably\", \"fence\", \"comment_mention\", \"create\", \"statement\", \"reddit_user\", \"mac\", \"calbee\", \"activate\", \"srslyguy\", \"say\", \"thing\", \"run\", \"specific\", \"people\", \"same\", \"too\", \"while\", \"last\", \"whole\", \"super\", \"reason\", \"read\", \"brand\", \"no\", \"order\", \"before\", \"weird\", \"point\", \"server\", \"personal\", \"instead\", \"lose\", \"experience\", \"hit\", \"offer\", \"ur\", \"level\", \"tech\", \"recently\", \"hot\", \"ensure\", \"house\", \"bottleneck_effect\", \"activation\", \"mac\", \"bootcamp\", \"basic\", \"also\", \"fine\", \"most\", \"boot\", \"close\", \"kind\", \"couple\", \"dollar\", \"give\", \"choice\", \"send\", \"far\", \"all\", \"sound\", \"idea\", \"at\", \"win\", \"open\", \"slow\", \"usually\", \"kinda\", \"require\", \"online\", \"single\", \"include\", \"refresh\", \"forget\", \"miss\", \"stuff\", \"design\", \"replace\", \"aesthetic\", \"source\", \"ultrawide_setup\", \"srslyguy\", \"create\", \"calbee\", \"mac\", \"plenty\", \"spin\", \"asic\", \"wt\", \"ssd_wd_black_\", \"uy\", \"obsolete_enter\", \"brr\", \"accessibility\", \"ipad\", \"diesofcringe\", \"lens\", \"em_fume\", \"cam\", \"status\", \"scarred\", \"throwback\", \"joke\", \"chinese\", \"origin\", \"lmaooo\", \"xiaomi\", \"ws\", \"imessage\", \"wp\", \"bro_unfamiliar\", \"worldwide\", \"whatsapp\", \"drug\", \"travel\", \"headroom\", \"obsolescence\", \"connector\", \"usb\", \"com_buildapcsales_comments\", \"tb_sn\", \"suppose\", \"sn\", \"company\", \"reddit\", \"talk\", \"people\", \"tier\", \"go\", \"phone\", \"like\", \"android\", \"first\", \"device\", \"actually\"], \"Freq\": [12201.0, 11688.0, 8710.0, 7728.0, 11620.0, 5242.0, 8821.0, 6419.0, 6315.0, 5982.0, 8712.0, 5632.0, 8569.0, 5195.0, 3628.0, 5531.0, 4016.0, 6667.0, 5254.0, 2927.0, 3644.0, 5952.0, 2632.0, 3811.0, 2611.0, 3375.0, 3664.0, 2494.0, 2821.0, 5454.0, 11620.124657771152, 8711.795780145982, 8568.753579055827, 6666.204851389499, 5951.444949301528, 5453.279697734057, 4908.946461613232, 4003.051573950278, 3980.569744700331, 3070.8330984394242, 2830.703582904885, 2466.82921943934, 2337.48340204562, 2273.6073042477833, 2219.2115264575127, 2202.8569539268838, 1946.4821823208006, 1869.5635239520657, 1661.813013159841, 1464.6027769025084, 1447.6732551472007, 1271.6255553039657, 1266.0169752016957, 1228.267049874172, 1188.301159995776, 1081.7561268370541, 1057.0260454744796, 1186.1743321778915, 1029.2940280577416, 1528.7767274575342, 2720.424493229207, 8820.266434977986, 5530.632597716841, 5254.036502935279, 3632.388728966877, 3046.3541860383752, 2953.0449607158657, 2663.2991010959126, 2490.468589330453, 2453.2060792617185, 2402.47116402643, 2388.69427988156, 2347.434061899403, 1772.3495495307882, 1770.3803854329583, 1592.7037938290189, 1538.3114985839745, 1494.7564756049803, 1455.5522803503595, 1439.8261306301015, 1423.5914631141093, 1378.6154329531219, 1243.4444541565447, 1192.071443842478, 1177.016711329849, 956.0879175150271, 937.5456530949134, 844.7217306252894, 828.1581057898826, 804.3100424929713, 666.2886793189998, 740.260015173287, 11687.24623948884, 5981.281801718373, 3584.9519593024456, 2834.8826981456796, 2457.2961513388077, 1746.6385425478682, 1627.930808206028, 1475.0661283319619, 1380.9862715247443, 1299.768455324692, 1167.3294638178252, 1117.0313244360561, 1560.2509273018507, 1081.9523563141504, 1021.063060879039, 838.0615057564476, 837.6032529856578, 782.9465330117414, 729.5592407686034, 711.8561030461412, 611.0142593457255, 581.4062325651115, 1345.780974260621, 461.0276207985737, 416.87752781960404, 412.1413953592378, 335.39585034968775, 334.5230871180474, 306.19144067474656, 358.30041035445436, 2958.4875445299585, 1897.860042830557, 680.4378089316804, 377.5165703702511, 12200.916020579496, 6314.663494434505, 5631.83167306623, 3810.177502569786, 3663.2901777963366, 3561.0629326196586, 2147.420308180217, 1647.4670332879423, 1521.3412727998168, 1383.4276344832688, 1127.942576599251, 973.5010918116373, 964.4672316904318, 942.562367783334, 737.2519703091072, 630.2189174804882, 594.0291886897546, 528.0155987608232, 516.8864410454751, 503.10161161173556, 436.047825839584, 412.2539544004748, 404.9771212742633, 318.4709609405182, 263.50803894726255, 243.8238252677157, 243.50912360380832, 224.38894177124885, 213.3918883504545, 188.76361610011136, 269.00699880903665, 542.1925470728282, 333.60686514859816, 247.60709315161145, 7727.640607135256, 5194.969209515219, 3215.550174357762, 3029.0662969206205, 2969.605518898413, 2883.194862450142, 2522.613819888999, 1831.6971526139478, 1821.6410801863965, 1611.445554690154, 1632.2355162014087, 1358.2096392233511, 1351.2406216839317, 972.6488379364423, 943.4762713891895, 928.6879548831853, 874.4250973255022, 842.6475493320366, 717.6405351346122, 713.0040391101414, 678.8888085611982, 548.7897827517731, 544.6131569427787, 543.7685204036919, 537.5209195607275, 458.38577119412855, 417.3937498248038, 410.5053466632318, 407.2341071412185, 328.8468526842055, 674.7668037644698, 486.4046301397772, 8709.807342865444, 6418.4820617919, 4015.3631934810232, 3643.886261326069, 3374.296673153669, 2401.7310379986016, 2229.3875340634795, 1174.0999504984677, 1333.5363269587024, 1142.1590026081503, 964.5493468048885, 918.3581083768056, 871.6480288405262, 796.4268530009901, 767.253836593478, 686.439278593936, 619.4983502826097, 588.091791657724, 612.8739365630629, 505.37496605103036, 324.5290242309102, 310.850712650851, 239.60058559970628, 226.4625275466947, 179.24045977498866, 170.29643849661022, 164.39146407571445, 147.17905860297026, 146.08636242271893, 136.397422640047, 277.9905136666639, 387.521956368474, 268.6675959294222, 182.0797622425585, 3627.407308640857, 2820.9088763720342, 2541.3942931718866, 2494.039513766526, 2033.0507369793033, 1530.147869483241, 1429.781512965585, 1226.8585922391687, 1113.1673153448858, 1022.6768580274181, 968.157677920926, 906.0540421351294, 758.3279918514443, 698.0317964901546, 698.0531739590642, 557.3057001137186, 399.20976523836003, 327.21425858020154, 322.8533777816511, 292.20963611279524, 294.01633938320185, 214.1329459891895, 206.38061882091137, 203.44823516716573, 187.78950026626293, 109.27109358409857, 95.04638448375302, 83.51088264961739, 52.690204799960334, 32.17155689097551, 73.87203992219456, 160.07158465113514, 461.7155493006422, 240.99084848726267, 340.43262947457646, 235.43821986913096, 241.55715176746602, 262.44181780365943, 242.40503255661932, 252.74306594820752, 217.1403965021523, 5241.306426990436, 2926.364795467091, 2067.1745125444227, 1845.7423873865337, 1610.3220816555863, 1354.9833610442602, 1300.207468154917, 763.0483875600535, 679.1900384956556, 534.532104901135, 473.1461672283936, 395.82525026428993, 368.9518459964541, 336.86659195363603, 297.8659991714536, 248.6129765653541, 241.0391988430782, 207.59569822065592, 194.95321162457068, 736.2186196207076, 131.0777927787105, 64.11362051513476, 55.05186689755732, 39.37785518411946, 36.461176073048726, 19.00643565786993, 5.767029714362324, 4.770601740973823, 4.448952751652414, 8.165232507170506, 93.06916483822143, 7.739639435499358, 227.09996883904006, 249.34984640850183, 101.48891467797479, 156.451103766588, 53.17709102747096, 53.07050843615117, 2631.2974449011585, 2610.2887462914696, 2494.01996833027, 1715.8029760667787, 1279.7928561767012, 1124.241648383018, 800.4754843636294, 725.5840384711823, 630.0467720949559, 533.308417354662, 508.10039765644444, 485.44283104381094, 387.1228895289104, 347.59531333078985, 345.67653082626686, 198.95636865674217, 484.37451817359147, 152.96446481764463, 144.97868377908696, 144.26416877017428, 122.0574466454543, 117.60396126259867, 108.34181085618455, 106.98005167737841, 91.26872125675018, 56.492502599866924, 52.96714181444216, 42.67992667450777, 35.00667972044225, 20.656726671155454, 212.85322533327258, 161.02135035384674, 137.91968192117977, 149.3248890563499, 244.5818100549554, 224.67560517423095, 176.31176791393045, 184.30514354450713, 56.35033518439668, 0.06054179411413744, 0.06049535309778665, 0.06044972542009121, 0.06044972542009121, 0.06044972542009121, 0.060448508516454204, 0.06044849609907015, 0.06044849609907015, 0.06044849609907015, 0.06044849609907015, 0.06044849609907015, 0.06044849609907015, 0.06044849609907015, 0.06044849609907015, 0.06044849609907015, 0.06044849609907015, 0.06044849609907015, 0.06044849609907015, 0.06044849609907015, 0.06044849609907015, 0.06044849609907015, 0.06044849609907015, 0.06044849609907015, 0.06044849609907015, 0.06044849609907015, 0.06044849609907015, 0.06044849609907015, 0.06044849609907015, 0.06044849609907015, 0.06044852714253028, 0.060448508516454204, 0.060459187466738076, 0.06045774705018816, 0.06044972542009121, 0.06044972542009121, 0.060448868620591685, 0.060448775490211305, 0.060448645107678764, 0.060448551977298384, 0.06044853955991433, 0.060448508516454204, 0.06044850230776218, 0.06044849609907015, 0.06044849609907015, 0.06044849609907015, 0.06044849609907015, 0.06044849609907015, 0.06044849609907015, 0.06044849609907015], \"Total\": [12201.0, 11688.0, 8710.0, 7728.0, 11620.0, 5242.0, 8821.0, 6419.0, 6315.0, 5982.0, 8712.0, 5632.0, 8569.0, 5195.0, 3628.0, 5531.0, 4016.0, 6667.0, 5254.0, 2927.0, 3644.0, 5952.0, 2632.0, 3811.0, 2611.0, 3375.0, 3664.0, 2494.0, 2821.0, 5454.0, 11620.981363988749, 8712.652459606928, 8569.610261030042, 6667.061737414962, 5952.302334567472, 5454.136390158882, 4909.803436446097, 4003.90866685738, 3981.4266031533766, 3071.6898039357916, 2831.5608346147687, 2467.6927407415574, 2338.3401421253116, 2274.4640513644053, 2220.0685070774853, 2203.7138586818246, 1947.339408665946, 1870.4207222913558, 1662.6699732586137, 1465.4597360892099, 1448.5637240331043, 1272.4823167980949, 1266.8877389462448, 1229.123821574633, 1189.1991999178194, 1082.6127806168925, 1057.8837133066509, 1187.1513006463158, 1030.1506140950903, 1530.219888504403, 2765.651214041197, 8821.103062894099, 5531.469333542981, 5254.873272068956, 3633.2254186562704, 3047.1917312903274, 2953.882604332562, 2664.1366666154586, 2491.305145642907, 2454.0427332692293, 2403.3077240206662, 2389.531038989561, 2348.273887074595, 1773.1867446305764, 1771.2173262166, 1593.5405596950316, 1539.1560717727618, 1495.593094686204, 1456.3890556397678, 1440.662771572058, 1424.4280092020826, 1379.4520532270235, 1244.28136763474, 1192.9081130016255, 1177.8625594407272, 956.926222346764, 938.3827217768684, 845.5583197598164, 828.9993681656599, 805.1511276059335, 667.1254641243773, 1346.566556110153, 11688.092077500403, 5982.127568153567, 3585.7979106805446, 2835.732337566841, 2458.1442475876797, 1747.4851508543218, 1628.777377337198, 1475.912067221605, 1381.8787952555494, 1300.6148437590898, 1168.1753399828851, 1117.8774764584089, 1561.4403166032764, 1082.7981980705995, 1021.909125795778, 838.9078109728866, 838.4501538622343, 783.7927184278017, 730.4057521024326, 712.7035427472317, 611.8602467164377, 582.2519015719312, 1347.9528650501395, 461.8735451938488, 417.72328395822086, 412.9872979287227, 336.2416211772474, 335.3736787406072, 307.0371244011775, 359.29979161193137, 2975.949656979638, 2738.7886837920364, 1844.8443791550576, 1346.566556110153, 12201.7719369751, 6315.519273304445, 5632.709619385531, 3811.0333521516586, 3664.145944053931, 3561.9187398596705, 2148.2764565011703, 1648.3226858058763, 1522.198498127928, 1384.2847705951935, 1128.7986559263102, 974.3571531657872, 965.3237029225871, 943.4181667547341, 738.1230072015835, 631.0746061434146, 594.8859361474267, 528.8712769801419, 517.7445715737533, 503.95723236155226, 436.90372976124337, 413.10964346581056, 405.8363823068044, 319.3266926588922, 264.36365523263447, 244.6800179723707, 244.36472058867997, 225.2453521389855, 214.3195158776625, 189.6192252377196, 274.3092719729948, 1086.842152781488, 1591.3677897682394, 558.4111032311586, 7728.470561403967, 5195.799100118818, 3216.380421075953, 3029.896222522833, 2970.4354169844955, 2884.0254635221895, 2523.447738673794, 1832.528964261798, 1822.471031940955, 1612.2753587647403, 1633.081982950039, 1359.0403275630326, 1352.0708591240136, 973.4790546867922, 944.3061172246606, 929.5179814421468, 875.2549702510405, 843.4775954914325, 718.4704042257707, 713.8343947355485, 679.7186637135476, 549.6198518945029, 545.4433459057769, 544.5984962000758, 538.351086214828, 459.2156151789948, 418.2243866534978, 411.3352417163988, 408.0641806047959, 329.67715400092317, 677.5372111390266, 1505.7057311084845, 8710.667536673662, 6419.341709510517, 4016.2230186845277, 3644.7460588023514, 3375.156686640489, 2402.591136762938, 2230.2475861062508, 1174.9598369799521, 1334.526328703699, 1143.01922506295, 965.4106249244892, 919.2203174418826, 872.5588953929293, 797.2865260735596, 768.11349931909, 687.2988207889706, 620.3578535962771, 588.9517434287206, 613.9162190517361, 506.2351225128773, 325.3886160779053, 311.7115781376256, 240.46028313401848, 227.32204053747523, 180.10221382601307, 171.15652472200478, 165.25099904122456, 148.03895764481703, 146.9459151370128, 137.25688393158052, 284.05519982621485, 835.4149827376626, 1844.8443791550576, 1505.7057311084845, 3628.201335021006, 2821.703228367303, 2542.188337365543, 2494.833529503318, 2033.8447868360918, 1530.9419667316447, 1430.5755075454122, 1227.6545187053482, 1113.9619176083338, 1023.4746740203893, 968.9519156407804, 906.8483928419649, 759.1220095748762, 698.8257462401634, 698.8472871376954, 558.0997385687465, 400.00377142911645, 328.0174345901551, 323.647302758757, 293.00705393317, 294.8271380995385, 214.92692824240433, 207.17449895118676, 204.24644966075607, 188.5839187214177, 110.06550583711778, 95.84228726407973, 84.30484395359812, 53.484122974163974, 32.96556361597196, 85.2659812881403, 224.89897857683602, 1591.3677897682394, 572.0271579313594, 1101.18048545644, 555.2196412690859, 588.681090266284, 1617.2231369801407, 1080.819574843207, 1844.8443791550576, 1093.1861966937554, 5242.163573743209, 2927.2218485361736, 2068.0316329317193, 1846.600797055304, 1611.1792848072155, 1355.8403633446226, 1301.06466910239, 763.9062883277593, 680.0471542665235, 535.3892172242465, 474.0032367832524, 396.68255958212853, 369.8102007263052, 337.72348374449064, 298.7232566037271, 249.4847683877786, 241.90983613844438, 208.45255795752422, 195.81009465864327, 739.4822414922568, 131.93560361456625, 64.97043665054058, 55.90886299913786, 40.235033490542556, 37.31800667355628, 19.86504928849729, 6.625351601219733, 5.674858361233733, 5.305846005727001, 9.743672570593615, 114.74700567022084, 9.717990717342063, 558.4111032311586, 1024.939249320152, 708.1634873693304, 1617.2231369801407, 447.0610699900169, 1086.842152781488, 2632.134973219941, 2611.126382249924, 2494.857545440309, 1716.6425811075883, 1280.630507146978, 1125.0795693330756, 801.3139525852563, 726.4237375130443, 630.8843939045188, 534.146601489123, 508.9384441606699, 486.28093892971896, 387.96028264287014, 348.43293656580124, 346.51415579438526, 199.79378462475518, 486.65420120456696, 153.80217204126572, 145.8161754457999, 145.10149720628095, 122.8949414588415, 118.44152528362514, 109.18018781649924, 107.81751110380971, 92.10755202147811, 57.330210430829716, 53.804779115377464, 43.51728869803523, 35.844035144786666, 21.494076193717568, 261.16192035281523, 213.55220659922884, 194.97214605433982, 251.3190581305385, 1093.1861966937554, 1101.18048545644, 1080.819574843207, 1617.2231369801407, 57.250023437012, 0.9390313218043794, 0.9389232654809511, 0.9388180049000269, 0.9388180049000269, 0.9388180049000269, 0.9388147977727893, 0.9388147853554052, 0.9388147853554052, 0.9388147853554052, 0.9388147853554052, 0.9388147853554052, 0.9388147853554052, 0.9388147853554052, 0.9388147853554052, 0.9388147853554052, 0.9388147853554052, 0.9388147853554052, 0.9388147853554052, 0.9388147853554052, 0.9388147853554052, 0.9388147853554052, 0.9388147853554052, 0.9388147853554052, 0.9388147853554052, 0.9388147853554052, 0.9388147853554052, 0.9388147853554052, 0.9388147853554052, 0.9388147853554052, 0.9388171729326589, 0.9388268655334535, 95.84228726407973, 4909.803436446097, 17.45064534523905, 1.1046298843648865, 359.29979161193137, 0.949269380146704, 96.61106261134424, 353.0125567870153, 179.3277444920234, 1611.1792848072155, 294.8271380995385, 8821.103062894099, 0.9388599133527826, 759.1220095748762, 0.9767109148411659, 1530.9419667316447, 221.3405058958476, 2542.188337365543], \"Category\": [\"Default\", \"Default\", \"Default\", \"Default\", \"Default\", \"Default\", \"Default\", \"Default\", \"Default\", \"Default\", \"Default\", \"Default\", \"Default\", \"Default\", \"Default\", \"Default\", \"Default\", \"Default\", \"Default\", \"Default\", \"Default\", \"Default\", \"Default\", \"Default\", \"Default\", \"Default\", \"Default\", \"Default\", \"Default\", \"Default\", \"Topic1\", \"Topic1\", \"Topic1\", \"Topic1\", \"Topic1\", \"Topic1\", \"Topic1\", \"Topic1\", \"Topic1\", \"Topic1\", \"Topic1\", \"Topic1\", \"Topic1\", \"Topic1\", \"Topic1\", \"Topic1\", \"Topic1\", \"Topic1\", \"Topic1\", \"Topic1\", \"Topic1\", \"Topic1\", \"Topic1\", \"Topic1\", \"Topic1\", \"Topic1\", \"Topic1\", \"Topic1\", \"Topic1\", \"Topic1\", \"Topic1\", \"Topic2\", \"Topic2\", \"Topic2\", \"Topic2\", \"Topic2\", \"Topic2\", \"Topic2\", \"Topic2\", \"Topic2\", \"Topic2\", \"Topic2\", \"Topic2\", \"Topic2\", \"Topic2\", \"Topic2\", \"Topic2\", \"Topic2\", \"Topic2\", \"Topic2\", \"Topic2\", \"Topic2\", \"Topic2\", \"Topic2\", \"Topic2\", \"Topic2\", \"Topic2\", \"Topic2\", \"Topic2\", \"Topic2\", \"Topic2\", \"Topic2\", \"Topic3\", \"Topic3\", \"Topic3\", \"Topic3\", \"Topic3\", \"Topic3\", \"Topic3\", \"Topic3\", \"Topic3\", \"Topic3\", \"Topic3\", \"Topic3\", \"Topic3\", \"Topic3\", \"Topic3\", \"Topic3\", \"Topic3\", \"Topic3\", \"Topic3\", \"Topic3\", \"Topic3\", \"Topic3\", \"Topic3\", \"Topic3\", \"Topic3\", \"Topic3\", \"Topic3\", \"Topic3\", \"Topic3\", \"Topic3\", \"Topic3\", \"Topic3\", \"Topic3\", \"Topic3\", \"Topic4\", \"Topic4\", \"Topic4\", \"Topic4\", \"Topic4\", \"Topic4\", \"Topic4\", \"Topic4\", \"Topic4\", \"Topic4\", \"Topic4\", \"Topic4\", \"Topic4\", \"Topic4\", \"Topic4\", \"Topic4\", \"Topic4\", \"Topic4\", \"Topic4\", \"Topic4\", \"Topic4\", \"Topic4\", \"Topic4\", \"Topic4\", \"Topic4\", \"Topic4\", \"Topic4\", \"Topic4\", \"Topic4\", \"Topic4\", \"Topic4\", \"Topic4\", \"Topic4\", \"Topic4\", \"Topic5\", \"Topic5\", \"Topic5\", \"Topic5\", \"Topic5\", \"Topic5\", \"Topic5\", \"Topic5\", \"Topic5\", \"Topic5\", \"Topic5\", \"Topic5\", \"Topic5\", \"Topic5\", \"Topic5\", \"Topic5\", \"Topic5\", \"Topic5\", \"Topic5\", \"Topic5\", \"Topic5\", \"Topic5\", \"Topic5\", \"Topic5\", \"Topic5\", \"Topic5\", \"Topic5\", \"Topic5\", \"Topic5\", \"Topic5\", \"Topic5\", \"Topic5\", \"Topic6\", \"Topic6\", \"Topic6\", \"Topic6\", \"Topic6\", \"Topic6\", \"Topic6\", \"Topic6\", \"Topic6\", \"Topic6\", \"Topic6\", \"Topic6\", \"Topic6\", \"Topic6\", \"Topic6\", \"Topic6\", \"Topic6\", \"Topic6\", \"Topic6\", \"Topic6\", \"Topic6\", \"Topic6\", \"Topic6\", \"Topic6\", \"Topic6\", \"Topic6\", \"Topic6\", \"Topic6\", \"Topic6\", \"Topic6\", \"Topic6\", \"Topic6\", \"Topic6\", \"Topic6\", \"Topic7\", \"Topic7\", \"Topic7\", \"Topic7\", \"Topic7\", \"Topic7\", \"Topic7\", \"Topic7\", \"Topic7\", \"Topic7\", \"Topic7\", \"Topic7\", \"Topic7\", \"Topic7\", \"Topic7\", \"Topic7\", \"Topic7\", \"Topic7\", \"Topic7\", \"Topic7\", \"Topic7\", \"Topic7\", \"Topic7\", \"Topic7\", \"Topic7\", \"Topic7\", \"Topic7\", \"Topic7\", \"Topic7\", \"Topic7\", \"Topic7\", \"Topic7\", \"Topic7\", \"Topic7\", \"Topic7\", \"Topic7\", \"Topic7\", \"Topic7\", \"Topic7\", \"Topic7\", \"Topic7\", \"Topic8\", \"Topic8\", \"Topic8\", \"Topic8\", \"Topic8\", \"Topic8\", \"Topic8\", \"Topic8\", \"Topic8\", \"Topic8\", \"Topic8\", \"Topic8\", \"Topic8\", \"Topic8\", \"Topic8\", \"Topic8\", \"Topic8\", \"Topic8\", \"Topic8\", \"Topic8\", \"Topic8\", \"Topic8\", \"Topic8\", \"Topic8\", \"Topic8\", \"Topic8\", \"Topic8\", \"Topic8\", \"Topic8\", \"Topic8\", \"Topic8\", \"Topic8\", \"Topic8\", \"Topic8\", \"Topic8\", \"Topic8\", \"Topic8\", \"Topic8\", \"Topic9\", \"Topic9\", \"Topic9\", \"Topic9\", \"Topic9\", \"Topic9\", \"Topic9\", \"Topic9\", \"Topic9\", \"Topic9\", \"Topic9\", \"Topic9\", \"Topic9\", \"Topic9\", \"Topic9\", \"Topic9\", \"Topic9\", \"Topic9\", \"Topic9\", \"Topic9\", \"Topic9\", \"Topic9\", \"Topic9\", \"Topic9\", \"Topic9\", \"Topic9\", \"Topic9\", \"Topic9\", \"Topic9\", \"Topic9\", \"Topic9\", \"Topic9\", \"Topic9\", \"Topic9\", \"Topic9\", \"Topic9\", \"Topic9\", \"Topic9\", \"Topic10\", \"Topic10\", \"Topic10\", \"Topic10\", \"Topic10\", \"Topic10\", \"Topic10\", \"Topic10\", \"Topic10\", \"Topic10\", \"Topic10\", \"Topic10\", \"Topic10\", \"Topic10\", \"Topic10\", \"Topic10\", \"Topic10\", \"Topic10\", \"Topic10\", \"Topic10\", \"Topic10\", \"Topic10\", \"Topic10\", \"Topic10\", \"Topic10\", \"Topic10\", \"Topic10\", \"Topic10\", \"Topic10\", \"Topic10\", \"Topic10\", \"Topic10\", \"Topic10\", \"Topic10\", \"Topic10\", \"Topic10\", \"Topic10\", \"Topic10\", \"Topic10\", \"Topic10\", \"Topic10\", \"Topic10\", \"Topic10\", \"Topic10\", \"Topic10\", \"Topic10\", \"Topic10\", \"Topic10\", \"Topic10\", \"Topic10\"], \"logprob\": [30.0, 29.0, 28.0, 27.0, 26.0, 25.0, 24.0, 23.0, 22.0, 21.0, 20.0, 19.0, 18.0, 17.0, 16.0, 15.0, 14.0, 13.0, 12.0, 11.0, 10.0, 9.0, 8.0, 7.0, 6.0, 5.0, 4.0, 3.0, 2.0, 1.0, -2.3661, -2.6541, -2.6707, -2.9217, -3.0352, -3.1226, -3.2277, -3.4317, -3.4374, -3.6968, -3.7783, -3.9159, -3.9697, -3.9974, -4.0216, -4.029, -4.1528, -4.1931, -4.3109, -4.4372, -4.4488, -4.5785, -4.5829, -4.6132, -4.6463, -4.7402, -4.7633, -4.6481, -4.7899, -4.3943, -3.818, -2.2631, -2.7298, -2.7811, -3.1502, -3.3262, -3.3573, -3.4606, -3.5277, -3.5427, -3.5636, -3.5694, -3.5868, -3.8678, -3.8689, -3.9747, -4.0094, -4.0382, -4.0647, -4.0756, -4.0869, -4.119, -4.2222, -4.2644, -4.2771, -4.485, -4.5046, -4.6089, -4.6287, -4.6579, -4.8462, -4.7409, -1.6433, -2.3131, -2.825, -3.0598, -3.2027, -3.5441, -3.6145, -3.7131, -3.779, -3.8396, -3.9471, -3.9911, -3.6569, -4.023, -4.0809, -4.2784, -4.279, -4.3465, -4.4171, -4.4417, -4.5944, -4.6441, -3.8048, -4.8761, -4.9767, -4.9882, -5.1942, -5.1968, -5.2853, -5.1282, -3.0171, -3.4611, -4.4868, -5.0759, -1.577, -2.2357, -2.3501, -2.7409, -2.7802, -2.8085, -3.3143, -3.5793, -3.659, -3.754, -3.9581, -4.1054, -4.1147, -4.1377, -4.3834, -4.5402, -4.5994, -4.7172, -4.7385, -4.7655, -4.9085, -4.9647, -4.9825, -5.2228, -5.4122, -5.4899, -5.4911, -5.5729, -5.6232, -5.7458, -5.3916, -4.6907, -5.1763, -5.4745, -2.0109, -2.408, -2.8877, -2.9474, -2.9673, -2.9968, -3.1304, -3.4505, -3.456, -3.5786, -3.5657, -3.7495, -3.7547, -4.0834, -4.1139, -4.1297, -4.1899, -4.2269, -4.3875, -4.394, -4.443, -4.6557, -4.6634, -4.6649, -4.6765, -4.8357, -4.9294, -4.9461, -4.9541, -5.1679, -4.4491, -4.7764, -1.712, -2.0172, -2.4863, -2.5834, -2.6602, -3.0002, -3.0747, -3.7159, -3.5886, -3.7435, -3.9125, -3.9616, -4.0138, -4.104, -4.1413, -4.2526, -4.3553, -4.4073, -4.366, -4.5589, -5.0018, -5.0449, -5.3052, -5.3616, -5.5954, -5.6466, -5.6819, -5.7925, -5.8, -5.8686, -5.1566, -4.8244, -5.1907, -5.5797, -2.2074, -2.4588, -2.5632, -2.582, -2.7864, -3.0705, -3.1384, -3.2914, -3.3887, -3.4735, -3.5283, -3.5945, -3.7725, -3.8554, -3.8554, -4.0805, -4.4142, -4.613, -4.6264, -4.7262, -4.72, -5.0371, -5.0739, -5.0882, -5.1683, -5.7098, -5.8493, -5.9787, -6.4392, -6.9326, -6.1013, -5.328, -4.2687, -4.9189, -4.5734, -4.9422, -4.9165, -4.8336, -4.913, -4.8713, -5.0231, -1.546, -2.1288, -2.4764, -2.5897, -2.7261, -2.8988, -2.94, -3.473, -3.5894, -3.8289, -3.9509, -4.1293, -4.1996, -4.2906, -4.4137, -4.5944, -4.6254, -4.7747, -4.8376, -3.5088, -5.2345, -5.9497, -6.102, -6.4371, -6.5141, -7.1655, -8.3582, -8.5478, -8.6176, -8.0104, -5.577, -8.064, -4.6849, -4.5915, -5.4904, -5.0576, -6.1367, -6.1387, -2.1376, -2.1456, -2.1912, -2.5652, -2.8584, -2.988, -3.3276, -3.4259, -3.567, -3.7337, -3.7822, -3.8278, -4.0541, -4.1618, -4.1673, -4.7197, -3.83, -4.9826, -5.0362, -5.0412, -5.2083, -5.2455, -5.3275, -5.3402, -5.499, -5.9787, -6.0432, -6.2591, -6.4573, -6.9848, -4.6522, -4.9313, -5.0862, -5.0067, -4.5133, -4.5982, -4.8406, -4.7962, -2.0244, -8.8604, -8.8612, -8.8619, -8.8619, -8.8619, -8.8619, -8.8619, -8.8619, -8.8619, -8.8619, -8.8619, -8.8619, -8.8619, -8.8619, -8.8619, -8.8619, -8.8619, -8.8619, -8.8619, -8.8619, -8.8619, -8.8619, -8.8619, -8.8619, -8.8619, -8.8619, -8.8619, -8.8619, -8.8619, -8.8619, -8.8619, -8.8618, -8.8618, -8.8619, -8.8619, -8.8619, -8.8619, -8.8619, -8.8619, -8.8619, -8.8619, -8.8619, -8.8619, -8.8619, -8.8619, -8.8619, -8.8619, -8.8619, -8.8619], \"loglift\": [30.0, 29.0, 28.0, 27.0, 26.0, 25.0, 24.0, 23.0, 22.0, 21.0, 20.0, 19.0, 18.0, 17.0, 16.0, 15.0, 14.0, 13.0, 12.0, 11.0, 10.0, 9.0, 8.0, 7.0, 6.0, 5.0, 4.0, 3.0, 2.0, 1.0, 1.4241, 1.4241, 1.4241, 1.4241, 1.4241, 1.424, 1.424, 1.424, 1.424, 1.4239, 1.4239, 1.4238, 1.4238, 1.4238, 1.4238, 1.4238, 1.4238, 1.4237, 1.4237, 1.4236, 1.4236, 1.4235, 1.4235, 1.4235, 1.4234, 1.4234, 1.4234, 1.4234, 1.4234, 1.4233, 1.4077, 1.8028, 1.8027, 1.8027, 1.8026, 1.8026, 1.8026, 1.8026, 1.8025, 1.8025, 1.8025, 1.8025, 1.8025, 1.8024, 1.8024, 1.8023, 1.8023, 1.8023, 1.8023, 1.8023, 1.8023, 1.8023, 1.8022, 1.8022, 1.8022, 1.802, 1.802, 1.8019, 1.8019, 1.8018, 1.8016, 1.2046, 2.1411, 2.1411, 2.141, 2.1409, 2.1409, 2.1407, 2.1407, 2.1406, 2.1406, 2.1406, 2.1405, 2.1405, 2.1405, 2.1404, 2.1404, 2.1402, 2.1402, 2.1401, 2.1401, 2.14, 2.1398, 2.1398, 2.1396, 2.1394, 2.1392, 2.1392, 2.1387, 2.1387, 2.1385, 2.1384, 2.1353, 1.7744, 1.1438, 0.8695, 2.1644, 2.1643, 2.1643, 2.1642, 2.1642, 2.1642, 2.1641, 2.1639, 2.1639, 2.1638, 2.1637, 2.1636, 2.1636, 2.1635, 2.1633, 2.1631, 2.163, 2.1628, 2.1628, 2.1628, 2.1625, 2.1624, 2.1623, 2.1618, 2.1612, 2.1609, 2.1609, 2.1606, 2.1601, 2.1599, 2.1449, 1.469, 0.6021, 1.3512, 2.1872, 2.1871, 2.187, 2.187, 2.187, 2.187, 2.187, 2.1868, 2.1868, 2.1868, 2.1868, 2.1867, 2.1867, 2.1864, 2.1864, 2.1864, 2.1864, 2.1863, 2.1861, 2.1861, 2.1861, 2.1858, 2.1858, 2.1858, 2.1858, 2.1855, 2.1853, 2.1853, 2.1853, 2.1848, 2.1832, 1.0573, 2.3665, 2.3665, 2.3664, 2.3664, 2.3663, 2.3662, 2.3662, 2.3659, 2.3658, 2.3658, 2.3657, 2.3656, 2.3655, 2.3655, 2.3655, 2.3653, 2.3652, 2.3651, 2.3649, 2.3649, 2.3639, 2.3638, 2.363, 2.3628, 2.3618, 2.3615, 2.3614, 2.3608, 2.3607, 2.3603, 2.345, 1.5984, 0.4399, 0.254, 2.7469, 2.7468, 2.7468, 2.7468, 2.7467, 2.7466, 2.7465, 2.7465, 2.7464, 2.7463, 2.7463, 2.7462, 2.7461, 2.746, 2.746, 2.7457, 2.7451, 2.7447, 2.7446, 2.7444, 2.7443, 2.7434, 2.7433, 2.7432, 2.7429, 2.7399, 2.7388, 2.7376, 2.7321, 2.7227, 2.6037, 2.4071, 1.5097, 1.8827, 1.5732, 1.8892, 1.8563, 0.9287, 1.2522, 0.7593, 1.1308, 3.0403, 3.0401, 3.04, 3.04, 3.0399, 3.0398, 3.0398, 3.0393, 3.0392, 3.0388, 3.0386, 3.0383, 3.0381, 3.0379, 3.0376, 3.0369, 3.0368, 3.0363, 3.0361, 3.036, 3.0339, 3.0272, 3.025, 3.0189, 3.0172, 2.9963, 2.9017, 2.8669, 2.8643, 2.8637, 2.8311, 2.8128, 2.1407, 1.6269, 1.0977, 0.7047, 0.9114, 0.021, 3.1376, 3.1376, 3.1376, 3.1374, 3.1373, 3.1372, 3.1369, 3.1368, 3.1366, 3.1363, 3.1363, 3.1362, 3.1358, 3.1355, 3.1355, 3.1337, 3.1332, 3.1325, 3.1322, 3.1321, 3.1311, 3.1308, 3.1302, 3.1301, 3.1288, 3.1232, 3.1222, 3.1185, 3.1143, 3.0982, 2.9334, 2.8556, 2.7917, 2.6173, 1.6406, 1.5484, 1.3247, 0.966, 7.0789, 4.3533, 4.3526, 4.352, 4.352, 4.352, 4.3519, 4.3519, 4.3519, 4.3519, 4.3519, 4.3519, 4.3519, 4.3519, 4.3519, 4.3519, 4.3519, 4.3519, 4.3519, 4.3519, 4.3519, 4.3519, 4.3519, 4.3519, 4.3519, 4.3519, 4.3519, 4.3519, 4.3519, 4.3519, 4.3519, 4.3519, -0.2737, -4.21, 1.4294, 4.1893, -1.5953, 4.3409, -0.2819, -1.5777, -0.9004, -3.0959, -1.3976, -4.7961, 4.3519, -2.3434, 4.3124, -3.0448, -1.1109, -3.552]}, \"token.table\": {\"Topic\": [3, 1, 2, 3, 4, 5, 6, 7, 8, 9, 1, 2, 3, 4, 5, 6, 7, 8, 9, 7, 1, 2, 3, 4, 5, 6, 7, 8, 9, 2, 9, 6, 9, 4, 2, 4, 1, 2, 3, 4, 5, 6, 7, 8, 9, 1, 4, 3, 4, 9, 4, 5, 1, 2, 3, 4, 5, 6, 7, 8, 9, 6, 8, 1, 4, 2, 9, 1, 2, 3, 4, 5, 6, 7, 8, 9, 1, 2, 3, 4, 5, 6, 7, 8, 9, 8, 6, 7, 4, 6, 3, 3, 1, 2, 3, 4, 5, 6, 7, 8, 9, 1, 1, 9, 9, 4, 1, 2, 3, 4, 5, 6, 7, 9, 5, 1, 2, 3, 4, 5, 6, 7, 8, 9, 1, 2, 6, 5, 6, 1, 7, 5, 6, 9, 6, 1, 2, 3, 4, 5, 6, 7, 8, 9, 3, 7, 2, 2, 3, 9, 1, 2, 3, 4, 5, 6, 7, 9, 7, 7, 4, 9, 1, 2, 3, 5, 6, 3, 4, 5, 7, 7, 2, 5, 1, 4, 8, 1, 2, 3, 4, 5, 6, 7, 9, 6, 3, 8, 4, 5, 9, 1, 6, 2, 1, 2, 3, 4, 5, 6, 7, 8, 9, 5, 4, 6, 9, 6, 7, 1, 2, 3, 4, 5, 6, 7, 9, 1, 3, 3, 2, 1, 1, 9, 2, 3, 5, 6, 5, 2, 5, 5, 3, 7, 3, 8, 5, 1, 2, 3, 4, 5, 6, 7, 8, 9, 1, 2, 3, 4, 6, 8, 9, 4, 9, 1, 2, 6, 3, 9, 6, 1, 8, 1, 1, 1, 1, 2, 3, 4, 5, 6, 7, 9, 3, 9, 6, 8, 2, 3, 7, 7, 8, 7, 2, 6, 3, 7, 1, 8, 5, 1, 2, 3, 4, 5, 6, 7, 8, 9, 2, 5, 9, 2, 2, 5, 6, 6, 4, 5, 7, 6, 9, 1, 5, 3, 2, 4, 9, 3, 2, 3, 1, 5, 2, 8, 5, 6, 4, 4, 8, 1, 7, 9, 5, 9, 2, 8, 3, 3, 1, 6, 4, 4, 5, 7, 8, 7, 2, 8, 4, 3, 3, 10, 7, 8, 4, 3, 1, 2, 3, 4, 5, 6, 7, 8, 9, 5, 5, 7, 3, 5, 1, 5, 1, 7, 7, 6, 8, 1, 6, 8, 1, 2, 3, 4, 5, 6, 7, 9, 5, 8, 1, 1, 2, 3, 4, 5, 6, 7, 8, 9, 9, 1, 2, 3, 4, 5, 6, 7, 8, 9, 9, 4, 7, 2, 4, 5, 8, 1, 1, 8, 4, 8, 1, 1, 6, 9, 1, 5, 8, 5, 9, 7, 7, 9, 1, 5, 9, 1, 2, 3, 4, 5, 6, 9, 8, 4, 5, 1, 2, 3, 4, 5, 6, 7, 8, 9, 6, 1, 2, 3, 4, 5, 6, 7, 8, 9, 1, 7, 1, 2, 6, 7, 9, 2, 8, 3, 2, 6, 1, 8, 3, 5, 4, 6, 3, 8, 4, 6, 6, 7, 7, 2, 7, 8, 1, 2, 1, 2, 3, 4, 5, 6, 7, 8, 9, 2, 2, 8, 1, 6, 9, 2, 2, 2, 7, 5, 8, 2, 8, 8, 7, 9, 6, 4, 3, 4, 4, 2, 4], \"Freq\": [0.9966221530923981, 0.054205114062683274, 0.07263485284399558, 0.36859477562624626, 0.039569733265758786, 0.15611072850052782, 0.145811756828618, 0.13713893857858866, 0.008130767109402491, 0.017345636500058645, 0.10731985107326428, 0.19769446250338155, 0.024005756161124905, 0.03812678919708073, 0.3261958631305796, 0.031066272679102815, 0.06919306187618354, 0.14262243366315383, 0.06072044205461005, 0.9995325533721966, 0.009365391404048467, 0.0140480871060727, 0.004682695702024234, 0.004682695702024234, 0.0280961742121454, 0.004682695702024234, 0.17325974097489663, 0.004682695702024234, 0.7539140080259016, 0.9995733452304822, 0.9975247913618155, 0.9991830895408143, 0.999568801284323, 0.998624412904586, 0.9992488924327015, 0.9979315128260927, 0.09032309380922543, 0.1839668895967312, 0.05645193363076589, 0.06375747798298265, 0.32277223228884966, 0.12087355200940461, 0.11223972686587572, 0.015275229100089594, 0.033207019782803465, 0.9990301988923492, 0.9979391145218417, 0.9991103653222883, 0.9958453436891058, 0.996026980387573, 0.9992126531924701, 0.9994337780944209, 0.10857142382452675, 0.029443097986312342, 0.01564164580522843, 0.49869247214316526, 0.014721548993156171, 0.10397093976416545, 0.13893461862291137, 0.048765131039829816, 0.04140435654325173, 0.992981863278788, 0.9962389452493214, 0.9997750654244033, 0.9992924726459257, 0.9989701946295508, 0.9996256756562723, 0.03131563211333214, 0.221446255658563, 0.01565781605666607, 0.04921027903523622, 0.33328779892046345, 0.011184154326190049, 0.09842055807047244, 0.11855203585761452, 0.12078886672285254, 0.07610207146593112, 0.35904567050593145, 0.032197030235586246, 0.042929373647448324, 0.1161044423646898, 0.02341602198951727, 0.09268842037517253, 0.24294122814124167, 0.015610681326344846, 0.9978577629945391, 0.9938800650886065, 0.9997507787636087, 0.9999367356660093, 0.9941842835197615, 0.9999065649471991, 0.9989938668086399, 0.04163507124353118, 0.16839073258494833, 0.03885939982729577, 0.08327014248706235, 0.20725013241224408, 0.050887309297649216, 0.22390416090965656, 0.02128014752447149, 0.1628393897524775, 0.999620963850163, 0.998883062263569, 0.9978533955173984, 0.9995076588106723, 0.9985074744512983, 0.11460894198652931, 0.11460894198652931, 0.11460894198652931, 0.17191341297979396, 0.11460894198652931, 0.057304470993264654, 0.17191341297979396, 0.057304470993264654, 0.9998534164446041, 0.054193231160748236, 0.07517125612619917, 0.09789744983877101, 0.16782419972360746, 0.09440111234452919, 0.015733518724088198, 0.42130866805613953, 0.015733518724088198, 0.05768956865499006, 0.031052344513264208, 0.010350781504421402, 0.952271898406769, 0.999347848971019, 0.9985075829188039, 0.9996760656203107, 0.9912117366130994, 0.9995078942022575, 0.9975601801258942, 0.9983602524565844, 0.9996572939428064, 0.03541653753865287, 0.1180551251288429, 0.03723277023294276, 0.05721132987013156, 0.15256354632035082, 0.05630321352298662, 0.30875955802928146, 0.029059723108638254, 0.20432617810761272, 0.9995345075502373, 0.9991364896832389, 0.99991515210251, 0.9993307277791411, 0.9997223719731841, 0.9770133785111462, 0.4111312551296883, 0.08584059173037448, 0.2168604422662092, 0.004517925880546026, 0.11746607289419667, 0.022589629402730127, 0.018071703522184103, 0.12198399877474268, 0.9979999748082575, 0.9990175821674795, 0.9984785636125324, 0.9994166799745627, 0.983493502792606, 0.0032542064430637696, 0.004700520417758779, 0.00795472686082255, 0.0003615784936737522, 0.9998115105134886, 0.9995567535484582, 0.9993452698635824, 0.9956872400774327, 0.9965630386038429, 0.9996607807113896, 0.9994427418807508, 0.1029019299447846, 0.1029019299447846, 0.8232154395582768, 0.23341692934568062, 0.18553653358246408, 0.05506245512769902, 0.052668435339538196, 0.008379069258562894, 0.46443983890320045, 0.0011970098940804134, 0.0011970098940804134, 0.9994406064537306, 0.9990128535849284, 0.9693045243560476, 0.9972207866502303, 0.9993374595021345, 0.9973658458985906, 0.9990856726109227, 0.9993594754510208, 0.9993127177571144, 0.04901443934048685, 0.14955687901328038, 0.038331805125252534, 0.2098823428169565, 0.1307051715746316, 0.07415004925868524, 0.29031629455519137, 0.015709756198873992, 0.04273053686093725, 0.9996444332634508, 0.9985107461891533, 0.9978111769063526, 0.9995686220867818, 0.9977171905455772, 0.9993847142791077, 0.1431289687736148, 0.040893991078175665, 0.6930070988069411, 0.014604996813634166, 0.0653573607410129, 0.019716745698406122, 0.02300286998147381, 0.9850426090654193, 0.9993121853026825, 0.9985940470539568, 0.999382031462537, 0.9997777643475243, 0.9997959733133056, 0.9999287877731363, 0.9985981680430462, 0.9998749518188106, 0.99977748029855, 0.9991849915047397, 0.9983840043953689, 0.9973921244368503, 0.9997012053453758, 0.9988311088094073, 0.998942704162894, 0.9988857839350708, 0.9938973252028304, 0.9982685093553626, 0.9646817504191555, 0.9997113473936217, 0.017429648715609494, 0.02614447307341424, 0.017429648715609494, 0.02614447307341424, 0.017429648715609494, 0.02614447307341424, 0.03485929743121899, 0.8104786652758414, 0.017429648715609494, 0.023280339385763522, 0.02686193006049637, 0.008953976686832123, 0.44411724366687333, 0.005372386012099274, 0.4065105415821784, 0.08416738085622195, 0.9981005682623768, 0.9985162055119897, 0.010561327523084956, 0.007040885015389971, 0.9786830171392059, 0.9985512363964841, 0.9879754482974442, 0.9986724429184958, 0.9997812049028645, 0.9850634119059364, 0.9997754317721446, 0.9999155523997492, 0.999433979879174, 0.0006720543794513807, 0.0006720543794513807, 0.9939684272085921, 0.00033602718972569037, 0.0013441087589027615, 0.0013441087589027615, 0.001680135948628452, 0.9990404506823322, 0.9990775717855104, 0.9927178332304164, 0.9996954803857162, 0.998460174033589, 0.9994575219348957, 0.9992150513120733, 0.9963840280190079, 0.9995977090741616, 0.8810792590271774, 0.9985219641102165, 0.9985702962258075, 0.993562834760457, 0.9992628376441504, 0.9987875932935711, 0.9998407488250778, 0.9837438475693581, 0.9991871824835616, 0.06616279321838194, 0.2392990745375122, 0.018550315855621103, 0.05379591598130119, 0.2052901621355402, 0.0439024141916366, 0.16200609180575762, 0.09646164244922972, 0.11377527058114276, 0.0014759336956842153, 0.9962552445868453, 0.0014759336956842153, 0.9987944886280538, 0.9992676909255552, 0.9992089696354862, 0.9988056863126021, 0.9985503453329787, 0.9967343752357215, 0.9986168497684846, 0.9995362132230153, 0.9924297036115801, 0.9881130301654435, 0.9998019344638784, 0.9988722170562685, 0.9997417465826589, 0.9995921474596807, 0.9997288525037245, 0.9996562747873616, 0.9978498969800677, 0.9995750957165117, 0.997609374589305, 0.9997916461786814, 0.9999391132565975, 0.9996722950783494, 0.9975788406569008, 0.9979460087157835, 0.9932428826544403, 0.9996872548005926, 0.9983525726995103, 0.9564537054031782, 0.9996862854175463, 0.9996658977468994, 0.9891904580849156, 0.9997042068582512, 0.9947843906843494, 0.9997328628375356, 0.9980569219078533, 0.9989886121557856, 0.9994444839717311, 0.9992028018237332, 0.9996056063545706, 0.9998740181132205, 0.9994058229808797, 0.9998462026526777, 0.9990644601141033, 0.9992680610914405, 0.9969036664134641, 0.9992387401915304, 0.992908634296323, 0.9944711305820105, 0.9963073542980782, 0.9989178656331333, 0.9781655384231012, 0.999466854318234, 0.9958628554873256, 0.993843230411104, 0.9995227233948516, 0.04891084908258881, 0.05780373073396859, 0.044464408256898916, 0.031125085779829243, 0.044464408256898916, 0.035571526605519134, 0.7114305321103827, 0.008892881651379783, 0.022232204128449458, 0.9998817238553436, 0.9997415421520015, 0.9974905950873157, 0.9981086918639556, 0.9998225686758112, 0.9996108393274307, 0.9985661660959428, 0.9997730550487074, 0.9903193482007471, 0.9968982301461312, 0.9997953056837665, 0.9978091444619052, 0.9989915903761941, 0.9981102531392683, 0.9982793304983019, 0.049756174097731865, 0.5495458034674863, 0.28071393744690515, 0.03861673213555309, 0.005198406249016762, 0.003713147320726259, 0.07129242855794417, 0.0007426294641452517, 0.10263070651799179, 0.8210456521439343, 0.997131669206809, 0.05605751661748262, 0.08153820598906564, 0.09682661961201544, 0.14948671097995367, 0.10192275748633205, 0.02038455149726641, 0.4110884551948726, 0.02038455149726641, 0.06455107974134362, 0.9767973914480107, 0.026803295023039304, 0.022974252876890835, 0.007658084292296944, 0.03446137931533625, 0.04594850575378167, 0.007658084292296944, 0.003829042146148472, 0.03446137931533625, 0.8155859771296246, 0.9962722087328085, 0.9996334473815616, 0.9988183803407271, 0.014582080916294336, 0.9806449416207941, 0.003645520229073584, 0.9995011522477261, 0.9992992757614158, 0.9991646404084541, 0.9993801900523528, 0.9986287471046453, 0.9997780355902977, 0.9998928516846101, 0.9995970497636999, 0.9908428350143295, 0.9981560753143387, 0.9997192759332958, 0.001352297518304192, 0.9952909734718852, 0.9973528444181476, 0.9924176407390578, 0.9909482861970489, 0.9980294945638807, 0.9944027098275988, 0.999925113550672, 0.9992079859448288, 0.9987574751971834, 0.020515750998017827, 0.005128937749504457, 0.08206300399207131, 0.13848131923662035, 0.005128937749504457, 0.04616043974554011, 0.7077934094316151, 0.9996746470291457, 0.99907188851421, 0.9989010322205224, 0.05031164879902675, 0.17471863492025652, 0.024698445774067677, 0.09056096783824816, 0.17197436316758236, 0.029272232028524654, 0.19850232344343283, 0.036590290035655816, 0.2241155264683919, 0.9997539586516022, 0.03782286943595787, 0.08825336201723503, 0.018010890207598985, 0.17290454599295027, 0.15849583382687107, 0.05403267062279696, 0.42325591987857614, 0.01260762314531929, 0.03422069139443807, 0.9995187053579297, 0.999668889648044, 0.046912026808003944, 0.046912026808003944, 0.023456013404001972, 0.8678724959480729, 0.9764525634076267, 0.9990320859381484, 0.9978834811549796, 0.9963824314895923, 0.9998338167214046, 0.9983863692267629, 0.9925959895621033, 0.7538854304633978, 0.9994631119570309, 0.9970724168829681, 0.9997420660248676, 0.999108304531891, 0.9993640576448769, 0.9995825910711945, 0.999917778209206, 0.9980858247024439, 0.999574662932137, 0.9943308710428522, 0.9971944980883706, 0.9996995220542438, 0.97070993151459, 0.9991816939406059, 0.9994268831547777, 0.9983129648246083, 0.015916023359925, 0.0238740350398875, 0.01193701751994375, 0.01193701751994375, 0.0557060817597375, 0.0079580116799625, 0.270572397118725, 0.00397900583998125, 0.5928718701572062, 0.9995399537038534, 0.9996034384697875, 0.9056123148083786, 0.9998363607715671, 0.9997909895482695, 0.992408781249755, 0.9996089083341589, 0.9994558649283254, 0.9994761197177352, 0.9995846355427123, 0.9992345131031556, 0.997828964240312, 0.9996627187925148, 0.9988136132119776, 0.9992730200539629, 0.0020548471533273502, 0.9945460222104375, 0.999923365612239, 0.9991975565116793, 0.9995272668445696, 0.998297180502981, 0.9973139250478369, 0.9993397028368487, 0.9985618940021136], \"Term\": [\"able\", \"activate\", \"activate\", \"activate\", \"activate\", \"activate\", \"activate\", \"activate\", \"activate\", \"activate\", \"activation\", \"activation\", \"activation\", \"activation\", \"activation\", \"activation\", \"activation\", \"activation\", \"activation\", \"actually\", \"aesthetic\", \"aesthetic\", \"aesthetic\", \"aesthetic\", \"aesthetic\", \"aesthetic\", \"aesthetic\", \"aesthetic\", \"aesthetic\", \"ago\", \"all\", \"already\", \"also\", \"always\", \"amazing\", \"amazon\", \"announcement\", \"announcement\", \"announcement\", \"announcement\", \"announcement\", \"announcement\", \"announcement\", \"announcement\", \"announcement\", \"annoying\", \"around\", \"as\", \"ask\", \"at\", \"back\", \"bad\", \"basic\", \"basic\", \"basic\", \"basic\", \"basic\", \"basic\", \"basic\", \"basic\", \"basic\", \"basically\", \"before\", \"big\", \"bit\", \"board\", \"boot\", \"bootcamp\", \"bootcamp\", \"bootcamp\", \"bootcamp\", \"bootcamp\", \"bootcamp\", \"bootcamp\", \"bootcamp\", \"bootcamp\", \"bottleneck_effect\", \"bottleneck_effect\", \"bottleneck_effect\", \"bottleneck_effect\", \"bottleneck_effect\", \"bottleneck_effect\", \"bottleneck_effect\", \"bottleneck_effect\", \"bottleneck_effect\", \"brand\", \"bro\", \"budget\", \"build\", \"bundle\", \"buy\", \"cable\", \"calbee\", \"calbee\", \"calbee\", \"calbee\", \"calbee\", \"calbee\", \"calbee\", \"calbee\", \"calbee\", \"case\", \"cheap\", \"choice\", \"close\", \"com\", \"com_buildapcsales_comments\", \"com_buildapcsales_comments\", \"com_buildapcsales_comments\", \"com_buildapcsales_comments\", \"com_buildapcsales_comments\", \"com_buildapcsales_comments\", \"com_buildapcsales_comments\", \"com_buildapcsales_comments\", \"come\", \"comment_mention\", \"comment_mention\", \"comment_mention\", \"comment_mention\", \"comment_mention\", \"comment_mention\", \"comment_mention\", \"comment_mention\", \"comment_mention\", \"company\", \"company\", \"company\", \"compare\", \"completely\", \"computer\", \"connector\", \"consider\", \"core\", \"couple\", \"cpu\", \"create\", \"create\", \"create\", \"create\", \"create\", \"create\", \"create\", \"create\", \"create\", \"day\", \"ddr\", \"deal\", \"decent\", \"depend\", \"design\", \"device\", \"device\", \"device\", \"device\", \"device\", \"device\", \"device\", \"device\", \"die\", \"different\", \"discord\", \"dollar\", \"download\", \"download\", \"download\", \"download\", \"download\", \"drive\", \"driver\", \"drop\", \"early\", \"easily\", \"end\", \"enough\", \"ensure\", \"ensure\", \"ensure\", \"essentially\", \"essentially\", \"essentially\", \"essentially\", \"essentially\", \"essentially\", \"essentially\", \"essentially\", \"even\", \"expensive\", \"experience\", \"extra\", \"fair\", \"far\", \"fast\", \"feature\", \"feel\", \"fence\", \"fence\", \"fence\", \"fence\", \"fence\", \"fence\", \"fence\", \"fence\", \"fence\", \"few\", \"figure\", \"find\", \"fine\", \"finish\", \"first\", \"flash\", \"flash\", \"flash\", \"flash\", \"flash\", \"flash\", \"flash\", \"forget\", \"free\", \"future\", \"game\", \"gaming\", \"gb\", \"get\", \"give\", \"go\", \"good\", \"gpu\", \"great\", \"guy\", \"hard\", \"hardware\", \"have\", \"hdd\", \"hell\", \"high\", \"hit\", \"hold\", \"hot\", \"hot\", \"hot\", \"hot\", \"hot\", \"hot\", \"hot\", \"hot\", \"hot\", \"house\", \"house\", \"house\", \"house\", \"house\", \"house\", \"house\", \"https\", \"idea\", \"identical\", \"identical\", \"identical\", \"in\", \"include\", \"instal\", \"install\", \"instead\", \"issue\", \"just\", \"keep\", \"key\", \"key\", \"key\", \"key\", \"key\", \"key\", \"key\", \"kind\", \"kind_of\", \"kinda\", \"know\", \"last\", \"latency\", \"later\", \"least\", \"less\", \"level\", \"like\", \"literally\", \"little\", \"lol\", \"long\", \"look\", \"lose\", \"low\", \"mac\", \"mac\", \"mac\", \"mac\", \"mac\", \"mac\", \"mac\", \"mac\", \"mac\", \"machine\", \"machine\", \"machine\", \"main\", \"mainly\", \"make\", \"many\", \"matter\", \"maybe\", \"mean\", \"mhz\", \"microcenter\", \"miss\", \"mobo\", \"money\", \"monitor\", \"month\", \"more\", \"most\", \"mostly\", \"much\", \"name\", \"need\", \"new\", \"nice\", \"no\", \"non\", \"normal\", \"now\", \"nvme\", \"offer\", \"old\", \"one\", \"online\", \"only\", \"open\", \"option\", \"order\", \"os\", \"other\", \"overkill\", \"pair\", \"panel\", \"part\", \"pc\", \"pcie\", \"people\", \"perform\", \"performance\", \"personal\", \"pick\", \"place\", \"play\", \"plenty\", \"plug\", \"point\", \"pop\", \"power\", \"preferably\", \"preferably\", \"preferably\", \"preferably\", \"preferably\", \"preferably\", \"preferably\", \"preferably\", \"preferably\", \"pretty\", \"price\", \"pro\", \"psu\", \"purchase\", \"push\", \"put\", \"ram\", \"range\", \"rather\", \"re\", \"read\", \"realize\", \"really\", \"reason\", \"recent\", \"recent\", \"recent\", \"recent\", \"recent\", \"recent\", \"recent\", \"recent\", \"recently\", \"recently\", \"reddit\", \"reddit_user\", \"reddit_user\", \"reddit_user\", \"reddit_user\", \"reddit_user\", \"reddit_user\", \"reddit_user\", \"reddit_user\", \"reddit_user\", \"refresh\", \"replace\", \"replace\", \"replace\", \"replace\", \"replace\", \"replace\", \"replace\", \"replace\", \"replace\", \"require\", \"review\", \"right\", \"road\", \"road\", \"road\", \"run\", \"rx\", \"ryzen\", \"same\", \"save\", \"say\", \"see\", \"seem\", \"sell\", \"send\", \"series\", \"server\", \"server\", \"set\", \"single\", \"slightly\", \"slot\", \"slow\", \"so\", \"software\", \"sound\", \"source\", \"source\", \"source\", \"source\", \"source\", \"source\", \"source\", \"specific\", \"speed\", \"spend\", \"srslyguy\", \"srslyguy\", \"srslyguy\", \"srslyguy\", \"srslyguy\", \"srslyguy\", \"srslyguy\", \"srslyguy\", \"srslyguy\", \"start\", \"statement\", \"statement\", \"statement\", \"statement\", \"statement\", \"statement\", \"statement\", \"statement\", \"statement\", \"stick\", \"still\", \"stretch\", \"stretch\", \"stretch\", \"stretch\", \"stuff\", \"suggest\", \"super\", \"suppose\", \"sure\", \"take\", \"talk\", \"tech\", \"tell\", \"term\", \"then\", \"there\", \"thermal\", \"thing\", \"think\", \"tho\", \"though\", \"ti\", \"tier\", \"time\", \"timing\", \"too\", \"try\", \"turn\", \"ultrawide_setup\", \"ultrawide_setup\", \"ultrawide_setup\", \"ultrawide_setup\", \"ultrawide_setup\", \"ultrawide_setup\", \"ultrawide_setup\", \"ultrawide_setup\", \"ultrawide_setup\", \"update\", \"upgrade\", \"ur\", \"usb\", \"use\", \"usually\", \"version\", \"wait\", \"want\", \"way\", \"week\", \"weird\", \"well\", \"while\", \"whole\", \"win\", \"win\", \"window\", \"work\", \"worry\", \"worth\", \"www\", \"year\", \"yet\"]}, \"R\": 30, \"lambda.step\": 0.01, \"plot.opts\": {\"xlab\": \"PC1\", \"ylab\": \"PC2\"}, \"topic.order\": [9, 10, 4, 7, 3, 8, 5, 2, 6, 1]};\n",
              "\n",
              "function LDAvis_load_lib(url, callback){\n",
              "  var s = document.createElement('script');\n",
              "  s.src = url;\n",
              "  s.async = true;\n",
              "  s.onreadystatechange = s.onload = callback;\n",
              "  s.onerror = function(){console.warn(\"failed to load library \" + url);};\n",
              "  document.getElementsByTagName(\"head\")[0].appendChild(s);\n",
              "}\n",
              "\n",
              "if(typeof(LDAvis) !== \"undefined\"){\n",
              "   // already loaded: just create the visualization\n",
              "   !function(LDAvis){\n",
              "       new LDAvis(\"#\" + \"ldavis_el2191331828649121443804510931\", ldavis_el2191331828649121443804510931_data);\n",
              "   }(LDAvis);\n",
              "}else if(typeof define === \"function\" && define.amd){\n",
              "   // require.js is available: use it to load d3/LDAvis\n",
              "   require.config({paths: {d3: \"https://d3js.org/d3.v5\"}});\n",
              "   require([\"d3\"], function(d3){\n",
              "      window.d3 = d3;\n",
              "      LDAvis_load_lib(\"https://cdn.jsdelivr.net/gh/bmabey/pyLDAvis@3.4.0/pyLDAvis/js/ldavis.v3.0.0.js\", function(){\n",
              "        new LDAvis(\"#\" + \"ldavis_el2191331828649121443804510931\", ldavis_el2191331828649121443804510931_data);\n",
              "      });\n",
              "    });\n",
              "}else{\n",
              "    // require.js not available: dynamically load d3 & LDAvis\n",
              "    LDAvis_load_lib(\"https://d3js.org/d3.v5.js\", function(){\n",
              "         LDAvis_load_lib(\"https://cdn.jsdelivr.net/gh/bmabey/pyLDAvis@3.4.0/pyLDAvis/js/ldavis.v3.0.0.js\", function(){\n",
              "                 new LDAvis(\"#\" + \"ldavis_el2191331828649121443804510931\", ldavis_el2191331828649121443804510931_data);\n",
              "            })\n",
              "         });\n",
              "}\n",
              "</script>"
            ]
          },
          "metadata": {},
          "execution_count": 213
        }
      ],
      "source": [
        "pyLDAvis.enable_notebook()\n",
        "vis = pyLDAvis.gensim.prepare(lda_model, corpus, id2word, mds=\"mmds\", R=30)\n",
        "vis"
      ]
    }
  ],
  "metadata": {
    "colab": {
      "provenance": []
    },
    "kernelspec": {
      "display_name": "Python 3",
      "name": "python3"
    },
    "language_info": {
      "name": "python"
    }
  },
  "nbformat": 4,
  "nbformat_minor": 0
}